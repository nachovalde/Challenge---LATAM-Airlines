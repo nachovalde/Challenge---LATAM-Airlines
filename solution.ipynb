{
 "cells": [
  {
   "cell_type": "markdown",
   "id": "f68b6f44",
   "metadata": {},
   "source": [
    "# 0- Introducción"
   ]
  },
  {
   "cell_type": "markdown",
   "id": "6a33e4b7",
   "metadata": {},
   "source": [
    "## 0.1- Instalar librerías"
   ]
  },
  {
   "cell_type": "code",
   "execution_count": 1,
   "id": "5ac94f35",
   "metadata": {},
   "outputs": [
    {
     "name": "stdout",
     "output_type": "stream",
     "text": [
      "Requirement already satisfied: pandas in /Users/naxovalde/opt/anaconda3/lib/python3.8/site-packages (1.4.3)\n",
      "Requirement already satisfied: numpy>=1.18.5 in /Users/naxovalde/opt/anaconda3/lib/python3.8/site-packages (from pandas) (1.20.1)\n",
      "Requirement already satisfied: python-dateutil>=2.8.1 in /Users/naxovalde/opt/anaconda3/lib/python3.8/site-packages (from pandas) (2.8.1)\n",
      "Requirement already satisfied: pytz>=2020.1 in /Users/naxovalde/opt/anaconda3/lib/python3.8/site-packages (from pandas) (2021.1)\n",
      "Requirement already satisfied: six>=1.5 in /Users/naxovalde/opt/anaconda3/lib/python3.8/site-packages (from python-dateutil>=2.8.1->pandas) (1.15.0)\n",
      "Requirement already satisfied: scikit-plot in /Users/naxovalde/opt/anaconda3/lib/python3.8/site-packages (0.3.7)\n",
      "Requirement already satisfied: joblib>=0.10 in /Users/naxovalde/opt/anaconda3/lib/python3.8/site-packages (from scikit-plot) (1.0.1)\n",
      "Requirement already satisfied: matplotlib>=1.4.0 in /Users/naxovalde/opt/anaconda3/lib/python3.8/site-packages (from scikit-plot) (3.3.4)\n",
      "Requirement already satisfied: scipy>=0.9 in /Users/naxovalde/opt/anaconda3/lib/python3.8/site-packages (from scikit-plot) (1.6.2)\n",
      "Requirement already satisfied: scikit-learn>=0.18 in /Users/naxovalde/opt/anaconda3/lib/python3.8/site-packages (from scikit-plot) (1.1.1)\n",
      "Requirement already satisfied: pillow>=6.2.0 in /Users/naxovalde/opt/anaconda3/lib/python3.8/site-packages (from matplotlib>=1.4.0->scikit-plot) (8.2.0)\n",
      "Requirement already satisfied: kiwisolver>=1.0.1 in /Users/naxovalde/opt/anaconda3/lib/python3.8/site-packages (from matplotlib>=1.4.0->scikit-plot) (1.3.1)\n",
      "Requirement already satisfied: cycler>=0.10 in /Users/naxovalde/opt/anaconda3/lib/python3.8/site-packages (from matplotlib>=1.4.0->scikit-plot) (0.10.0)\n",
      "Requirement already satisfied: numpy>=1.15 in /Users/naxovalde/opt/anaconda3/lib/python3.8/site-packages (from matplotlib>=1.4.0->scikit-plot) (1.20.1)\n",
      "Requirement already satisfied: pyparsing!=2.0.4,!=2.1.2,!=2.1.6,>=2.0.3 in /Users/naxovalde/opt/anaconda3/lib/python3.8/site-packages (from matplotlib>=1.4.0->scikit-plot) (2.4.7)\n",
      "Requirement already satisfied: python-dateutil>=2.1 in /Users/naxovalde/opt/anaconda3/lib/python3.8/site-packages (from matplotlib>=1.4.0->scikit-plot) (2.8.1)\n",
      "Requirement already satisfied: six in /Users/naxovalde/opt/anaconda3/lib/python3.8/site-packages (from cycler>=0.10->matplotlib>=1.4.0->scikit-plot) (1.15.0)\n",
      "Requirement already satisfied: threadpoolctl>=2.0.0 in /Users/naxovalde/opt/anaconda3/lib/python3.8/site-packages (from scikit-learn>=0.18->scikit-plot) (2.1.0)\n"
     ]
    }
   ],
   "source": [
    "!pip install pandas\n",
    "!pip install scikit-plot"
   ]
  },
  {
   "cell_type": "markdown",
   "id": "d8e691a1",
   "metadata": {},
   "source": [
    "## 0.2- Importar Libreria"
   ]
  },
  {
   "cell_type": "code",
   "execution_count": 2,
   "id": "719d4022",
   "metadata": {},
   "outputs": [],
   "source": [
    "import pandas as pd\n",
    "import numpy as np\n",
    "import matplotlib.pyplot as plt"
   ]
  },
  {
   "cell_type": "markdown",
   "id": "67728fc7",
   "metadata": {},
   "source": [
    "## 0.3- Cargar Datos"
   ]
  },
  {
   "cell_type": "code",
   "execution_count": 3,
   "id": "ba4f4686",
   "metadata": {},
   "outputs": [
    {
     "name": "stderr",
     "output_type": "stream",
     "text": [
      "<ipython-input-3-9a1ffd226901>:1: DtypeWarning: Columns (1,6) have mixed types. Specify dtype option on import or set low_memory=False.\n",
      "  data = pd.read_csv('dataset_SCL.csv')\n"
     ]
    }
   ],
   "source": [
    "data = pd.read_csv('dataset_SCL.csv')"
   ]
  },
  {
   "cell_type": "markdown",
   "id": "278da71e",
   "metadata": {},
   "source": [
    "# 1- Analizar Datos"
   ]
  },
  {
   "cell_type": "markdown",
   "id": "226fb625",
   "metadata": {},
   "source": [
    "\n",
    "## 1.1- Esta sección tiene como objetivo entender mejor el dataset: Descripción de cada columna y cantidad de datos."
   ]
  },
  {
   "cell_type": "code",
   "execution_count": 4,
   "id": "c5fc6197",
   "metadata": {},
   "outputs": [
    {
     "name": "stdout",
     "output_type": "stream",
     "text": [
      "<class 'pandas.core.frame.DataFrame'>\n",
      "RangeIndex: 68206 entries, 0 to 68205\n",
      "Data columns (total 18 columns):\n",
      " #   Column     Non-Null Count  Dtype \n",
      "---  ------     --------------  ----- \n",
      " 0   Fecha-I    68206 non-null  object\n",
      " 1   Vlo-I      68206 non-null  object\n",
      " 2   Ori-I      68206 non-null  object\n",
      " 3   Des-I      68206 non-null  object\n",
      " 4   Emp-I      68206 non-null  object\n",
      " 5   Fecha-O    68206 non-null  object\n",
      " 6   Vlo-O      68205 non-null  object\n",
      " 7   Ori-O      68206 non-null  object\n",
      " 8   Des-O      68206 non-null  object\n",
      " 9   Emp-O      68206 non-null  object\n",
      " 10  DIA        68206 non-null  int64 \n",
      " 11  MES        68206 non-null  int64 \n",
      " 12  AÑO        68206 non-null  int64 \n",
      " 13  DIANOM     68206 non-null  object\n",
      " 14  TIPOVUELO  68206 non-null  object\n",
      " 15  OPERA      68206 non-null  object\n",
      " 16  SIGLAORI   68206 non-null  object\n",
      " 17  SIGLADES   68206 non-null  object\n",
      "dtypes: int64(3), object(15)\n",
      "memory usage: 9.4+ MB\n"
     ]
    }
   ],
   "source": [
    "# Información de cantidad de datos y columnas\n",
    "# Conocer los nombres y tipos de cada columna\n",
    "data.info()"
   ]
  },
  {
   "cell_type": "code",
   "execution_count": 5,
   "id": "9009cc66",
   "metadata": {},
   "outputs": [
    {
     "data": {
      "text/html": [
       "<div>\n",
       "<style scoped>\n",
       "    .dataframe tbody tr th:only-of-type {\n",
       "        vertical-align: middle;\n",
       "    }\n",
       "\n",
       "    .dataframe tbody tr th {\n",
       "        vertical-align: top;\n",
       "    }\n",
       "\n",
       "    .dataframe thead th {\n",
       "        text-align: right;\n",
       "    }\n",
       "</style>\n",
       "<table border=\"1\" class=\"dataframe\">\n",
       "  <thead>\n",
       "    <tr style=\"text-align: right;\">\n",
       "      <th></th>\n",
       "      <th>Fecha-I</th>\n",
       "      <th>Vlo-I</th>\n",
       "      <th>Ori-I</th>\n",
       "      <th>Des-I</th>\n",
       "      <th>Emp-I</th>\n",
       "      <th>Fecha-O</th>\n",
       "      <th>Vlo-O</th>\n",
       "      <th>Ori-O</th>\n",
       "      <th>Des-O</th>\n",
       "      <th>Emp-O</th>\n",
       "      <th>DIA</th>\n",
       "      <th>MES</th>\n",
       "      <th>AÑO</th>\n",
       "      <th>DIANOM</th>\n",
       "      <th>TIPOVUELO</th>\n",
       "      <th>OPERA</th>\n",
       "      <th>SIGLAORI</th>\n",
       "      <th>SIGLADES</th>\n",
       "    </tr>\n",
       "  </thead>\n",
       "  <tbody>\n",
       "    <tr>\n",
       "      <th>0</th>\n",
       "      <td>2017-01-01 23:30:00</td>\n",
       "      <td>226</td>\n",
       "      <td>SCEL</td>\n",
       "      <td>KMIA</td>\n",
       "      <td>AAL</td>\n",
       "      <td>2017-01-01 23:33:00</td>\n",
       "      <td>226</td>\n",
       "      <td>SCEL</td>\n",
       "      <td>KMIA</td>\n",
       "      <td>AAL</td>\n",
       "      <td>1</td>\n",
       "      <td>1</td>\n",
       "      <td>2017</td>\n",
       "      <td>Domingo</td>\n",
       "      <td>I</td>\n",
       "      <td>American Airlines</td>\n",
       "      <td>Santiago</td>\n",
       "      <td>Miami</td>\n",
       "    </tr>\n",
       "    <tr>\n",
       "      <th>1</th>\n",
       "      <td>2017-01-02 23:30:00</td>\n",
       "      <td>226</td>\n",
       "      <td>SCEL</td>\n",
       "      <td>KMIA</td>\n",
       "      <td>AAL</td>\n",
       "      <td>2017-01-02 23:39:00</td>\n",
       "      <td>226</td>\n",
       "      <td>SCEL</td>\n",
       "      <td>KMIA</td>\n",
       "      <td>AAL</td>\n",
       "      <td>2</td>\n",
       "      <td>1</td>\n",
       "      <td>2017</td>\n",
       "      <td>Lunes</td>\n",
       "      <td>I</td>\n",
       "      <td>American Airlines</td>\n",
       "      <td>Santiago</td>\n",
       "      <td>Miami</td>\n",
       "    </tr>\n",
       "    <tr>\n",
       "      <th>2</th>\n",
       "      <td>2017-01-03 23:30:00</td>\n",
       "      <td>226</td>\n",
       "      <td>SCEL</td>\n",
       "      <td>KMIA</td>\n",
       "      <td>AAL</td>\n",
       "      <td>2017-01-03 23:39:00</td>\n",
       "      <td>226</td>\n",
       "      <td>SCEL</td>\n",
       "      <td>KMIA</td>\n",
       "      <td>AAL</td>\n",
       "      <td>3</td>\n",
       "      <td>1</td>\n",
       "      <td>2017</td>\n",
       "      <td>Martes</td>\n",
       "      <td>I</td>\n",
       "      <td>American Airlines</td>\n",
       "      <td>Santiago</td>\n",
       "      <td>Miami</td>\n",
       "    </tr>\n",
       "    <tr>\n",
       "      <th>3</th>\n",
       "      <td>2017-01-04 23:30:00</td>\n",
       "      <td>226</td>\n",
       "      <td>SCEL</td>\n",
       "      <td>KMIA</td>\n",
       "      <td>AAL</td>\n",
       "      <td>2017-01-04 23:33:00</td>\n",
       "      <td>226</td>\n",
       "      <td>SCEL</td>\n",
       "      <td>KMIA</td>\n",
       "      <td>AAL</td>\n",
       "      <td>4</td>\n",
       "      <td>1</td>\n",
       "      <td>2017</td>\n",
       "      <td>Miercoles</td>\n",
       "      <td>I</td>\n",
       "      <td>American Airlines</td>\n",
       "      <td>Santiago</td>\n",
       "      <td>Miami</td>\n",
       "    </tr>\n",
       "    <tr>\n",
       "      <th>4</th>\n",
       "      <td>2017-01-05 23:30:00</td>\n",
       "      <td>226</td>\n",
       "      <td>SCEL</td>\n",
       "      <td>KMIA</td>\n",
       "      <td>AAL</td>\n",
       "      <td>2017-01-05 23:28:00</td>\n",
       "      <td>226</td>\n",
       "      <td>SCEL</td>\n",
       "      <td>KMIA</td>\n",
       "      <td>AAL</td>\n",
       "      <td>5</td>\n",
       "      <td>1</td>\n",
       "      <td>2017</td>\n",
       "      <td>Jueves</td>\n",
       "      <td>I</td>\n",
       "      <td>American Airlines</td>\n",
       "      <td>Santiago</td>\n",
       "      <td>Miami</td>\n",
       "    </tr>\n",
       "  </tbody>\n",
       "</table>\n",
       "</div>"
      ],
      "text/plain": [
       "               Fecha-I Vlo-I Ori-I Des-I Emp-I              Fecha-O Vlo-O  \\\n",
       "0  2017-01-01 23:30:00   226  SCEL  KMIA   AAL  2017-01-01 23:33:00   226   \n",
       "1  2017-01-02 23:30:00   226  SCEL  KMIA   AAL  2017-01-02 23:39:00   226   \n",
       "2  2017-01-03 23:30:00   226  SCEL  KMIA   AAL  2017-01-03 23:39:00   226   \n",
       "3  2017-01-04 23:30:00   226  SCEL  KMIA   AAL  2017-01-04 23:33:00   226   \n",
       "4  2017-01-05 23:30:00   226  SCEL  KMIA   AAL  2017-01-05 23:28:00   226   \n",
       "\n",
       "  Ori-O Des-O Emp-O  DIA  MES   AÑO     DIANOM TIPOVUELO              OPERA  \\\n",
       "0  SCEL  KMIA   AAL    1    1  2017    Domingo         I  American Airlines   \n",
       "1  SCEL  KMIA   AAL    2    1  2017      Lunes         I  American Airlines   \n",
       "2  SCEL  KMIA   AAL    3    1  2017     Martes         I  American Airlines   \n",
       "3  SCEL  KMIA   AAL    4    1  2017  Miercoles         I  American Airlines   \n",
       "4  SCEL  KMIA   AAL    5    1  2017     Jueves         I  American Airlines   \n",
       "\n",
       "   SIGLAORI SIGLADES  \n",
       "0  Santiago    Miami  \n",
       "1  Santiago    Miami  \n",
       "2  Santiago    Miami  \n",
       "3  Santiago    Miami  \n",
       "4  Santiago    Miami  "
      ]
     },
     "execution_count": 5,
     "metadata": {},
     "output_type": "execute_result"
    }
   ],
   "source": [
    "# Ejemplo de los datos\n",
    "data.head()"
   ]
  },
  {
   "cell_type": "code",
   "execution_count": 6,
   "id": "c3dacdd0",
   "metadata": {},
   "outputs": [
    {
     "data": {
      "text/html": [
       "<div>\n",
       "<style scoped>\n",
       "    .dataframe tbody tr th:only-of-type {\n",
       "        vertical-align: middle;\n",
       "    }\n",
       "\n",
       "    .dataframe tbody tr th {\n",
       "        vertical-align: top;\n",
       "    }\n",
       "\n",
       "    .dataframe thead th {\n",
       "        text-align: right;\n",
       "    }\n",
       "</style>\n",
       "<table border=\"1\" class=\"dataframe\">\n",
       "  <thead>\n",
       "    <tr style=\"text-align: right;\">\n",
       "      <th></th>\n",
       "      <th>Fecha-I</th>\n",
       "      <th>Vlo-I</th>\n",
       "      <th>Ori-I</th>\n",
       "      <th>Des-I</th>\n",
       "      <th>Emp-I</th>\n",
       "      <th>Fecha-O</th>\n",
       "      <th>Vlo-O</th>\n",
       "      <th>Ori-O</th>\n",
       "      <th>Des-O</th>\n",
       "      <th>Emp-O</th>\n",
       "      <th>DIA</th>\n",
       "      <th>MES</th>\n",
       "      <th>AÑO</th>\n",
       "      <th>DIANOM</th>\n",
       "      <th>TIPOVUELO</th>\n",
       "      <th>OPERA</th>\n",
       "      <th>SIGLAORI</th>\n",
       "      <th>SIGLADES</th>\n",
       "    </tr>\n",
       "  </thead>\n",
       "  <tbody>\n",
       "    <tr>\n",
       "      <th>68201</th>\n",
       "      <td>2017-12-22 14:55:00</td>\n",
       "      <td>400</td>\n",
       "      <td>SCEL</td>\n",
       "      <td>SPJC</td>\n",
       "      <td>JAT</td>\n",
       "      <td>2017-12-22 15:41:00</td>\n",
       "      <td>400.0</td>\n",
       "      <td>SCEL</td>\n",
       "      <td>SPJC</td>\n",
       "      <td>JAT</td>\n",
       "      <td>22</td>\n",
       "      <td>12</td>\n",
       "      <td>2017</td>\n",
       "      <td>Viernes</td>\n",
       "      <td>I</td>\n",
       "      <td>JetSmart SPA</td>\n",
       "      <td>Santiago</td>\n",
       "      <td>Lima</td>\n",
       "    </tr>\n",
       "    <tr>\n",
       "      <th>68202</th>\n",
       "      <td>2017-12-25 14:55:00</td>\n",
       "      <td>400</td>\n",
       "      <td>SCEL</td>\n",
       "      <td>SPJC</td>\n",
       "      <td>JAT</td>\n",
       "      <td>2017-12-25 15:11:00</td>\n",
       "      <td>400.0</td>\n",
       "      <td>SCEL</td>\n",
       "      <td>SPJC</td>\n",
       "      <td>JAT</td>\n",
       "      <td>25</td>\n",
       "      <td>12</td>\n",
       "      <td>2017</td>\n",
       "      <td>Lunes</td>\n",
       "      <td>I</td>\n",
       "      <td>JetSmart SPA</td>\n",
       "      <td>Santiago</td>\n",
       "      <td>Lima</td>\n",
       "    </tr>\n",
       "    <tr>\n",
       "      <th>68203</th>\n",
       "      <td>2017-12-27 14:55:00</td>\n",
       "      <td>400</td>\n",
       "      <td>SCEL</td>\n",
       "      <td>SPJC</td>\n",
       "      <td>JAT</td>\n",
       "      <td>2017-12-27 15:35:00</td>\n",
       "      <td>400.0</td>\n",
       "      <td>SCEL</td>\n",
       "      <td>SPJC</td>\n",
       "      <td>JAT</td>\n",
       "      <td>27</td>\n",
       "      <td>12</td>\n",
       "      <td>2017</td>\n",
       "      <td>Miercoles</td>\n",
       "      <td>I</td>\n",
       "      <td>JetSmart SPA</td>\n",
       "      <td>Santiago</td>\n",
       "      <td>Lima</td>\n",
       "    </tr>\n",
       "    <tr>\n",
       "      <th>68204</th>\n",
       "      <td>2017-12-29 14:55:00</td>\n",
       "      <td>400</td>\n",
       "      <td>SCEL</td>\n",
       "      <td>SPJC</td>\n",
       "      <td>JAT</td>\n",
       "      <td>2017-12-29 15:08:00</td>\n",
       "      <td>400.0</td>\n",
       "      <td>SCEL</td>\n",
       "      <td>SPJC</td>\n",
       "      <td>JAT</td>\n",
       "      <td>29</td>\n",
       "      <td>12</td>\n",
       "      <td>2017</td>\n",
       "      <td>Viernes</td>\n",
       "      <td>I</td>\n",
       "      <td>JetSmart SPA</td>\n",
       "      <td>Santiago</td>\n",
       "      <td>Lima</td>\n",
       "    </tr>\n",
       "    <tr>\n",
       "      <th>68205</th>\n",
       "      <td>2017-12-31 14:55:00</td>\n",
       "      <td>400</td>\n",
       "      <td>SCEL</td>\n",
       "      <td>SPJC</td>\n",
       "      <td>JAT</td>\n",
       "      <td>2017-12-31 15:04:00</td>\n",
       "      <td>400.0</td>\n",
       "      <td>SCEL</td>\n",
       "      <td>SPJC</td>\n",
       "      <td>JAT</td>\n",
       "      <td>31</td>\n",
       "      <td>12</td>\n",
       "      <td>2017</td>\n",
       "      <td>Domingo</td>\n",
       "      <td>I</td>\n",
       "      <td>JetSmart SPA</td>\n",
       "      <td>Santiago</td>\n",
       "      <td>Lima</td>\n",
       "    </tr>\n",
       "  </tbody>\n",
       "</table>\n",
       "</div>"
      ],
      "text/plain": [
       "                   Fecha-I Vlo-I Ori-I Des-I Emp-I              Fecha-O  \\\n",
       "68201  2017-12-22 14:55:00   400  SCEL  SPJC   JAT  2017-12-22 15:41:00   \n",
       "68202  2017-12-25 14:55:00   400  SCEL  SPJC   JAT  2017-12-25 15:11:00   \n",
       "68203  2017-12-27 14:55:00   400  SCEL  SPJC   JAT  2017-12-27 15:35:00   \n",
       "68204  2017-12-29 14:55:00   400  SCEL  SPJC   JAT  2017-12-29 15:08:00   \n",
       "68205  2017-12-31 14:55:00   400  SCEL  SPJC   JAT  2017-12-31 15:04:00   \n",
       "\n",
       "       Vlo-O Ori-O Des-O Emp-O  DIA  MES   AÑO     DIANOM TIPOVUELO  \\\n",
       "68201  400.0  SCEL  SPJC   JAT   22   12  2017    Viernes         I   \n",
       "68202  400.0  SCEL  SPJC   JAT   25   12  2017      Lunes         I   \n",
       "68203  400.0  SCEL  SPJC   JAT   27   12  2017  Miercoles         I   \n",
       "68204  400.0  SCEL  SPJC   JAT   29   12  2017    Viernes         I   \n",
       "68205  400.0  SCEL  SPJC   JAT   31   12  2017    Domingo         I   \n",
       "\n",
       "              OPERA  SIGLAORI SIGLADES  \n",
       "68201  JetSmart SPA  Santiago     Lima  \n",
       "68202  JetSmart SPA  Santiago     Lima  \n",
       "68203  JetSmart SPA  Santiago     Lima  \n",
       "68204  JetSmart SPA  Santiago     Lima  \n",
       "68205  JetSmart SPA  Santiago     Lima  "
      ]
     },
     "execution_count": 6,
     "metadata": {},
     "output_type": "execute_result"
    }
   ],
   "source": [
    "# Ejemplo de los datos\n",
    "data.tail()"
   ]
  },
  {
   "cell_type": "markdown",
   "id": "d6738b81",
   "metadata": {},
   "source": [
    "## 1.2- Rangos de cada columna"
   ]
  },
  {
   "cell_type": "code",
   "execution_count": 7,
   "id": "90ba41ff",
   "metadata": {},
   "outputs": [
    {
     "name": "stdout",
     "output_type": "stream",
     "text": [
      "Rango de Fecha programadas del vuelo\n",
      "2017-01-01 00:15:00  y  2017-12-31 23:55:00\n",
      "\n",
      "Rango de Fecha operación del vuelo\n",
      "2017-01-01 00:04:00  y  2018-01-01 00:12:00\n"
     ]
    }
   ],
   "source": [
    "print(\"Rango de Fecha programadas del vuelo\")\n",
    "print(min(data['Fecha-I']), \" y \", max(data['Fecha-I']))\n",
    "print()\n",
    "print(\"Rango de Fecha operación del vuelo\")\n",
    "print(min(data['Fecha-O']), \" y \", max(data['Fecha-O']))"
   ]
  },
  {
   "cell_type": "code",
   "execution_count": 8,
   "id": "8a5215dd",
   "metadata": {},
   "outputs": [
    {
     "name": "stdout",
     "output_type": "stream",
     "text": [
      "Valores distintos de número de vuelo programado: 750\n",
      "['226' '912' '940' '92' '93' '401' '11' '1011' '1281' '1283' '1285' '1287'\n",
      " '1289' '1291' '2291' '98' '116' '176' '240' '295' '689' '250' '112' '118'\n",
      " '174' '249' '276' '495' '4495' '146' '7661' '7663' '9245' '9268' '9362'\n",
      " '6830' '702' '624' '28' '846' '709' '741' '8021' '8023' '8027' '8029'\n",
      " '8069' '8073' '8075' '8099' '8125' '8137' '8160' '8161' '9601' '9615'\n",
      " '9651' '9653' '9661' '9689' '9782' '9623' '1' '3' '7' '9' '13' '15' '17'\n",
      " '21' '23' '25' '41' '43' '51' '53' '55' '61' '71' '73' '75' '81' '83'\n",
      " '102' '104' '106' '108' '110' '120' '122' '128' '130' '132' '134' '140'\n",
      " '142' '150' '156' '160' '162' '164' '166' '170' '172' '180' '182' '184'\n",
      " '186' '188' '190' '192' '194' '196' '501' '503' '507' '521' '531' '551'\n",
      " '800' '802' '804' '1083' '14' '31' '35' '37' '57' '65' '67' '69' '89'\n",
      " '91' '97' '114' '124' '126' '136' '138' '144' '148' '152' '154' '168'\n",
      " '178' '201' '203' '207' '209' '211' '213' '215' '217' '219' '221' '231'\n",
      " '233' '235' '237' '239' '241' '247' '251' '257' '259' '261' '263' '265'\n",
      " '267' '269' '271' '273' '275' '277' '279' '281' '283' '285' '287' '289'\n",
      " '291' '293' '297' '300' '302' '304' '306' '308' '312' '314' '318' '320'\n",
      " '322' '324' '326' '328' '330' '332' '334' '336' '338' '340' '342' '344'\n",
      " '346' '348' '350' '366' '374' '380' '382' '384' '386' '388' '396' '403'\n",
      " '405' '439' '443' '445' '449' '451' '455' '461' '481' '500' '502' '504'\n",
      " '510' '530' '532' '534' '546' '572' '574' '576' '582' '592' '600' '602'\n",
      " '622' '632' '642' '646' '648' '650' '704' '708' '750' '752' '760' '772'\n",
      " '776' '778' '798' '801' '833' '841' '843' '845' '849' '900' '902' '906'\n",
      " '910' '930' '932' '934' '942' '952' '954' '968' '970' '972' '986' '988'\n",
      " '991' '993' '1320' '1322' '1326' '1334' '1357' '1359' '1446' '1498'\n",
      " '2632' '2636' '2638' '2640' '2650' '2702' '4501' '4503' '1003' '1004'\n",
      " '1005' '1302' '1340' '200' '700' '1704' '33' '59' '95' '243' '634' '1200'\n",
      " '1202' '1300' '1071' '99' '158' '198' '205' '376' '378' '404' '406' '410'\n",
      " '414' '430' '432' '434' '438' '486' '492' '536' '638' '640' '644' '864'\n",
      " '890' '892' '1122' '1126' '1151' '1363' '1946' '2370' '2372' '2374'\n",
      " '7811' '7813' '1165' '1301' '1351' '1906' '204' '9625' '8665' '4950' '45'\n",
      " '100' '523' '1025' '4000' '63' '352' '354' '452' '460' '636' '674' '888'\n",
      " '895' '897' '1108' '1124' '1128' '1236' '1248' '2364' '2366' '2378'\n",
      " '2474' '2478' '1050' '1051' '1052' '1061' '1101' '1102' '1104' '1130'\n",
      " '1159' '1230' '202' '989P' '3000' '9000' '459' '483' '1114' '1168' '1238'\n",
      " '1239' '1261' '1107' '1140' '1167' '1271' '1031' '1700' '940P' '9659'\n",
      " '1551' '1800' '358' '1103' '1111' '2518' '7959' '400' '402' '2297' '9244'\n",
      " '9246' '9247' '9261' '9272' '9673' '9956' '9600' '9629' '9662' '9701'\n",
      " '9955' '5' '77' '553' '316' '368' '372' '470' '506' '604' '1136' '1158'\n",
      " '1242' '1244' '2368' '2486' '1105' '1106' '1113' '1115' '1132' '1155'\n",
      " '1166' '2488' '1400' '1033' '4' '8' '26' '22' '1927' '7721' '591P' '846A'\n",
      " '8519' '8525' '8541' '8542' '9622' '356' '1138' '1148' '1041' '6' '32'\n",
      " '50' '52' '86' '88' '9301' '9303' '47' '60' '1234' '1250' '1241' '1034'\n",
      " '1035' '1043' '7704' '10' '253' '1502' '8083' '8131' '9851' '27' '543'\n",
      " '1198' '39' '87' '390' '448' '664' '805' '1054' '1065' '1116' '1121'\n",
      " '1146' '1154' '1188' '1193' '1218' '1222' '1224' '1226' '1228' '1235'\n",
      " '1237' '1249' '1260' '1262' '1264' '1428' '7896' '7899' '1142' '1240'\n",
      " '2600' '30' '2092' '2093' '3624' '9643' '9461' '9510' '9540' '1104A'\n",
      " '706' '1088' '1091' '1099' '1134' '1169' '1170' '1195' '1199' '1243'\n",
      " '1251' '1257' '1277' '1279' '1233' '54' '1600' '2287' '4118' '9289' '85'\n",
      " '555' '620' '630' '1149' '1503' '1531' '232' 265 267 269 271 273 275 277\n",
      " 279 281 283 285 287 289 291 293 295 297 300 302 304 306 308 312 314 316\n",
      " 318 320 322 324 326 328 330 334 336 340 342 344 346 348 350 352 366 380\n",
      " 382 384 386 388 390 404 406 410 414 430 432 434 439 443 445 448 449 455\n",
      " 461 481 486 492 500 502 510 530 532 536 546 572 574 576 582 592 600 602\n",
      " 622 632 638 642 702 704 706 708 750 752 755 757 763 801 805 833 841 843\n",
      " 864 888 890 892 895 897 1088 1091 1117 1126 1128 1134 1136 1141 1146 1166\n",
      " 1170 1176 1178 1186 1188 1191 1193 1197 1199 1222 1224 1226 1241 1243\n",
      " 1246 1247 1259 1267 1269 1277 1279 1281 1446 2370 2372 2374 2474 7811\n",
      " 7813 7896 7899 7911 1101 1102 1106 1230 1235 1236 1237 1238 1239 1261 33\n",
      " 43 50 54 200 202 402 700 1031 1033 4 6 8 10 26 32 52 86 88 110 112 201\n",
      " 203 207 251 253 255 301 305 307 400]\n"
     ]
    }
   ],
   "source": [
    "print(\"Valores distintos de número de vuelo programado: \" + str(data['Vlo-I'].nunique()))\n",
    "print(data['Vlo-I'].unique())"
   ]
  },
  {
   "cell_type": "code",
   "execution_count": 9,
   "id": "8977f4c4",
   "metadata": {},
   "outputs": [
    {
     "name": "stdout",
     "output_type": "stream",
     "text": [
      "Valores distintos de número de vuelo de operación:  866\n",
      "['226' '912' '940' '92' '93' '401' '11' '1011' '1281' '1283' '1285' '1287'\n",
      " '1289' '1291' '2291' '98' '116' '176' '240' '295' '689' '250' '112' '118'\n",
      " '174' '249' '276' '495' '4495' '146' '7661' '7663' '9245' '9268' '9362'\n",
      " '6830' '702' '624' '28' '846' '709' '741' '8021' '8023' '8027' '8029'\n",
      " '8069' '8073' '8075' '8099' '8125' '8137' '8160' '8161' '9601' '9615'\n",
      " '9651' '9653' '9661' '9689' '9782' '9623' '1' '3' '7' '9' '13' '15' '17'\n",
      " '21' '23' '25' '41' '43' '51' '53' '55' '61' '71' '73' '75' '81' '83'\n",
      " '102' '104' '106' '108' '110' '120' '122' '128' '130' '132' '134' '140'\n",
      " '142' '150' '156' '160' '162' '164' '166' '170' '172' '180' '182' '184'\n",
      " '186' '188' '190' '192' '194' '196' '501' '503' '507' '521' '531' '551'\n",
      " '800' '802' '804' '1083' '14' '31' '35' '37' '57' '65' '67' '69' '89'\n",
      " '91' '97' '114' '124' '126' '136' '138' '144' '148' '152' '154' '168'\n",
      " '178' '201' '203' '207' '209' '211' '213' '215' '217' '219' '221' '231'\n",
      " '233' '235' '237' '239' '241' '247' '251' '257' '259' '261' '263' '265'\n",
      " '267' '269' '271' '273' '275' '277' '279' '281' '283' '285' '287' '289'\n",
      " '291' '293' '297' '300' '302' '304' '306' '308' '312' '314' '318' '320'\n",
      " '322' '324' '326' '328' '330' '332' '334' '336' '338' '340' '342' '344'\n",
      " '346' '348' '350' '366' '374' '380' '382' '384' '386' '388' '396' '403'\n",
      " '405' '439' '443' '445' '449' '451' '455' '461' '481' '500' '502' '504'\n",
      " '510' '530' '532' '534' '546' '572' '574' '576' '582' '592' '600' '602'\n",
      " '622' '632' '642' '646' '648' '650' '704' '708' '750' '752' '760' '772'\n",
      " '776' '778' '798' '801' '833' '841' '843' '845' '849' '900' '902' '906'\n",
      " '910' '930' '932' '934' '942' '952' '954' '968' '970' '972' '986' '988'\n",
      " '991' '993' '1320' '1322' '1326' '1334' '1357' '1359' '1446' '1498'\n",
      " '2632' '2636' '2638' '2640' '2650' '2702' '4501' '1001' '1003' '4503'\n",
      " '1004' '1005' '1302' '1340' '200' nan '700' '1700' '33' '59' '95' '243'\n",
      " '1318' '634' '1304' '1303' '1200' '1202' '1300' '71R' '99' '158' '198'\n",
      " '205' '1101' '376' '378' '404' '406' '410' '414' '430' '432' '434' '438'\n",
      " '486' '492' '1346' '536' '638' '640' '644' '864' '890' '892' '1122'\n",
      " '1126' '1151' '1363' '1361' '1946' '2370' '2372' '2374' '7811' '1103'\n",
      " '1061' '7813' '1071' '201R' '1165' '1301' '1351' '1906' '202' '1704'\n",
      " '9625' '8665' '4950' '45' '100' '523' '1025' '4000' '63' '352' '354'\n",
      " '452' '460' '636' '674' '888' '895' '897' '1108' '1124' '1128' '1236'\n",
      " '1248' '2364' '2366' '2378' '2474' '2478' '1050' '1051' '1052' '1102'\n",
      " '1104' '1130' '1159' '1230' '43R' '989' '2093' '401A' '401B' '3000'\n",
      " '9000' '802R' '459' '483' '1160' '1114' '1168' '1238' '1239' '1261'\n",
      " '114R' '622R' '1107' '1140' '1167' '1271' '1031' '9659' '1551' '1800'\n",
      " '358' '492R' '1111' '2518' '7959' '1041' '400' '402' '2297' '1297' '4118'\n",
      " '9858' '9860' '9244' '9246' '9247' '9261' '9272' '2726' '9673' '9956'\n",
      " '9600' '9629' '9662' '9701' '9955' '5' '77' '553' '316' '368' '372'\n",
      " '1155' '470' '506' '604' '2486' '1136' '1158' '1242' '1244' '2368' '1113'\n",
      " '338R' '1105' '1106' '1115' '1132' '1166' '2488' '1400' '1033' '4' '8'\n",
      " '26' '22' '1927' '7721' '922' '5924' '591P' '2763' '2804' '8519' '8525'\n",
      " '8541' '8542' '9622' '356' '1138' '1148' '6' '32' '50' '52' '86' '88'\n",
      " '9301' '9303' '846A' '47' '60' '1234' '1250' '1241' '1034' '1035' '1043'\n",
      " '7704' '10' '253' '1502' '8083' '8131' '9851' '27' '543' '1198' '39' '87'\n",
      " '390' '448' '664' '805' '1054' '1065' '1116' '1121' '1146' '1154' '1188'\n",
      " '1193' '1218' '1222' '1224' '1226' '1228' '1235' '1237' '1249' '1260'\n",
      " '1262' '1264' '1428' '7896' '7899' '502R' '1142' '1240' '2600' '30'\n",
      " '2092' '3624' '9643' '9461' '9510' '9540' '706' '1088' '1091' '1099'\n",
      " '1134' '1169' '1170' '1195' '1199' '1243' '1251' '1257' '1277' '1279'\n",
      " '207R' '1233' '54' '1600' '2287' '9289' '85' '150.0' '156.0' '160.0'\n",
      " '162.0' '164.0' '166.0' '168.0' '170.0' '172.0' '174.0' '176.0' '180.0'\n",
      " '182.0' '184.0' '186.0' '190.0' '192.0' '194.0' '196.0' '198.0' '501.0'\n",
      " '503.0' '507.0' '521.0' '531.0' '543.0' '551.0' '553.0' '555.0' '620.0'\n",
      " '630.0' '800.0' '802.0' '804.0' '1149.0' '1503.0' '1531.0' '1.0' '9.0'\n",
      " '14.0' '31.0' '35.0' '37.0' '39.0' '53.0' '57.0' '59.0' '61.0' '63.0'\n",
      " '65.0' '69.0' '87.0' '91.0' '93.0' '95.0' '97.0' '99.0' '114.0' '120.0'\n",
      " '122.0' '124.0' '126.0' '128.0' '130.0' '134.0' '136.0' '138.0' '140.0'\n",
      " '142.0' '144.0' '146.0' '148.0' '152.0' '154.0' '158.0' '188.0' '201.0'\n",
      " '203.0' '205.0' '207.0' '209.0' '211.0' '213.0' '215.0' '217.0' '219.0'\n",
      " '221.0' '231.0' '232.0' '235.0' '237.0' '239.0' '241.0' '251.0' '257.0'\n",
      " '259.0' '261.0' '263.0' '265.0' 265.0 267.0 269.0 271.0 273.0 275.0 277.0\n",
      " 279.0 281.0 283.0 285.0 287.0 289.0 291.0 293.0 295.0 297.0 300.0 302.0\n",
      " 304.0 306.0 308.0 312.0 314.0 316.0 318.0 320.0 322.0 324.0 326.0 328.0\n",
      " 330.0 334.0 336.0 340.0 342.0 344.0 346.0 348.0 350.0 352.0 366.0 380.0\n",
      " 382.0 384.0 386.0 388.0 390.0 404.0 406.0 410.0 414.0 430.0 432.0 434.0\n",
      " 439.0 443.0 445.0 448.0 449.0 455.0 461.0 481.0 486.0 492.0 500.0 502.0\n",
      " 510.0 530.0 532.0 536.0 546.0 572.0 574.0 576.0 582.0 592.0 600.0 602.0\n",
      " 622.0 632.0 638.0 642.0 702.0 704.0 706.0 708.0 750.0 752.0 755.0 757.0\n",
      " 763.0 801.0 805.0 833.0 841.0 843.0 864.0 888.0 890.0 892.0 895.0 897.0\n",
      " 1088.0 1091.0 1117.0 1126.0 1128.0 1134.0 1136.0 1141.0 1146.0 1166.0\n",
      " 1170.0 1176.0 1178.0 1186.0 1188.0 1191.0 1193.0 1197.0 1199.0 1222.0\n",
      " 1224.0 1226.0 1241.0 1243.0 1246.0 1247.0 1259.0 1267.0 1269.0 1277.0\n",
      " 1279.0 1281.0 1446.0 2370.0 2372.0 2374.0 2474.0 7811.0 7813.0 7896.0\n",
      " 7899.0 7911.0 1101.0 1102.0 1106.0 1230.0 1235.0 1236.0 1237.0 1238.0\n",
      " 1239.0 1261.0 33.0 43.0 50.0 54.0 200.0 202.0 402.0 700.0 1031.0 1033.0\n",
      " 4.0 6.0 8.0 10.0 26.0 32.0 52.0 86.0 88.0 110.0 112.0 201.0 203.0 207.0\n",
      " 251.0 253.0 255.0 301.0 305.0 307.0 400.0]\n"
     ]
    }
   ],
   "source": [
    "print(\"Valores distintos de número de vuelo de operación: \", str(data['Vlo-O'].nunique()))\n",
    "print(data['Vlo-O'].unique())"
   ]
  },
  {
   "cell_type": "code",
   "execution_count": 10,
   "id": "71a0dbbf",
   "metadata": {},
   "outputs": [
    {
     "name": "stdout",
     "output_type": "stream",
     "text": [
      "Valores distintos de códigos de ciudad de origen programado:  1\n",
      "['SCEL']\n",
      "\n",
      "Valores distintos de códigos de ciudad de origen de operación:  1\n",
      "['SCEL']\n"
     ]
    }
   ],
   "source": [
    "print(\"Valores distintos de códigos de ciudad de origen programado: \", str(data['Ori-I'].nunique()))\n",
    "print(data['Ori-I'].unique())\n",
    "print()\n",
    "print(\"Valores distintos de códigos de ciudad de origen de operación: \", str(data['Ori-O'].nunique()))\n",
    "print(data['Ori-O'].unique())"
   ]
  },
  {
   "cell_type": "code",
   "execution_count": 11,
   "id": "8ecf9b8a",
   "metadata": {},
   "outputs": [
    {
     "name": "stdout",
     "output_type": "stream",
     "text": [
      "Valores distintos de códigos de ciudad de destino programado:  64\n",
      "['KMIA' 'KDFW' 'SAEZ' 'CYYZ' 'LFPG' 'MMMX' 'SABE' 'SKBO' 'LIRF' 'EGLL'\n",
      " 'MPTO' 'KATL' 'SBGR' 'SBGL' 'SBFL' 'LEMD' 'SPJC' 'YSSY' 'KIAH' 'SGAS'\n",
      " 'SBFI' 'SCTE' 'SCCI' 'SCNT' 'SCBA' 'SCVD' 'SCQP' 'SCIE' 'SCSE' 'SCAT'\n",
      " 'SCCF' 'SCFA' 'SCDA' 'SCAR' 'SAME' 'SACO' 'SUMU' 'SCPQ' 'SCJO' 'KMCO'\n",
      " 'KJFK' 'SEGU' 'MMUN' 'MDPC' 'KLAX' 'NZAA' 'SCIP' 'SLLP' 'SLVR' 'SBCT'\n",
      " 'SEQM' 'SAZS' 'SAAR' 'SANT' 'YMML' 'SEQU' 'SANU' 'SAZN' 'SPSO' 'SAWH'\n",
      " 'EGYP' 'SULS' 'SLCB' 'SARI']\n",
      "\n",
      "Valores distintos de códigos de ciudad de destino de operación:  63\n",
      "['KMIA' 'KDFW' 'SAEZ' 'CYYZ' 'LFPG' 'MMMX' 'SABE' 'SKBO' 'LIRF' 'EGLL'\n",
      " 'MPTO' 'KATL' 'SBGR' 'SBGL' 'SBFL' 'LEMD' 'SPJC' 'YSSY' 'KIAH' 'SGAS'\n",
      " 'SBFI' 'SCTE' 'SCCI' 'SCNT' 'SCBA' 'SCQP' 'SCVD' 'SCIE' 'SCSE' 'SCAT'\n",
      " 'SCCF' 'SCFA' 'SCDA' 'SCAR' 'SAME' 'SACO' 'SUMU' 'SCPQ' 'SCJO' 'KMCO'\n",
      " 'KJFK' 'SEGU' 'MMUN' 'MDPC' 'KLAX' 'NZAA' 'SCIP' 'SLLP' 'SLVR' 'SBCT'\n",
      " 'SEQM' 'SAZS' 'SAAR' 'KIAD' 'SANT' 'YMML' 'SANU' 'SAZN' 'SPSO' 'SAWH'\n",
      " 'EGYP' 'SULS' 'SLCB']\n"
     ]
    }
   ],
   "source": [
    "print(\"Valores distintos de códigos de ciudad de destino programado: \", str(data['Des-I'].nunique()))\n",
    "print(data['Des-I'].unique())\n",
    "print()\n",
    "print(\"Valores distintos de códigos de ciudad de destino de operación: \", str(data['Des-O'].nunique()))\n",
    "print(data['Des-O'].unique())"
   ]
  },
  {
   "cell_type": "code",
   "execution_count": 12,
   "id": "36cdcc5c",
   "metadata": {},
   "outputs": [
    {
     "name": "stdout",
     "output_type": "stream",
     "text": [
      "Valores distintos de código aerolínea de vuelo programado:  30\n",
      "['AAL' 'ACA' 'AFR' 'AMX' 'ARG' 'AUT' 'AVA' 'AZA' 'BAW' 'CMP' 'DAL' 'GLO'\n",
      " 'IBE' 'KLM' 'QFU' 'UAL' 'LAP' 'TAM' 'SKU' 'LAN' 'LAW' 'JMR' 'LXP' 'LNE'\n",
      " 'LPE' 'DSM' 'PUE' 'JAT' 'ONE' 'LRC']\n",
      "\n",
      "Valores distintos de código aerolínea de vuelo de operación:  32\n",
      "['AAL' 'ACA' 'AFR' 'AMX' 'ARG' 'AUT' 'AVA' 'AZA' 'BAW' 'CMP' 'DAL' 'GLO'\n",
      " 'IBE' 'KLM' 'LRC' 'QFA' 'UAL' 'LAP' 'TAM' 'SKU' 'LAN' 'LXP' 'LNE' 'LPE'\n",
      " 'DSM' '48O' '56R' 'JMR' 'PUE' 'JAT' 'TPU' 'ONE']\n"
     ]
    }
   ],
   "source": [
    "print(\"Valores distintos de código aerolínea de vuelo programado: \", str(data['Emp-I'].nunique()))\n",
    "print(data['Emp-I'].unique())\n",
    "print()\n",
    "print(\"Valores distintos de código aerolínea de vuelo de operación: \", str(data['Emp-O'].nunique()))\n",
    "print(data['Emp-O'].unique())"
   ]
  },
  {
   "cell_type": "code",
   "execution_count": 13,
   "id": "9a4f4651",
   "metadata": {},
   "outputs": [
    {
     "name": "stdout",
     "output_type": "stream",
     "text": [
      "Rango de Dias:  1  y  31\n",
      "Rango de Meses:  1  y  12\n",
      "Rango de Año:  2017  y  2018\n"
     ]
    }
   ],
   "source": [
    "print(\"Rango de Dias: \", min(data['DIA']), \" y \", max(data['DIA']))\n",
    "print(\"Rango de Meses: \", min(data['MES']), \" y \", max(data['MES']))\n",
    "print(\"Rango de Año: \", min(data['AÑO']), \" y \", max(data['AÑO']))"
   ]
  },
  {
   "cell_type": "code",
   "execution_count": 14,
   "id": "3d8a2172",
   "metadata": {},
   "outputs": [
    {
     "name": "stdout",
     "output_type": "stream",
     "text": [
      "Valores distintos de día de la semana:  7\n",
      "['Domingo' 'Lunes' 'Martes' 'Miercoles' 'Jueves' 'Sabado' 'Viernes']\n"
     ]
    }
   ],
   "source": [
    "print(\"Valores distintos de día de la semana: \", str(data['DIANOM'].nunique()))\n",
    "print(data['DIANOM'].unique())"
   ]
  },
  {
   "cell_type": "code",
   "execution_count": 15,
   "id": "57c235e0",
   "metadata": {},
   "outputs": [
    {
     "name": "stdout",
     "output_type": "stream",
     "text": [
      "Valores distintos tipo de vuelo:  2\n",
      "['I' 'N']\n"
     ]
    }
   ],
   "source": [
    "print(\"Valores distintos tipo de vuelo: \", str(data['TIPOVUELO'].nunique()))\n",
    "print(data['TIPOVUELO'].unique())"
   ]
  },
  {
   "cell_type": "code",
   "execution_count": 16,
   "id": "2213566c",
   "metadata": {},
   "outputs": [
    {
     "name": "stdout",
     "output_type": "stream",
     "text": [
      "Valores distintos nombre aerolíneas:  23\n",
      "['American Airlines' 'Air Canada' 'Air France' 'Aeromexico'\n",
      " 'Aerolineas Argentinas' 'Austral' 'Avianca' 'Alitalia' 'British Airways'\n",
      " 'Copa Air' 'Delta Air' 'Gol Trans' 'Iberia' 'K.L.M.' 'Qantas Airways'\n",
      " 'United Airlines' 'Grupo LATAM' 'Sky Airline' 'Latin American Wings'\n",
      " 'Plus Ultra Lineas Aereas' 'JetSmart SPA' 'Oceanair Linhas Aereas'\n",
      " 'Lacsa']\n"
     ]
    }
   ],
   "source": [
    "print(\"Valores distintos nombre aerolíneas: \", str(data['OPERA'].nunique()))\n",
    "print(data['OPERA'].unique())"
   ]
  },
  {
   "cell_type": "code",
   "execution_count": 17,
   "id": "9afb8aa7",
   "metadata": {},
   "outputs": [
    {
     "name": "stdout",
     "output_type": "stream",
     "text": [
      "Valores distintos nombre ciudad origen:  1\n",
      "['Santiago']\n",
      "\n",
      "Valores distintos nombre ciudad destino:  62\n",
      "['Miami' 'Dallas' 'Buenos Aires' 'Toronto' 'Paris' 'Ciudad de Mexico'\n",
      " 'Bogota' 'Roma' 'Londres' 'Ciudad de Panama' 'Atlanta' 'Sao Paulo'\n",
      " 'Rio de Janeiro' 'Florianapolis' 'Madrid' 'Lima' 'Sydney' 'Houston'\n",
      " 'Asuncion' 'Cataratas Iguacu' 'Puerto Montt' 'Punta Arenas'\n",
      " 'Puerto Natales' 'Balmaceda' 'Temuco' 'Valdivia' 'Concepcion' 'La Serena'\n",
      " 'Copiapo' 'Calama' 'Antofagasta' 'Iquique' 'Arica' 'Mendoza' 'Cordoba'\n",
      " 'Montevideo' 'Castro (Chiloe)' 'Osorno' 'Orlando' 'Nueva York'\n",
      " 'Guayaquil' 'Cancun' 'Punta Cana' 'Los Angeles' 'Auckland N.Z.'\n",
      " 'Isla de Pascua' 'La Paz' 'Santa Cruz' 'Curitiba, Bra.' 'Quito'\n",
      " 'Bariloche' 'Rosario' 'Washington' 'Tucuman' 'Melbourne' 'San Juan, Arg.'\n",
      " 'Neuquen' 'Pisco, Peru' 'Ushuia' 'Puerto Stanley' 'Punta del Este'\n",
      " 'Cochabamba']\n"
     ]
    }
   ],
   "source": [
    "print(\"Valores distintos nombre ciudad origen: \", str(data['SIGLAORI'].nunique()))\n",
    "print(data['SIGLAORI'].unique())\n",
    "print()\n",
    "print(\"Valores distintos nombre ciudad destino: \", str(data['SIGLADES'].nunique()))\n",
    "print(data['SIGLADES'].unique())"
   ]
  },
  {
   "cell_type": "markdown",
   "id": "4591c927",
   "metadata": {},
   "source": [
    "## 1.3- Distribución de las variables"
   ]
  },
  {
   "cell_type": "markdown",
   "id": "98ce57f4",
   "metadata": {},
   "source": [
    "### Descartamos Año, al tener todo el dataset contenido en un año."
   ]
  },
  {
   "cell_type": "code",
   "execution_count": 18,
   "id": "2db517b8",
   "metadata": {},
   "outputs": [
    {
     "data": {
      "image/png": "[encoded data removed]",
      "text/plain": [
       "<Figure size 432x288 with 1 Axes>"
      ]
     },
     "metadata": {
      "needs_background": "light"
     },
     "output_type": "display_data"
    },
    {
     "data": {
      "text/plain": [
       "Viernes      0.150896\n",
       "Jueves       0.150295\n",
       "Lunes        0.148535\n",
       "Domingo      0.143624\n",
       "Miercoles    0.142539\n",
       "Martes       0.141659\n",
       "Sabado       0.122453\n",
       "Name: DIANOM, dtype: float64"
      ]
     },
     "execution_count": 18,
     "metadata": {},
     "output_type": "execute_result"
    }
   ],
   "source": [
    "# Distribución de dia nominal\n",
    "plt.hist(data['DIANOM'], data['DIANOM'].nunique(), histtype='bar', ec='black')\n",
    "plt.show()\n",
    "#data['DIANOM'].value_counts()\n",
    "data['DIANOM'].value_counts(normalize = True)"
   ]
  },
  {
   "cell_type": "code",
   "execution_count": 19,
   "id": "a3582278",
   "metadata": {},
   "outputs": [
    {
     "data": {
      "image/png": "[encoded data removed]",
      "text/plain": [
       "<Figure size 432x288 with 1 Axes>"
      ]
     },
     "metadata": {
      "needs_background": "light"
     },
     "output_type": "display_data"
    },
    {
     "data": {
      "text/plain": [
       "12    0.093188\n",
       "1     0.089552\n",
       "11    0.089142\n",
       "10    0.088438\n",
       "7     0.087852\n",
       "8     0.084215\n",
       "9     0.082251\n",
       "2     0.081532\n",
       "3     0.080374\n",
       "5     0.076826\n",
       "4     0.073601\n",
       "6     0.073029\n",
       "Name: MES, dtype: float64"
      ]
     },
     "execution_count": 19,
     "metadata": {},
     "output_type": "execute_result"
    }
   ],
   "source": [
    "# Distribución de mes\n",
    "plt.hist(data['MES'], data['MES'].nunique(), histtype='bar', ec='black')\n",
    "plt.show()\n",
    "#data['MES'].value_counts()\n",
    "data['MES'].value_counts(normalize = True)"
   ]
  },
  {
   "cell_type": "code",
   "execution_count": 20,
   "id": "4f31f8eb",
   "metadata": {},
   "outputs": [
    {
     "data": {
      "image/png": "[encoded data removed]",
      "text/plain": [
       "<Figure size 432x288 with 1 Axes>"
      ]
     },
     "metadata": {
      "needs_background": "light"
     },
     "output_type": "display_data"
    }
   ],
   "source": [
    "# Distribución de día\n",
    "plt.hist(data['DIA'], data['DIA'].nunique(), histtype='bar', ec='black')\n",
    "plt.show()\n",
    "# Es de esperarse la baja porque no todos los meses tiene 31 o el caso de febrero que no tiene 29 y 30"
   ]
  },
  {
   "cell_type": "code",
   "execution_count": 21,
   "id": "ac824e32",
   "metadata": {},
   "outputs": [
    {
     "data": {
      "image/png": "[encoded data removed]",
      "text/plain": [
       "<Figure size 432x288 with 1 Axes>"
      ]
     },
     "metadata": {
      "needs_background": "light"
     },
     "output_type": "display_data"
    },
    {
     "data": {
      "text/plain": [
       "N    0.541976\n",
       "I    0.458024\n",
       "Name: TIPOVUELO, dtype: float64"
      ]
     },
     "execution_count": 21,
     "metadata": {},
     "output_type": "execute_result"
    }
   ],
   "source": [
    "# Distribución del tipo de vuelo\n",
    "plt.hist(data['TIPOVUELO'], data['TIPOVUELO'].nunique(), histtype='bar', ec='black')\n",
    "plt.show()\n",
    "#data['TIPOVUELO'].value_counts()\n",
    "data['TIPOVUELO'].value_counts(normalize = True)"
   ]
  },
  {
   "cell_type": "code",
   "execution_count": 22,
   "id": "2f79c9a9",
   "metadata": {},
   "outputs": [
    {
     "data": {
      "image/png": "[encoded data removed]",
      "text/plain": [
       "<Figure size 432x288 with 1 Axes>"
      ]
     },
     "metadata": {
      "needs_background": "light"
     },
     "output_type": "display_data"
    },
    {
     "data": {
      "text/plain": [
       "LAN    0.551432\n",
       "SKU    0.209630\n",
       "TAM    0.044703\n",
       "ARG    0.028575\n",
       "CMP    0.027124\n",
       "LAW    0.023077\n",
       "AVA    0.016890\n",
       "JAT    0.016054\n",
       "GLO    0.011817\n",
       "AAL    0.011099\n",
       "ACA    0.008284\n",
       "IBE    0.005307\n",
       "AFR    0.005249\n",
       "DAL    0.005249\n",
       "AMX    0.005146\n",
       "UAL    0.004912\n",
       "ONE    0.004091\n",
       "AZA    0.003797\n",
       "KLM    0.003680\n",
       "LAP    0.003167\n",
       "BAW    0.003006\n",
       "QFU    0.002859\n",
       "JMR    0.001466\n",
       "LRC    0.001349\n",
       "AUT    0.001085\n",
       "PUE    0.000718\n",
       "LXP    0.000132\n",
       "LPE    0.000059\n",
       "DSM    0.000029\n",
       "LNE    0.000015\n",
       "Name: Emp-I, dtype: float64"
      ]
     },
     "execution_count": 22,
     "metadata": {},
     "output_type": "execute_result"
    }
   ],
   "source": [
    "# Distribución de la aerolinea de vuelo programado\n",
    "plt.hist(data['Emp-I'], data['Emp-I'].nunique(), histtype='bar', ec='black')\n",
    "plt.show()\n",
    "#data['Emp-I'].value_counts()\n",
    "data['Emp-I'].value_counts(normalize = True)"
   ]
  },
  {
   "cell_type": "code",
   "execution_count": 23,
   "id": "d25cc6b8",
   "metadata": {},
   "outputs": [
    {
     "data": {
      "image/png": "[encoded data removed]",
      "text/plain": [
       "<Figure size 432x288 with 1 Axes>"
      ]
     },
     "metadata": {
      "needs_background": "light"
     },
     "output_type": "display_data"
    },
    {
     "data": {
      "text/plain": [
       "LAN    0.307715\n",
       "LXP    0.213442\n",
       "SKU    0.209630\n",
       "TAM    0.044659\n",
       "ARG    0.028531\n",
       "CMP    0.027124\n",
       "JMR    0.024147\n",
       "LPE    0.017799\n",
       "JAT    0.016054\n",
       "AVA    0.012975\n",
       "GLO    0.011817\n",
       "AAL    0.011099\n",
       "ACA    0.008284\n",
       "DSM    0.007228\n",
       "LNE    0.005483\n",
       "IBE    0.005307\n",
       "AFR    0.005249\n",
       "DAL    0.005249\n",
       "LRC    0.005234\n",
       "AMX    0.005146\n",
       "UAL    0.004912\n",
       "ONE    0.004091\n",
       "AZA    0.003797\n",
       "KLM    0.003680\n",
       "LAP    0.003211\n",
       "BAW    0.003006\n",
       "QFA    0.002859\n",
       "AUT    0.001129\n",
       "PUE    0.000718\n",
       "56R    0.000249\n",
       "48O    0.000147\n",
       "TPU    0.000029\n",
       "Name: Emp-O, dtype: float64"
      ]
     },
     "execution_count": 23,
     "metadata": {},
     "output_type": "execute_result"
    }
   ],
   "source": [
    "# Distribución de la aerolinea de vuelo operado\n",
    "plt.hist(data['Emp-O'], data['Emp-O'].nunique(), histtype='bar', ec='black')\n",
    "plt.show()\n",
    "#data['Emp-O'].value_counts()\n",
    "data['Emp-O'].value_counts(normalize = True)"
   ]
  },
  {
   "cell_type": "code",
   "execution_count": 24,
   "id": "fd6226bb",
   "metadata": {},
   "outputs": [
    {
     "data": {
      "image/png": "[encoded data removed]",
      "text/plain": [
       "<Figure size 432x288 with 1 Axes>"
      ]
     },
     "metadata": {
      "needs_background": "light"
     },
     "output_type": "display_data"
    },
    {
     "data": {
      "text/plain": [
       "SCEL    1.0\n",
       "Name: Ori-I, dtype: float64"
      ]
     },
     "execution_count": 24,
     "metadata": {},
     "output_type": "execute_result"
    }
   ],
   "source": [
    "# Distribución de la ciudad de origen programado\n",
    "plt.hist(data['Ori-I'], data['Ori-I'].nunique(), histtype='bar', ec='black')\n",
    "plt.show()\n",
    "#data['Ori-I'].value_counts()\n",
    "data['Ori-I'].value_counts(normalize = True)"
   ]
  },
  {
   "cell_type": "code",
   "execution_count": 25,
   "id": "8c96685c",
   "metadata": {},
   "outputs": [
    {
     "data": {
      "image/png": "[encoded data removed]",
      "text/plain": [
       "<Figure size 432x288 with 1 Axes>"
      ]
     },
     "metadata": {
      "needs_background": "light"
     },
     "output_type": "display_data"
    },
    {
     "data": {
      "text/plain": [
       "SCEL    1.0\n",
       "Name: Ori-O, dtype: float64"
      ]
     },
     "execution_count": 25,
     "metadata": {},
     "output_type": "execute_result"
    }
   ],
   "source": [
    "# Distribución de la ciudad de origen de operación\n",
    "plt.hist(data['Ori-O'], data['Ori-O'].nunique(), histtype='bar', ec='black')\n",
    "plt.show()\n",
    "#data['Ori-O'].value_counts()\n",
    "data['Ori-O'].value_counts(normalize = True)"
   ]
  },
  {
   "cell_type": "code",
   "execution_count": 26,
   "id": "daaa54fc",
   "metadata": {},
   "outputs": [
    {
     "data": {
      "image/png": "[encoded data removed]",
      "text/plain": [
       "<Figure size 432x288 with 1 Axes>"
      ]
     },
     "metadata": {
      "needs_background": "light"
     },
     "output_type": "display_data"
    },
    {
     "data": {
      "text/plain": [
       "SCFA    0.084846\n",
       "SPJC    0.077266\n",
       "SCCF    0.075433\n",
       "SCTE    0.063880\n",
       "SCIE    0.058573\n",
       "          ...   \n",
       "SBFI    0.000015\n",
       "SPSO    0.000015\n",
       "SEQU    0.000015\n",
       "SEQM    0.000015\n",
       "SARI    0.000015\n",
       "Name: Des-I, Length: 64, dtype: float64"
      ]
     },
     "execution_count": 26,
     "metadata": {},
     "output_type": "execute_result"
    }
   ],
   "source": [
    "# Distribución de la ciudad de destino programado\n",
    "plt.hist(data['Des-I'], data['Des-I'].nunique(), histtype='bar', ec='black')\n",
    "plt.show()\n",
    "#data['Des-I'].value_counts()\n",
    "data['Des-I'].value_counts(normalize = True)"
   ]
  },
  {
   "cell_type": "code",
   "execution_count": 27,
   "id": "32c74a41",
   "metadata": {},
   "outputs": [
    {
     "data": {
      "image/png": "[encoded data removed]",
      "text/plain": [
       "<Figure size 432x288 with 1 Axes>"
      ]
     },
     "metadata": {
      "needs_background": "light"
     },
     "output_type": "display_data"
    },
    {
     "data": {
      "text/plain": [
       "SCFA    0.084831\n",
       "SPJC    0.077266\n",
       "SCCF    0.075448\n",
       "SCTE    0.063880\n",
       "SCIE    0.058543\n",
       "          ...   \n",
       "SEQM    0.000029\n",
       "KIAD    0.000015\n",
       "SPSO    0.000015\n",
       "EGYP    0.000015\n",
       "SLCB    0.000015\n",
       "Name: Des-O, Length: 63, dtype: float64"
      ]
     },
     "execution_count": 27,
     "metadata": {},
     "output_type": "execute_result"
    }
   ],
   "source": [
    "# Distribución de la ciudad de destino de operación\n",
    "plt.hist(data['Des-O'], data['Des-O'].nunique(), histtype='bar', ec='black')\n",
    "plt.show()\n",
    "#data['Des-O'].value_counts()\n",
    "data['Des-O'].value_counts(normalize = True)"
   ]
  },
  {
   "cell_type": "code",
   "execution_count": 28,
   "id": "d3fc2dc3",
   "metadata": {},
   "outputs": [
    {
     "data": {
      "image/png": "[encoded data removed]",
      "text/plain": [
       "<Figure size 432x288 with 1 Axes>"
      ]
     },
     "metadata": {
      "needs_background": "light"
     },
     "output_type": "display_data"
    },
    {
     "data": {
      "text/plain": [
       "Grupo LATAM                 0.599537\n",
       "Sky Airline                 0.209630\n",
       "Aerolineas Argentinas       0.028575\n",
       "Copa Air                    0.027124\n",
       "Latin American Wings        0.024543\n",
       "Avianca                     0.016890\n",
       "JetSmart SPA                0.016054\n",
       "Gol Trans                   0.011817\n",
       "American Airlines           0.011099\n",
       "Air Canada                  0.008284\n",
       "Iberia                      0.005307\n",
       "Delta Air                   0.005249\n",
       "Air France                  0.005249\n",
       "Aeromexico                  0.005146\n",
       "United Airlines             0.004912\n",
       "Oceanair Linhas Aereas      0.004091\n",
       "Alitalia                    0.003797\n",
       "K.L.M.                      0.003680\n",
       "British Airways             0.003006\n",
       "Qantas Airways              0.002859\n",
       "Lacsa                       0.001349\n",
       "Austral                     0.001085\n",
       "Plus Ultra Lineas Aereas    0.000718\n",
       "Name: OPERA, dtype: float64"
      ]
     },
     "execution_count": 28,
     "metadata": {},
     "output_type": "execute_result"
    }
   ],
   "source": [
    "# Distribución de la aerolínea que opera\n",
    "plt.hist(data['OPERA'], data['OPERA'].nunique(), histtype='bar', ec='black')\n",
    "plt.show()\n",
    "#data['OPERA'].value_counts()\n",
    "data['OPERA'].value_counts(normalize = True)"
   ]
  },
  {
   "cell_type": "markdown",
   "id": "a7aa8fb9",
   "metadata": {},
   "source": [
    "## 1.4- Conclusión\n",
    "\n",
    "### Dataset  comprende un año de vuelos, en específico el 2017.\n",
    "\n",
    "### Destacar que solo existe una ciudad de origen del vuelo, que corresponde a Santiago, sumado a que no existe destino Santiago. Podemos concluir que el datasets solo incluye vuelos que despegan desde Santiago.\n",
    "### A partir de lo anterior, podemos descartar los campos Ori-I y Ori-O porque no entregarán directamente información relevante para entrenar un modelo."
   ]
  },
  {
   "cell_type": "markdown",
   "id": "72ad381e",
   "metadata": {},
   "source": [
    "# 2- Generar columnas adicionales"
   ]
  },
  {
   "cell_type": "code",
   "execution_count": 29,
   "id": "df36c58e",
   "metadata": {},
   "outputs": [],
   "source": [
    "# En adelante será útil, manejar las columnas de fecha, del tipo datetime.\n",
    "data['Fecha-I'] = pd.to_datetime(data['Fecha-I'])  \n",
    "data['Fecha-O'] = pd.to_datetime(data['Fecha-O'])  "
   ]
  },
  {
   "cell_type": "markdown",
   "id": "ac8a7074",
   "metadata": {},
   "source": [
    "## 2.1- Generar columna temporada_alta"
   ]
  },
  {
   "cell_type": "code",
   "execution_count": 30,
   "id": "107c1740",
   "metadata": {},
   "outputs": [],
   "source": [
    "# Generamos la nueva columna, con un valor por defecto\n",
    "data['temporada_alta'] = 0"
   ]
  },
  {
   "cell_type": "code",
   "execution_count": 31,
   "id": "93e5deb7",
   "metadata": {},
   "outputs": [],
   "source": [
    "# Aplicas los distintos casos que una fecha es categorizada como alta \n",
    "data.loc[(data['Fecha-I'] >= '2017-12-15 00:00:00'), 'temporada_alta'] = 1\n",
    "data.loc[(data['Fecha-I'] <= '2017-03-03 23:59:59'), 'temporada_alta'] = 1\n",
    "data.loc[(data['Fecha-I'] >= '2017-07-15 00:00:00') & (data['Fecha-I'] <= '2017-07-31 23:59:59'), 'temporada_alta'] = 1\n",
    "data.loc[(data['Fecha-I'] >= '2017-09-11 00:00:00') & (data['Fecha-I'] <= '2017-09-30 23:59:59'), 'temporada_alta'] = 1"
   ]
  },
  {
   "cell_type": "code",
   "execution_count": 32,
   "id": "4f59eaaa",
   "metadata": {},
   "outputs": [
    {
     "data": {
      "text/plain": [
       "0    45444\n",
       "1    22762\n",
       "Name: temporada_alta, dtype: int64"
      ]
     },
     "execution_count": 32,
     "metadata": {},
     "output_type": "execute_result"
    }
   ],
   "source": [
    "# Corroboramos que se generó la nueva columna con las 2 etiquetas correctas\n",
    "data['temporada_alta'].value_counts()"
   ]
  },
  {
   "cell_type": "markdown",
   "id": "34e13890",
   "metadata": {},
   "source": [
    "## 2.2- Generar columna dif_min"
   ]
  },
  {
   "cell_type": "code",
   "execution_count": 33,
   "id": "a79335af",
   "metadata": {},
   "outputs": [],
   "source": [
    "# Calculamos la diferencia entre la fecha de operación y fecha programada.\n",
    "data['dif_min'] = (data['Fecha-O'] - data['Fecha-I']).astype('timedelta64[m]')"
   ]
  },
  {
   "cell_type": "code",
   "execution_count": 34,
   "id": "b38919de",
   "metadata": {},
   "outputs": [
    {
     "data": {
      "text/html": [
       "<div>\n",
       "<style scoped>\n",
       "    .dataframe tbody tr th:only-of-type {\n",
       "        vertical-align: middle;\n",
       "    }\n",
       "\n",
       "    .dataframe tbody tr th {\n",
       "        vertical-align: top;\n",
       "    }\n",
       "\n",
       "    .dataframe thead th {\n",
       "        text-align: right;\n",
       "    }\n",
       "</style>\n",
       "<table border=\"1\" class=\"dataframe\">\n",
       "  <thead>\n",
       "    <tr style=\"text-align: right;\">\n",
       "      <th></th>\n",
       "      <th>Fecha-I</th>\n",
       "      <th>Vlo-I</th>\n",
       "      <th>Ori-I</th>\n",
       "      <th>Des-I</th>\n",
       "      <th>Emp-I</th>\n",
       "      <th>Fecha-O</th>\n",
       "      <th>Vlo-O</th>\n",
       "      <th>Ori-O</th>\n",
       "      <th>Des-O</th>\n",
       "      <th>Emp-O</th>\n",
       "      <th>DIA</th>\n",
       "      <th>MES</th>\n",
       "      <th>AÑO</th>\n",
       "      <th>DIANOM</th>\n",
       "      <th>TIPOVUELO</th>\n",
       "      <th>OPERA</th>\n",
       "      <th>SIGLAORI</th>\n",
       "      <th>SIGLADES</th>\n",
       "      <th>temporada_alta</th>\n",
       "      <th>dif_min</th>\n",
       "    </tr>\n",
       "  </thead>\n",
       "  <tbody>\n",
       "    <tr>\n",
       "      <th>0</th>\n",
       "      <td>2017-01-01 23:30:00</td>\n",
       "      <td>226</td>\n",
       "      <td>SCEL</td>\n",
       "      <td>KMIA</td>\n",
       "      <td>AAL</td>\n",
       "      <td>2017-01-01 23:33:00</td>\n",
       "      <td>226</td>\n",
       "      <td>SCEL</td>\n",
       "      <td>KMIA</td>\n",
       "      <td>AAL</td>\n",
       "      <td>1</td>\n",
       "      <td>1</td>\n",
       "      <td>2017</td>\n",
       "      <td>Domingo</td>\n",
       "      <td>I</td>\n",
       "      <td>American Airlines</td>\n",
       "      <td>Santiago</td>\n",
       "      <td>Miami</td>\n",
       "      <td>1</td>\n",
       "      <td>3.0</td>\n",
       "    </tr>\n",
       "    <tr>\n",
       "      <th>1</th>\n",
       "      <td>2017-01-02 23:30:00</td>\n",
       "      <td>226</td>\n",
       "      <td>SCEL</td>\n",
       "      <td>KMIA</td>\n",
       "      <td>AAL</td>\n",
       "      <td>2017-01-02 23:39:00</td>\n",
       "      <td>226</td>\n",
       "      <td>SCEL</td>\n",
       "      <td>KMIA</td>\n",
       "      <td>AAL</td>\n",
       "      <td>2</td>\n",
       "      <td>1</td>\n",
       "      <td>2017</td>\n",
       "      <td>Lunes</td>\n",
       "      <td>I</td>\n",
       "      <td>American Airlines</td>\n",
       "      <td>Santiago</td>\n",
       "      <td>Miami</td>\n",
       "      <td>1</td>\n",
       "      <td>9.0</td>\n",
       "    </tr>\n",
       "    <tr>\n",
       "      <th>2</th>\n",
       "      <td>2017-01-03 23:30:00</td>\n",
       "      <td>226</td>\n",
       "      <td>SCEL</td>\n",
       "      <td>KMIA</td>\n",
       "      <td>AAL</td>\n",
       "      <td>2017-01-03 23:39:00</td>\n",
       "      <td>226</td>\n",
       "      <td>SCEL</td>\n",
       "      <td>KMIA</td>\n",
       "      <td>AAL</td>\n",
       "      <td>3</td>\n",
       "      <td>1</td>\n",
       "      <td>2017</td>\n",
       "      <td>Martes</td>\n",
       "      <td>I</td>\n",
       "      <td>American Airlines</td>\n",
       "      <td>Santiago</td>\n",
       "      <td>Miami</td>\n",
       "      <td>1</td>\n",
       "      <td>9.0</td>\n",
       "    </tr>\n",
       "    <tr>\n",
       "      <th>3</th>\n",
       "      <td>2017-01-04 23:30:00</td>\n",
       "      <td>226</td>\n",
       "      <td>SCEL</td>\n",
       "      <td>KMIA</td>\n",
       "      <td>AAL</td>\n",
       "      <td>2017-01-04 23:33:00</td>\n",
       "      <td>226</td>\n",
       "      <td>SCEL</td>\n",
       "      <td>KMIA</td>\n",
       "      <td>AAL</td>\n",
       "      <td>4</td>\n",
       "      <td>1</td>\n",
       "      <td>2017</td>\n",
       "      <td>Miercoles</td>\n",
       "      <td>I</td>\n",
       "      <td>American Airlines</td>\n",
       "      <td>Santiago</td>\n",
       "      <td>Miami</td>\n",
       "      <td>1</td>\n",
       "      <td>3.0</td>\n",
       "    </tr>\n",
       "    <tr>\n",
       "      <th>4</th>\n",
       "      <td>2017-01-05 23:30:00</td>\n",
       "      <td>226</td>\n",
       "      <td>SCEL</td>\n",
       "      <td>KMIA</td>\n",
       "      <td>AAL</td>\n",
       "      <td>2017-01-05 23:28:00</td>\n",
       "      <td>226</td>\n",
       "      <td>SCEL</td>\n",
       "      <td>KMIA</td>\n",
       "      <td>AAL</td>\n",
       "      <td>5</td>\n",
       "      <td>1</td>\n",
       "      <td>2017</td>\n",
       "      <td>Jueves</td>\n",
       "      <td>I</td>\n",
       "      <td>American Airlines</td>\n",
       "      <td>Santiago</td>\n",
       "      <td>Miami</td>\n",
       "      <td>1</td>\n",
       "      <td>-2.0</td>\n",
       "    </tr>\n",
       "    <tr>\n",
       "      <th>5</th>\n",
       "      <td>2017-01-06 23:30:00</td>\n",
       "      <td>226</td>\n",
       "      <td>SCEL</td>\n",
       "      <td>KMIA</td>\n",
       "      <td>AAL</td>\n",
       "      <td>2017-01-07 00:04:00</td>\n",
       "      <td>226</td>\n",
       "      <td>SCEL</td>\n",
       "      <td>KMIA</td>\n",
       "      <td>AAL</td>\n",
       "      <td>7</td>\n",
       "      <td>1</td>\n",
       "      <td>2017</td>\n",
       "      <td>Sabado</td>\n",
       "      <td>I</td>\n",
       "      <td>American Airlines</td>\n",
       "      <td>Santiago</td>\n",
       "      <td>Miami</td>\n",
       "      <td>1</td>\n",
       "      <td>34.0</td>\n",
       "    </tr>\n",
       "    <tr>\n",
       "      <th>6</th>\n",
       "      <td>2017-01-07 23:30:00</td>\n",
       "      <td>226</td>\n",
       "      <td>SCEL</td>\n",
       "      <td>KMIA</td>\n",
       "      <td>AAL</td>\n",
       "      <td>2017-01-07 23:25:00</td>\n",
       "      <td>226</td>\n",
       "      <td>SCEL</td>\n",
       "      <td>KMIA</td>\n",
       "      <td>AAL</td>\n",
       "      <td>7</td>\n",
       "      <td>1</td>\n",
       "      <td>2017</td>\n",
       "      <td>Sabado</td>\n",
       "      <td>I</td>\n",
       "      <td>American Airlines</td>\n",
       "      <td>Santiago</td>\n",
       "      <td>Miami</td>\n",
       "      <td>1</td>\n",
       "      <td>-5.0</td>\n",
       "    </tr>\n",
       "    <tr>\n",
       "      <th>7</th>\n",
       "      <td>2017-01-08 23:30:00</td>\n",
       "      <td>226</td>\n",
       "      <td>SCEL</td>\n",
       "      <td>KMIA</td>\n",
       "      <td>AAL</td>\n",
       "      <td>2017-01-08 23:25:00</td>\n",
       "      <td>226</td>\n",
       "      <td>SCEL</td>\n",
       "      <td>KMIA</td>\n",
       "      <td>AAL</td>\n",
       "      <td>8</td>\n",
       "      <td>1</td>\n",
       "      <td>2017</td>\n",
       "      <td>Domingo</td>\n",
       "      <td>I</td>\n",
       "      <td>American Airlines</td>\n",
       "      <td>Santiago</td>\n",
       "      <td>Miami</td>\n",
       "      <td>1</td>\n",
       "      <td>-5.0</td>\n",
       "    </tr>\n",
       "    <tr>\n",
       "      <th>8</th>\n",
       "      <td>2017-01-09 23:30:00</td>\n",
       "      <td>226</td>\n",
       "      <td>SCEL</td>\n",
       "      <td>KMIA</td>\n",
       "      <td>AAL</td>\n",
       "      <td>2017-01-10 00:10:00</td>\n",
       "      <td>226</td>\n",
       "      <td>SCEL</td>\n",
       "      <td>KMIA</td>\n",
       "      <td>AAL</td>\n",
       "      <td>10</td>\n",
       "      <td>1</td>\n",
       "      <td>2017</td>\n",
       "      <td>Martes</td>\n",
       "      <td>I</td>\n",
       "      <td>American Airlines</td>\n",
       "      <td>Santiago</td>\n",
       "      <td>Miami</td>\n",
       "      <td>1</td>\n",
       "      <td>40.0</td>\n",
       "    </tr>\n",
       "    <tr>\n",
       "      <th>9</th>\n",
       "      <td>2017-01-11 23:30:00</td>\n",
       "      <td>226</td>\n",
       "      <td>SCEL</td>\n",
       "      <td>KMIA</td>\n",
       "      <td>AAL</td>\n",
       "      <td>2017-01-12 00:39:00</td>\n",
       "      <td>226</td>\n",
       "      <td>SCEL</td>\n",
       "      <td>KMIA</td>\n",
       "      <td>AAL</td>\n",
       "      <td>12</td>\n",
       "      <td>1</td>\n",
       "      <td>2017</td>\n",
       "      <td>Jueves</td>\n",
       "      <td>I</td>\n",
       "      <td>American Airlines</td>\n",
       "      <td>Santiago</td>\n",
       "      <td>Miami</td>\n",
       "      <td>1</td>\n",
       "      <td>69.0</td>\n",
       "    </tr>\n",
       "  </tbody>\n",
       "</table>\n",
       "</div>"
      ],
      "text/plain": [
       "              Fecha-I Vlo-I Ori-I Des-I Emp-I             Fecha-O Vlo-O Ori-O  \\\n",
       "0 2017-01-01 23:30:00   226  SCEL  KMIA   AAL 2017-01-01 23:33:00   226  SCEL   \n",
       "1 2017-01-02 23:30:00   226  SCEL  KMIA   AAL 2017-01-02 23:39:00   226  SCEL   \n",
       "2 2017-01-03 23:30:00   226  SCEL  KMIA   AAL 2017-01-03 23:39:00   226  SCEL   \n",
       "3 2017-01-04 23:30:00   226  SCEL  KMIA   AAL 2017-01-04 23:33:00   226  SCEL   \n",
       "4 2017-01-05 23:30:00   226  SCEL  KMIA   AAL 2017-01-05 23:28:00   226  SCEL   \n",
       "5 2017-01-06 23:30:00   226  SCEL  KMIA   AAL 2017-01-07 00:04:00   226  SCEL   \n",
       "6 2017-01-07 23:30:00   226  SCEL  KMIA   AAL 2017-01-07 23:25:00   226  SCEL   \n",
       "7 2017-01-08 23:30:00   226  SCEL  KMIA   AAL 2017-01-08 23:25:00   226  SCEL   \n",
       "8 2017-01-09 23:30:00   226  SCEL  KMIA   AAL 2017-01-10 00:10:00   226  SCEL   \n",
       "9 2017-01-11 23:30:00   226  SCEL  KMIA   AAL 2017-01-12 00:39:00   226  SCEL   \n",
       "\n",
       "  Des-O Emp-O  DIA  MES   AÑO     DIANOM TIPOVUELO              OPERA  \\\n",
       "0  KMIA   AAL    1    1  2017    Domingo         I  American Airlines   \n",
       "1  KMIA   AAL    2    1  2017      Lunes         I  American Airlines   \n",
       "2  KMIA   AAL    3    1  2017     Martes         I  American Airlines   \n",
       "3  KMIA   AAL    4    1  2017  Miercoles         I  American Airlines   \n",
       "4  KMIA   AAL    5    1  2017     Jueves         I  American Airlines   \n",
       "5  KMIA   AAL    7    1  2017     Sabado         I  American Airlines   \n",
       "6  KMIA   AAL    7    1  2017     Sabado         I  American Airlines   \n",
       "7  KMIA   AAL    8    1  2017    Domingo         I  American Airlines   \n",
       "8  KMIA   AAL   10    1  2017     Martes         I  American Airlines   \n",
       "9  KMIA   AAL   12    1  2017     Jueves         I  American Airlines   \n",
       "\n",
       "   SIGLAORI SIGLADES  temporada_alta  dif_min  \n",
       "0  Santiago    Miami               1      3.0  \n",
       "1  Santiago    Miami               1      9.0  \n",
       "2  Santiago    Miami               1      9.0  \n",
       "3  Santiago    Miami               1      3.0  \n",
       "4  Santiago    Miami               1     -2.0  \n",
       "5  Santiago    Miami               1     34.0  \n",
       "6  Santiago    Miami               1     -5.0  \n",
       "7  Santiago    Miami               1     -5.0  \n",
       "8  Santiago    Miami               1     40.0  \n",
       "9  Santiago    Miami               1     69.0  "
      ]
     },
     "execution_count": 34,
     "metadata": {},
     "output_type": "execute_result"
    }
   ],
   "source": [
    "data.head(10)"
   ]
  },
  {
   "cell_type": "markdown",
   "id": "4de6b26b",
   "metadata": {},
   "source": [
    "## 2.3- Generar columna atraso_15"
   ]
  },
  {
   "cell_type": "code",
   "execution_count": 35,
   "id": "22bf26e9",
   "metadata": {},
   "outputs": [],
   "source": [
    "# Generamos la nueva columna, con un valor por defecto\n",
    "data['atraso_15'] = 0"
   ]
  },
  {
   "cell_type": "code",
   "execution_count": 36,
   "id": "3b785c95",
   "metadata": {},
   "outputs": [],
   "source": [
    "# Aplicas el criterio de tiempo de atraso mayor a 15 minutos. \n",
    "data.loc[data['dif_min'] > 15, 'atraso_15'] = 1"
   ]
  },
  {
   "cell_type": "code",
   "execution_count": 37,
   "id": "a8c42345",
   "metadata": {},
   "outputs": [
    {
     "data": {
      "text/html": [
       "<div>\n",
       "<style scoped>\n",
       "    .dataframe tbody tr th:only-of-type {\n",
       "        vertical-align: middle;\n",
       "    }\n",
       "\n",
       "    .dataframe tbody tr th {\n",
       "        vertical-align: top;\n",
       "    }\n",
       "\n",
       "    .dataframe thead th {\n",
       "        text-align: right;\n",
       "    }\n",
       "</style>\n",
       "<table border=\"1\" class=\"dataframe\">\n",
       "  <thead>\n",
       "    <tr style=\"text-align: right;\">\n",
       "      <th></th>\n",
       "      <th>Fecha-I</th>\n",
       "      <th>Vlo-I</th>\n",
       "      <th>Ori-I</th>\n",
       "      <th>Des-I</th>\n",
       "      <th>Emp-I</th>\n",
       "      <th>Fecha-O</th>\n",
       "      <th>Vlo-O</th>\n",
       "      <th>Ori-O</th>\n",
       "      <th>Des-O</th>\n",
       "      <th>Emp-O</th>\n",
       "      <th>...</th>\n",
       "      <th>MES</th>\n",
       "      <th>AÑO</th>\n",
       "      <th>DIANOM</th>\n",
       "      <th>TIPOVUELO</th>\n",
       "      <th>OPERA</th>\n",
       "      <th>SIGLAORI</th>\n",
       "      <th>SIGLADES</th>\n",
       "      <th>temporada_alta</th>\n",
       "      <th>dif_min</th>\n",
       "      <th>atraso_15</th>\n",
       "    </tr>\n",
       "  </thead>\n",
       "  <tbody>\n",
       "    <tr>\n",
       "      <th>0</th>\n",
       "      <td>2017-01-01 23:30:00</td>\n",
       "      <td>226</td>\n",
       "      <td>SCEL</td>\n",
       "      <td>KMIA</td>\n",
       "      <td>AAL</td>\n",
       "      <td>2017-01-01 23:33:00</td>\n",
       "      <td>226</td>\n",
       "      <td>SCEL</td>\n",
       "      <td>KMIA</td>\n",
       "      <td>AAL</td>\n",
       "      <td>...</td>\n",
       "      <td>1</td>\n",
       "      <td>2017</td>\n",
       "      <td>Domingo</td>\n",
       "      <td>I</td>\n",
       "      <td>American Airlines</td>\n",
       "      <td>Santiago</td>\n",
       "      <td>Miami</td>\n",
       "      <td>1</td>\n",
       "      <td>3.0</td>\n",
       "      <td>0</td>\n",
       "    </tr>\n",
       "    <tr>\n",
       "      <th>1</th>\n",
       "      <td>2017-01-02 23:30:00</td>\n",
       "      <td>226</td>\n",
       "      <td>SCEL</td>\n",
       "      <td>KMIA</td>\n",
       "      <td>AAL</td>\n",
       "      <td>2017-01-02 23:39:00</td>\n",
       "      <td>226</td>\n",
       "      <td>SCEL</td>\n",
       "      <td>KMIA</td>\n",
       "      <td>AAL</td>\n",
       "      <td>...</td>\n",
       "      <td>1</td>\n",
       "      <td>2017</td>\n",
       "      <td>Lunes</td>\n",
       "      <td>I</td>\n",
       "      <td>American Airlines</td>\n",
       "      <td>Santiago</td>\n",
       "      <td>Miami</td>\n",
       "      <td>1</td>\n",
       "      <td>9.0</td>\n",
       "      <td>0</td>\n",
       "    </tr>\n",
       "    <tr>\n",
       "      <th>2</th>\n",
       "      <td>2017-01-03 23:30:00</td>\n",
       "      <td>226</td>\n",
       "      <td>SCEL</td>\n",
       "      <td>KMIA</td>\n",
       "      <td>AAL</td>\n",
       "      <td>2017-01-03 23:39:00</td>\n",
       "      <td>226</td>\n",
       "      <td>SCEL</td>\n",
       "      <td>KMIA</td>\n",
       "      <td>AAL</td>\n",
       "      <td>...</td>\n",
       "      <td>1</td>\n",
       "      <td>2017</td>\n",
       "      <td>Martes</td>\n",
       "      <td>I</td>\n",
       "      <td>American Airlines</td>\n",
       "      <td>Santiago</td>\n",
       "      <td>Miami</td>\n",
       "      <td>1</td>\n",
       "      <td>9.0</td>\n",
       "      <td>0</td>\n",
       "    </tr>\n",
       "    <tr>\n",
       "      <th>3</th>\n",
       "      <td>2017-01-04 23:30:00</td>\n",
       "      <td>226</td>\n",
       "      <td>SCEL</td>\n",
       "      <td>KMIA</td>\n",
       "      <td>AAL</td>\n",
       "      <td>2017-01-04 23:33:00</td>\n",
       "      <td>226</td>\n",
       "      <td>SCEL</td>\n",
       "      <td>KMIA</td>\n",
       "      <td>AAL</td>\n",
       "      <td>...</td>\n",
       "      <td>1</td>\n",
       "      <td>2017</td>\n",
       "      <td>Miercoles</td>\n",
       "      <td>I</td>\n",
       "      <td>American Airlines</td>\n",
       "      <td>Santiago</td>\n",
       "      <td>Miami</td>\n",
       "      <td>1</td>\n",
       "      <td>3.0</td>\n",
       "      <td>0</td>\n",
       "    </tr>\n",
       "    <tr>\n",
       "      <th>4</th>\n",
       "      <td>2017-01-05 23:30:00</td>\n",
       "      <td>226</td>\n",
       "      <td>SCEL</td>\n",
       "      <td>KMIA</td>\n",
       "      <td>AAL</td>\n",
       "      <td>2017-01-05 23:28:00</td>\n",
       "      <td>226</td>\n",
       "      <td>SCEL</td>\n",
       "      <td>KMIA</td>\n",
       "      <td>AAL</td>\n",
       "      <td>...</td>\n",
       "      <td>1</td>\n",
       "      <td>2017</td>\n",
       "      <td>Jueves</td>\n",
       "      <td>I</td>\n",
       "      <td>American Airlines</td>\n",
       "      <td>Santiago</td>\n",
       "      <td>Miami</td>\n",
       "      <td>1</td>\n",
       "      <td>-2.0</td>\n",
       "      <td>0</td>\n",
       "    </tr>\n",
       "    <tr>\n",
       "      <th>5</th>\n",
       "      <td>2017-01-06 23:30:00</td>\n",
       "      <td>226</td>\n",
       "      <td>SCEL</td>\n",
       "      <td>KMIA</td>\n",
       "      <td>AAL</td>\n",
       "      <td>2017-01-07 00:04:00</td>\n",
       "      <td>226</td>\n",
       "      <td>SCEL</td>\n",
       "      <td>KMIA</td>\n",
       "      <td>AAL</td>\n",
       "      <td>...</td>\n",
       "      <td>1</td>\n",
       "      <td>2017</td>\n",
       "      <td>Sabado</td>\n",
       "      <td>I</td>\n",
       "      <td>American Airlines</td>\n",
       "      <td>Santiago</td>\n",
       "      <td>Miami</td>\n",
       "      <td>1</td>\n",
       "      <td>34.0</td>\n",
       "      <td>1</td>\n",
       "    </tr>\n",
       "    <tr>\n",
       "      <th>6</th>\n",
       "      <td>2017-01-07 23:30:00</td>\n",
       "      <td>226</td>\n",
       "      <td>SCEL</td>\n",
       "      <td>KMIA</td>\n",
       "      <td>AAL</td>\n",
       "      <td>2017-01-07 23:25:00</td>\n",
       "      <td>226</td>\n",
       "      <td>SCEL</td>\n",
       "      <td>KMIA</td>\n",
       "      <td>AAL</td>\n",
       "      <td>...</td>\n",
       "      <td>1</td>\n",
       "      <td>2017</td>\n",
       "      <td>Sabado</td>\n",
       "      <td>I</td>\n",
       "      <td>American Airlines</td>\n",
       "      <td>Santiago</td>\n",
       "      <td>Miami</td>\n",
       "      <td>1</td>\n",
       "      <td>-5.0</td>\n",
       "      <td>0</td>\n",
       "    </tr>\n",
       "    <tr>\n",
       "      <th>7</th>\n",
       "      <td>2017-01-08 23:30:00</td>\n",
       "      <td>226</td>\n",
       "      <td>SCEL</td>\n",
       "      <td>KMIA</td>\n",
       "      <td>AAL</td>\n",
       "      <td>2017-01-08 23:25:00</td>\n",
       "      <td>226</td>\n",
       "      <td>SCEL</td>\n",
       "      <td>KMIA</td>\n",
       "      <td>AAL</td>\n",
       "      <td>...</td>\n",
       "      <td>1</td>\n",
       "      <td>2017</td>\n",
       "      <td>Domingo</td>\n",
       "      <td>I</td>\n",
       "      <td>American Airlines</td>\n",
       "      <td>Santiago</td>\n",
       "      <td>Miami</td>\n",
       "      <td>1</td>\n",
       "      <td>-5.0</td>\n",
       "      <td>0</td>\n",
       "    </tr>\n",
       "    <tr>\n",
       "      <th>8</th>\n",
       "      <td>2017-01-09 23:30:00</td>\n",
       "      <td>226</td>\n",
       "      <td>SCEL</td>\n",
       "      <td>KMIA</td>\n",
       "      <td>AAL</td>\n",
       "      <td>2017-01-10 00:10:00</td>\n",
       "      <td>226</td>\n",
       "      <td>SCEL</td>\n",
       "      <td>KMIA</td>\n",
       "      <td>AAL</td>\n",
       "      <td>...</td>\n",
       "      <td>1</td>\n",
       "      <td>2017</td>\n",
       "      <td>Martes</td>\n",
       "      <td>I</td>\n",
       "      <td>American Airlines</td>\n",
       "      <td>Santiago</td>\n",
       "      <td>Miami</td>\n",
       "      <td>1</td>\n",
       "      <td>40.0</td>\n",
       "      <td>1</td>\n",
       "    </tr>\n",
       "    <tr>\n",
       "      <th>9</th>\n",
       "      <td>2017-01-11 23:30:00</td>\n",
       "      <td>226</td>\n",
       "      <td>SCEL</td>\n",
       "      <td>KMIA</td>\n",
       "      <td>AAL</td>\n",
       "      <td>2017-01-12 00:39:00</td>\n",
       "      <td>226</td>\n",
       "      <td>SCEL</td>\n",
       "      <td>KMIA</td>\n",
       "      <td>AAL</td>\n",
       "      <td>...</td>\n",
       "      <td>1</td>\n",
       "      <td>2017</td>\n",
       "      <td>Jueves</td>\n",
       "      <td>I</td>\n",
       "      <td>American Airlines</td>\n",
       "      <td>Santiago</td>\n",
       "      <td>Miami</td>\n",
       "      <td>1</td>\n",
       "      <td>69.0</td>\n",
       "      <td>1</td>\n",
       "    </tr>\n",
       "  </tbody>\n",
       "</table>\n",
       "<p>10 rows × 21 columns</p>\n",
       "</div>"
      ],
      "text/plain": [
       "              Fecha-I Vlo-I Ori-I Des-I Emp-I             Fecha-O Vlo-O Ori-O  \\\n",
       "0 2017-01-01 23:30:00   226  SCEL  KMIA   AAL 2017-01-01 23:33:00   226  SCEL   \n",
       "1 2017-01-02 23:30:00   226  SCEL  KMIA   AAL 2017-01-02 23:39:00   226  SCEL   \n",
       "2 2017-01-03 23:30:00   226  SCEL  KMIA   AAL 2017-01-03 23:39:00   226  SCEL   \n",
       "3 2017-01-04 23:30:00   226  SCEL  KMIA   AAL 2017-01-04 23:33:00   226  SCEL   \n",
       "4 2017-01-05 23:30:00   226  SCEL  KMIA   AAL 2017-01-05 23:28:00   226  SCEL   \n",
       "5 2017-01-06 23:30:00   226  SCEL  KMIA   AAL 2017-01-07 00:04:00   226  SCEL   \n",
       "6 2017-01-07 23:30:00   226  SCEL  KMIA   AAL 2017-01-07 23:25:00   226  SCEL   \n",
       "7 2017-01-08 23:30:00   226  SCEL  KMIA   AAL 2017-01-08 23:25:00   226  SCEL   \n",
       "8 2017-01-09 23:30:00   226  SCEL  KMIA   AAL 2017-01-10 00:10:00   226  SCEL   \n",
       "9 2017-01-11 23:30:00   226  SCEL  KMIA   AAL 2017-01-12 00:39:00   226  SCEL   \n",
       "\n",
       "  Des-O Emp-O  ...  MES   AÑO     DIANOM TIPOVUELO              OPERA  \\\n",
       "0  KMIA   AAL  ...    1  2017    Domingo         I  American Airlines   \n",
       "1  KMIA   AAL  ...    1  2017      Lunes         I  American Airlines   \n",
       "2  KMIA   AAL  ...    1  2017     Martes         I  American Airlines   \n",
       "3  KMIA   AAL  ...    1  2017  Miercoles         I  American Airlines   \n",
       "4  KMIA   AAL  ...    1  2017     Jueves         I  American Airlines   \n",
       "5  KMIA   AAL  ...    1  2017     Sabado         I  American Airlines   \n",
       "6  KMIA   AAL  ...    1  2017     Sabado         I  American Airlines   \n",
       "7  KMIA   AAL  ...    1  2017    Domingo         I  American Airlines   \n",
       "8  KMIA   AAL  ...    1  2017     Martes         I  American Airlines   \n",
       "9  KMIA   AAL  ...    1  2017     Jueves         I  American Airlines   \n",
       "\n",
       "   SIGLAORI SIGLADES temporada_alta  dif_min  atraso_15  \n",
       "0  Santiago    Miami              1      3.0          0  \n",
       "1  Santiago    Miami              1      9.0          0  \n",
       "2  Santiago    Miami              1      9.0          0  \n",
       "3  Santiago    Miami              1      3.0          0  \n",
       "4  Santiago    Miami              1     -2.0          0  \n",
       "5  Santiago    Miami              1     34.0          1  \n",
       "6  Santiago    Miami              1     -5.0          0  \n",
       "7  Santiago    Miami              1     -5.0          0  \n",
       "8  Santiago    Miami              1     40.0          1  \n",
       "9  Santiago    Miami              1     69.0          1  \n",
       "\n",
       "[10 rows x 21 columns]"
      ]
     },
     "execution_count": 37,
     "metadata": {},
     "output_type": "execute_result"
    }
   ],
   "source": [
    "data.head(10)"
   ]
  },
  {
   "cell_type": "code",
   "execution_count": 38,
   "id": "7ff162ef",
   "metadata": {},
   "outputs": [
    {
     "data": {
      "text/plain": [
       "0    55592\n",
       "1    12614\n",
       "Name: atraso_15, dtype: int64"
      ]
     },
     "execution_count": 38,
     "metadata": {},
     "output_type": "execute_result"
    }
   ],
   "source": [
    "# Corroboramos que se generó la nueva columna con las 2 etiquetas correctas\n",
    "data['atraso_15'].value_counts()"
   ]
  },
  {
   "cell_type": "markdown",
   "id": "297d46c5",
   "metadata": {},
   "source": [
    "## 2.4- Generar columna periodo_dia"
   ]
  },
  {
   "cell_type": "code",
   "execution_count": 39,
   "id": "8f083ebf",
   "metadata": {},
   "outputs": [],
   "source": [
    "# Generamos la nueva columna, con un valor por defecto\n",
    "data['periodo_dia'] = ''"
   ]
  },
  {
   "cell_type": "code",
   "execution_count": 40,
   "id": "cf83e65d",
   "metadata": {},
   "outputs": [],
   "source": [
    "# Aplicas los distintos casos de periodo que es categorizado una hora. \n",
    "index = pd.DatetimeIndex(data['Fecha-I'])\n",
    "data.loc[index.indexer_between_time('05:00', '11:59'), 'periodo_dia'] = 'mañana'\n",
    "data.loc[index.indexer_between_time('12:00', '18:59'), 'periodo_dia'] = 'tarde'\n",
    "data.loc[index.indexer_between_time('19:00', '04:59'), 'periodo_dia'] = 'noche'"
   ]
  },
  {
   "cell_type": "code",
   "execution_count": 41,
   "id": "961602f1",
   "metadata": {},
   "outputs": [
    {
     "data": {
      "text/plain": [
       "tarde     25506\n",
       "mañana    25352\n",
       "noche     17348\n",
       "Name: periodo_dia, dtype: int64"
      ]
     },
     "execution_count": 41,
     "metadata": {},
     "output_type": "execute_result"
    }
   ],
   "source": [
    "# Corroboramos que se generó la nueva columna con las 3 etiquetas correctas\n",
    "data['periodo_dia'].value_counts()"
   ]
  },
  {
   "cell_type": "markdown",
   "id": "19f7924a",
   "metadata": {},
   "source": [
    "## 2.5- Guardar dataframe con columnas adicionales en csv"
   ]
  },
  {
   "cell_type": "code",
   "execution_count": 42,
   "id": "6bc450c9",
   "metadata": {},
   "outputs": [],
   "source": [
    "data.to_csv('synthetic_features.csv')"
   ]
  },
  {
   "cell_type": "markdown",
   "id": "dc37870a",
   "metadata": {},
   "source": [
    "# 3.- Buscar relaciones"
   ]
  },
  {
   "cell_type": "code",
   "execution_count": 43,
   "id": "44f856a8",
   "metadata": {},
   "outputs": [
    {
     "data": {
      "text/html": [
       "<div>\n",
       "<style scoped>\n",
       "    .dataframe tbody tr th:only-of-type {\n",
       "        vertical-align: middle;\n",
       "    }\n",
       "\n",
       "    .dataframe tbody tr th {\n",
       "        vertical-align: top;\n",
       "    }\n",
       "\n",
       "    .dataframe thead th {\n",
       "        text-align: right;\n",
       "    }\n",
       "</style>\n",
       "<table border=\"1\" class=\"dataframe\">\n",
       "  <thead>\n",
       "    <tr style=\"text-align: right;\">\n",
       "      <th></th>\n",
       "      <th>Fecha-I</th>\n",
       "      <th>Vlo-I</th>\n",
       "      <th>Ori-I</th>\n",
       "      <th>Des-I</th>\n",
       "      <th>Emp-I</th>\n",
       "      <th>Fecha-O</th>\n",
       "      <th>Vlo-O</th>\n",
       "      <th>Ori-O</th>\n",
       "      <th>Des-O</th>\n",
       "      <th>Emp-O</th>\n",
       "      <th>...</th>\n",
       "      <th>AÑO</th>\n",
       "      <th>DIANOM</th>\n",
       "      <th>TIPOVUELO</th>\n",
       "      <th>OPERA</th>\n",
       "      <th>SIGLAORI</th>\n",
       "      <th>SIGLADES</th>\n",
       "      <th>temporada_alta</th>\n",
       "      <th>dif_min</th>\n",
       "      <th>atraso_15</th>\n",
       "      <th>periodo_dia</th>\n",
       "    </tr>\n",
       "  </thead>\n",
       "  <tbody>\n",
       "    <tr>\n",
       "      <th>Fecha-I</th>\n",
       "      <td>1.000000</td>\n",
       "      <td>0.317062</td>\n",
       "      <td>NaN</td>\n",
       "      <td>0.056458</td>\n",
       "      <td>0.109620</td>\n",
       "      <td>0.998283</td>\n",
       "      <td>0.417382</td>\n",
       "      <td>NaN</td>\n",
       "      <td>0.056587</td>\n",
       "      <td>0.110799</td>\n",
       "      <td>...</td>\n",
       "      <td>0.008531</td>\n",
       "      <td>0.016325</td>\n",
       "      <td>0.020690</td>\n",
       "      <td>0.086301</td>\n",
       "      <td>NaN</td>\n",
       "      <td>0.055859</td>\n",
       "      <td>0.279768</td>\n",
       "      <td>0.069257</td>\n",
       "      <td>0.083994</td>\n",
       "      <td>0.001036</td>\n",
       "    </tr>\n",
       "    <tr>\n",
       "      <th>Vlo-I</th>\n",
       "      <td>0.317062</td>\n",
       "      <td>1.000000</td>\n",
       "      <td>NaN</td>\n",
       "      <td>0.219671</td>\n",
       "      <td>0.498741</td>\n",
       "      <td>0.322222</td>\n",
       "      <td>0.894218</td>\n",
       "      <td>NaN</td>\n",
       "      <td>0.220198</td>\n",
       "      <td>0.539579</td>\n",
       "      <td>...</td>\n",
       "      <td>0.017581</td>\n",
       "      <td>0.021059</td>\n",
       "      <td>-0.048713</td>\n",
       "      <td>0.401084</td>\n",
       "      <td>NaN</td>\n",
       "      <td>0.219370</td>\n",
       "      <td>-0.015004</td>\n",
       "      <td>0.062766</td>\n",
       "      <td>0.070851</td>\n",
       "      <td>-0.036546</td>\n",
       "    </tr>\n",
       "    <tr>\n",
       "      <th>Ori-I</th>\n",
       "      <td>NaN</td>\n",
       "      <td>NaN</td>\n",
       "      <td>NaN</td>\n",
       "      <td>NaN</td>\n",
       "      <td>NaN</td>\n",
       "      <td>NaN</td>\n",
       "      <td>NaN</td>\n",
       "      <td>NaN</td>\n",
       "      <td>NaN</td>\n",
       "      <td>NaN</td>\n",
       "      <td>...</td>\n",
       "      <td>NaN</td>\n",
       "      <td>NaN</td>\n",
       "      <td>NaN</td>\n",
       "      <td>NaN</td>\n",
       "      <td>NaN</td>\n",
       "      <td>NaN</td>\n",
       "      <td>NaN</td>\n",
       "      <td>NaN</td>\n",
       "      <td>NaN</td>\n",
       "      <td>NaN</td>\n",
       "    </tr>\n",
       "    <tr>\n",
       "      <th>Des-I</th>\n",
       "      <td>0.056458</td>\n",
       "      <td>0.219671</td>\n",
       "      <td>NaN</td>\n",
       "      <td>1.000000</td>\n",
       "      <td>0.516346</td>\n",
       "      <td>0.056241</td>\n",
       "      <td>0.218597</td>\n",
       "      <td>NaN</td>\n",
       "      <td>0.999357</td>\n",
       "      <td>0.500073</td>\n",
       "      <td>...</td>\n",
       "      <td>0.001115</td>\n",
       "      <td>-0.007424</td>\n",
       "      <td>0.593030</td>\n",
       "      <td>0.517540</td>\n",
       "      <td>NaN</td>\n",
       "      <td>0.997427</td>\n",
       "      <td>0.009422</td>\n",
       "      <td>-0.025893</td>\n",
       "      <td>-0.035866</td>\n",
       "      <td>0.134093</td>\n",
       "    </tr>\n",
       "    <tr>\n",
       "      <th>Emp-I</th>\n",
       "      <td>0.109620</td>\n",
       "      <td>0.498741</td>\n",
       "      <td>NaN</td>\n",
       "      <td>0.516346</td>\n",
       "      <td>1.000000</td>\n",
       "      <td>0.113276</td>\n",
       "      <td>0.452361</td>\n",
       "      <td>NaN</td>\n",
       "      <td>0.515476</td>\n",
       "      <td>0.969091</td>\n",
       "      <td>...</td>\n",
       "      <td>0.002128</td>\n",
       "      <td>0.003551</td>\n",
       "      <td>0.415020</td>\n",
       "      <td>0.971096</td>\n",
       "      <td>NaN</td>\n",
       "      <td>0.518949</td>\n",
       "      <td>-0.000578</td>\n",
       "      <td>0.006390</td>\n",
       "      <td>-0.002933</td>\n",
       "      <td>0.114902</td>\n",
       "    </tr>\n",
       "    <tr>\n",
       "      <th>Fecha-O</th>\n",
       "      <td>0.998283</td>\n",
       "      <td>0.322222</td>\n",
       "      <td>NaN</td>\n",
       "      <td>0.056241</td>\n",
       "      <td>0.113276</td>\n",
       "      <td>1.000000</td>\n",
       "      <td>0.419606</td>\n",
       "      <td>NaN</td>\n",
       "      <td>0.056370</td>\n",
       "      <td>0.115825</td>\n",
       "      <td>...</td>\n",
       "      <td>0.009068</td>\n",
       "      <td>0.016777</td>\n",
       "      <td>0.016872</td>\n",
       "      <td>0.089009</td>\n",
       "      <td>NaN</td>\n",
       "      <td>0.055518</td>\n",
       "      <td>0.287149</td>\n",
       "      <td>0.070840</td>\n",
       "      <td>0.085200</td>\n",
       "      <td>0.004577</td>\n",
       "    </tr>\n",
       "    <tr>\n",
       "      <th>Vlo-O</th>\n",
       "      <td>0.417382</td>\n",
       "      <td>0.894218</td>\n",
       "      <td>NaN</td>\n",
       "      <td>0.218597</td>\n",
       "      <td>0.452361</td>\n",
       "      <td>0.419606</td>\n",
       "      <td>1.000000</td>\n",
       "      <td>NaN</td>\n",
       "      <td>0.218910</td>\n",
       "      <td>0.484619</td>\n",
       "      <td>...</td>\n",
       "      <td>0.017435</td>\n",
       "      <td>0.021061</td>\n",
       "      <td>-0.000559</td>\n",
       "      <td>0.367460</td>\n",
       "      <td>NaN</td>\n",
       "      <td>0.218591</td>\n",
       "      <td>-0.052047</td>\n",
       "      <td>0.064010</td>\n",
       "      <td>0.073072</td>\n",
       "      <td>-0.025554</td>\n",
       "    </tr>\n",
       "    <tr>\n",
       "      <th>Ori-O</th>\n",
       "      <td>NaN</td>\n",
       "      <td>NaN</td>\n",
       "      <td>NaN</td>\n",
       "      <td>NaN</td>\n",
       "      <td>NaN</td>\n",
       "      <td>NaN</td>\n",
       "      <td>NaN</td>\n",
       "      <td>NaN</td>\n",
       "      <td>NaN</td>\n",
       "      <td>NaN</td>\n",
       "      <td>...</td>\n",
       "      <td>NaN</td>\n",
       "      <td>NaN</td>\n",
       "      <td>NaN</td>\n",
       "      <td>NaN</td>\n",
       "      <td>NaN</td>\n",
       "      <td>NaN</td>\n",
       "      <td>NaN</td>\n",
       "      <td>NaN</td>\n",
       "      <td>NaN</td>\n",
       "      <td>NaN</td>\n",
       "    </tr>\n",
       "    <tr>\n",
       "      <th>Des-O</th>\n",
       "      <td>0.056587</td>\n",
       "      <td>0.220198</td>\n",
       "      <td>NaN</td>\n",
       "      <td>0.999357</td>\n",
       "      <td>0.515476</td>\n",
       "      <td>0.056370</td>\n",
       "      <td>0.218910</td>\n",
       "      <td>NaN</td>\n",
       "      <td>1.000000</td>\n",
       "      <td>0.499199</td>\n",
       "      <td>...</td>\n",
       "      <td>0.001128</td>\n",
       "      <td>-0.007497</td>\n",
       "      <td>0.591040</td>\n",
       "      <td>0.516821</td>\n",
       "      <td>NaN</td>\n",
       "      <td>0.998059</td>\n",
       "      <td>0.009580</td>\n",
       "      <td>-0.026040</td>\n",
       "      <td>-0.035812</td>\n",
       "      <td>0.133257</td>\n",
       "    </tr>\n",
       "    <tr>\n",
       "      <th>Emp-O</th>\n",
       "      <td>0.110799</td>\n",
       "      <td>0.539579</td>\n",
       "      <td>NaN</td>\n",
       "      <td>0.500073</td>\n",
       "      <td>0.969091</td>\n",
       "      <td>0.115825</td>\n",
       "      <td>0.484619</td>\n",
       "      <td>NaN</td>\n",
       "      <td>0.499199</td>\n",
       "      <td>1.000000</td>\n",
       "      <td>...</td>\n",
       "      <td>0.001535</td>\n",
       "      <td>0.004187</td>\n",
       "      <td>0.402845</td>\n",
       "      <td>0.939752</td>\n",
       "      <td>NaN</td>\n",
       "      <td>0.501762</td>\n",
       "      <td>0.004728</td>\n",
       "      <td>0.022234</td>\n",
       "      <td>0.011388</td>\n",
       "      <td>0.104721</td>\n",
       "    </tr>\n",
       "    <tr>\n",
       "      <th>DIA</th>\n",
       "      <td>0.009744</td>\n",
       "      <td>0.004870</td>\n",
       "      <td>NaN</td>\n",
       "      <td>0.002724</td>\n",
       "      <td>0.005864</td>\n",
       "      <td>0.009880</td>\n",
       "      <td>0.007210</td>\n",
       "      <td>NaN</td>\n",
       "      <td>0.002718</td>\n",
       "      <td>0.005798</td>\n",
       "      <td>...</td>\n",
       "      <td>-0.009045</td>\n",
       "      <td>-0.018494</td>\n",
       "      <td>0.004884</td>\n",
       "      <td>0.005144</td>\n",
       "      <td>NaN</td>\n",
       "      <td>0.002898</td>\n",
       "      <td>-0.150848</td>\n",
       "      <td>0.001642</td>\n",
       "      <td>0.009209</td>\n",
       "      <td>0.000975</td>\n",
       "    </tr>\n",
       "    <tr>\n",
       "      <th>MES</th>\n",
       "      <td>0.995624</td>\n",
       "      <td>0.262871</td>\n",
       "      <td>NaN</td>\n",
       "      <td>0.031611</td>\n",
       "      <td>0.060381</td>\n",
       "      <td>0.996004</td>\n",
       "      <td>0.365159</td>\n",
       "      <td>NaN</td>\n",
       "      <td>0.031752</td>\n",
       "      <td>0.059287</td>\n",
       "      <td>...</td>\n",
       "      <td>-0.008642</td>\n",
       "      <td>0.015646</td>\n",
       "      <td>0.011564</td>\n",
       "      <td>0.045215</td>\n",
       "      <td>NaN</td>\n",
       "      <td>0.030910</td>\n",
       "      <td>0.294126</td>\n",
       "      <td>0.068570</td>\n",
       "      <td>0.083416</td>\n",
       "      <td>0.007104</td>\n",
       "    </tr>\n",
       "    <tr>\n",
       "      <th>AÑO</th>\n",
       "      <td>0.008531</td>\n",
       "      <td>0.017581</td>\n",
       "      <td>NaN</td>\n",
       "      <td>0.001115</td>\n",
       "      <td>0.002128</td>\n",
       "      <td>0.009068</td>\n",
       "      <td>0.017435</td>\n",
       "      <td>NaN</td>\n",
       "      <td>0.001128</td>\n",
       "      <td>0.001535</td>\n",
       "      <td>...</td>\n",
       "      <td>1.000000</td>\n",
       "      <td>-0.005339</td>\n",
       "      <td>-0.005891</td>\n",
       "      <td>0.001403</td>\n",
       "      <td>NaN</td>\n",
       "      <td>0.001386</td>\n",
       "      <td>-0.007651</td>\n",
       "      <td>0.005391</td>\n",
       "      <td>0.004394</td>\n",
       "      <td>-0.007733</td>\n",
       "    </tr>\n",
       "    <tr>\n",
       "      <th>DIANOM</th>\n",
       "      <td>0.016325</td>\n",
       "      <td>0.021059</td>\n",
       "      <td>NaN</td>\n",
       "      <td>-0.007424</td>\n",
       "      <td>0.003551</td>\n",
       "      <td>0.016777</td>\n",
       "      <td>0.021061</td>\n",
       "      <td>NaN</td>\n",
       "      <td>-0.007497</td>\n",
       "      <td>0.004187</td>\n",
       "      <td>...</td>\n",
       "      <td>-0.005339</td>\n",
       "      <td>1.000000</td>\n",
       "      <td>-0.010212</td>\n",
       "      <td>0.003400</td>\n",
       "      <td>NaN</td>\n",
       "      <td>-0.007575</td>\n",
       "      <td>-0.010758</td>\n",
       "      <td>0.022761</td>\n",
       "      <td>0.027024</td>\n",
       "      <td>0.002772</td>\n",
       "    </tr>\n",
       "    <tr>\n",
       "      <th>TIPOVUELO</th>\n",
       "      <td>0.020690</td>\n",
       "      <td>-0.048713</td>\n",
       "      <td>NaN</td>\n",
       "      <td>0.593030</td>\n",
       "      <td>0.415020</td>\n",
       "      <td>0.016872</td>\n",
       "      <td>-0.000559</td>\n",
       "      <td>NaN</td>\n",
       "      <td>0.591040</td>\n",
       "      <td>0.402845</td>\n",
       "      <td>...</td>\n",
       "      <td>-0.005891</td>\n",
       "      <td>-0.010212</td>\n",
       "      <td>1.000000</td>\n",
       "      <td>0.413138</td>\n",
       "      <td>NaN</td>\n",
       "      <td>0.592497</td>\n",
       "      <td>-0.001033</td>\n",
       "      <td>-0.077640</td>\n",
       "      <td>-0.096295</td>\n",
       "      <td>0.159418</td>\n",
       "    </tr>\n",
       "    <tr>\n",
       "      <th>OPERA</th>\n",
       "      <td>0.086301</td>\n",
       "      <td>0.401084</td>\n",
       "      <td>NaN</td>\n",
       "      <td>0.517540</td>\n",
       "      <td>0.971096</td>\n",
       "      <td>0.089009</td>\n",
       "      <td>0.367460</td>\n",
       "      <td>NaN</td>\n",
       "      <td>0.516821</td>\n",
       "      <td>0.939752</td>\n",
       "      <td>...</td>\n",
       "      <td>0.001403</td>\n",
       "      <td>0.003400</td>\n",
       "      <td>0.413138</td>\n",
       "      <td>1.000000</td>\n",
       "      <td>NaN</td>\n",
       "      <td>0.521139</td>\n",
       "      <td>-0.002924</td>\n",
       "      <td>0.007973</td>\n",
       "      <td>0.001977</td>\n",
       "      <td>0.129739</td>\n",
       "    </tr>\n",
       "    <tr>\n",
       "      <th>SIGLAORI</th>\n",
       "      <td>NaN</td>\n",
       "      <td>NaN</td>\n",
       "      <td>NaN</td>\n",
       "      <td>NaN</td>\n",
       "      <td>NaN</td>\n",
       "      <td>NaN</td>\n",
       "      <td>NaN</td>\n",
       "      <td>NaN</td>\n",
       "      <td>NaN</td>\n",
       "      <td>NaN</td>\n",
       "      <td>...</td>\n",
       "      <td>NaN</td>\n",
       "      <td>NaN</td>\n",
       "      <td>NaN</td>\n",
       "      <td>NaN</td>\n",
       "      <td>NaN</td>\n",
       "      <td>NaN</td>\n",
       "      <td>NaN</td>\n",
       "      <td>NaN</td>\n",
       "      <td>NaN</td>\n",
       "      <td>NaN</td>\n",
       "    </tr>\n",
       "    <tr>\n",
       "      <th>SIGLADES</th>\n",
       "      <td>0.055859</td>\n",
       "      <td>0.219370</td>\n",
       "      <td>NaN</td>\n",
       "      <td>0.997427</td>\n",
       "      <td>0.518949</td>\n",
       "      <td>0.055518</td>\n",
       "      <td>0.218591</td>\n",
       "      <td>NaN</td>\n",
       "      <td>0.998059</td>\n",
       "      <td>0.501762</td>\n",
       "      <td>...</td>\n",
       "      <td>0.001386</td>\n",
       "      <td>-0.007575</td>\n",
       "      <td>0.592497</td>\n",
       "      <td>0.521139</td>\n",
       "      <td>NaN</td>\n",
       "      <td>1.000000</td>\n",
       "      <td>0.008542</td>\n",
       "      <td>-0.027549</td>\n",
       "      <td>-0.037855</td>\n",
       "      <td>0.123769</td>\n",
       "    </tr>\n",
       "    <tr>\n",
       "      <th>temporada_alta</th>\n",
       "      <td>0.279768</td>\n",
       "      <td>-0.015004</td>\n",
       "      <td>NaN</td>\n",
       "      <td>0.009422</td>\n",
       "      <td>-0.000578</td>\n",
       "      <td>0.287149</td>\n",
       "      <td>-0.052047</td>\n",
       "      <td>NaN</td>\n",
       "      <td>0.009580</td>\n",
       "      <td>0.004728</td>\n",
       "      <td>...</td>\n",
       "      <td>-0.007651</td>\n",
       "      <td>-0.010758</td>\n",
       "      <td>-0.001033</td>\n",
       "      <td>-0.002924</td>\n",
       "      <td>NaN</td>\n",
       "      <td>0.008542</td>\n",
       "      <td>1.000000</td>\n",
       "      <td>-0.014049</td>\n",
       "      <td>-0.020854</td>\n",
       "      <td>0.020191</td>\n",
       "    </tr>\n",
       "    <tr>\n",
       "      <th>dif_min</th>\n",
       "      <td>0.069257</td>\n",
       "      <td>0.062766</td>\n",
       "      <td>NaN</td>\n",
       "      <td>-0.025893</td>\n",
       "      <td>0.006390</td>\n",
       "      <td>0.070840</td>\n",
       "      <td>0.064010</td>\n",
       "      <td>NaN</td>\n",
       "      <td>-0.026040</td>\n",
       "      <td>0.022234</td>\n",
       "      <td>...</td>\n",
       "      <td>0.005391</td>\n",
       "      <td>0.022761</td>\n",
       "      <td>-0.077640</td>\n",
       "      <td>0.007973</td>\n",
       "      <td>NaN</td>\n",
       "      <td>-0.027549</td>\n",
       "      <td>-0.014049</td>\n",
       "      <td>1.000000</td>\n",
       "      <td>0.621691</td>\n",
       "      <td>-0.032812</td>\n",
       "    </tr>\n",
       "    <tr>\n",
       "      <th>atraso_15</th>\n",
       "      <td>0.083994</td>\n",
       "      <td>0.070851</td>\n",
       "      <td>NaN</td>\n",
       "      <td>-0.035866</td>\n",
       "      <td>-0.002933</td>\n",
       "      <td>0.085200</td>\n",
       "      <td>0.073072</td>\n",
       "      <td>NaN</td>\n",
       "      <td>-0.035812</td>\n",
       "      <td>0.011388</td>\n",
       "      <td>...</td>\n",
       "      <td>0.004394</td>\n",
       "      <td>0.027024</td>\n",
       "      <td>-0.096295</td>\n",
       "      <td>0.001977</td>\n",
       "      <td>NaN</td>\n",
       "      <td>-0.037855</td>\n",
       "      <td>-0.020854</td>\n",
       "      <td>0.621691</td>\n",
       "      <td>1.000000</td>\n",
       "      <td>-0.043061</td>\n",
       "    </tr>\n",
       "    <tr>\n",
       "      <th>periodo_dia</th>\n",
       "      <td>0.001036</td>\n",
       "      <td>-0.036546</td>\n",
       "      <td>NaN</td>\n",
       "      <td>0.134093</td>\n",
       "      <td>0.114902</td>\n",
       "      <td>0.004577</td>\n",
       "      <td>-0.025554</td>\n",
       "      <td>NaN</td>\n",
       "      <td>0.133257</td>\n",
       "      <td>0.104721</td>\n",
       "      <td>...</td>\n",
       "      <td>-0.007733</td>\n",
       "      <td>0.002772</td>\n",
       "      <td>0.159418</td>\n",
       "      <td>0.129739</td>\n",
       "      <td>NaN</td>\n",
       "      <td>0.123769</td>\n",
       "      <td>0.020191</td>\n",
       "      <td>-0.032812</td>\n",
       "      <td>-0.043061</td>\n",
       "      <td>1.000000</td>\n",
       "    </tr>\n",
       "  </tbody>\n",
       "</table>\n",
       "<p>22 rows × 22 columns</p>\n",
       "</div>"
      ],
      "text/plain": [
       "                 Fecha-I     Vlo-I  Ori-I     Des-I     Emp-I   Fecha-O  \\\n",
       "Fecha-I         1.000000  0.317062    NaN  0.056458  0.109620  0.998283   \n",
       "Vlo-I           0.317062  1.000000    NaN  0.219671  0.498741  0.322222   \n",
       "Ori-I                NaN       NaN    NaN       NaN       NaN       NaN   \n",
       "Des-I           0.056458  0.219671    NaN  1.000000  0.516346  0.056241   \n",
       "Emp-I           0.109620  0.498741    NaN  0.516346  1.000000  0.113276   \n",
       "Fecha-O         0.998283  0.322222    NaN  0.056241  0.113276  1.000000   \n",
       "Vlo-O           0.417382  0.894218    NaN  0.218597  0.452361  0.419606   \n",
       "Ori-O                NaN       NaN    NaN       NaN       NaN       NaN   \n",
       "Des-O           0.056587  0.220198    NaN  0.999357  0.515476  0.056370   \n",
       "Emp-O           0.110799  0.539579    NaN  0.500073  0.969091  0.115825   \n",
       "DIA             0.009744  0.004870    NaN  0.002724  0.005864  0.009880   \n",
       "MES             0.995624  0.262871    NaN  0.031611  0.060381  0.996004   \n",
       "AÑO             0.008531  0.017581    NaN  0.001115  0.002128  0.009068   \n",
       "DIANOM          0.016325  0.021059    NaN -0.007424  0.003551  0.016777   \n",
       "TIPOVUELO       0.020690 -0.048713    NaN  0.593030  0.415020  0.016872   \n",
       "OPERA           0.086301  0.401084    NaN  0.517540  0.971096  0.089009   \n",
       "SIGLAORI             NaN       NaN    NaN       NaN       NaN       NaN   \n",
       "SIGLADES        0.055859  0.219370    NaN  0.997427  0.518949  0.055518   \n",
       "temporada_alta  0.279768 -0.015004    NaN  0.009422 -0.000578  0.287149   \n",
       "dif_min         0.069257  0.062766    NaN -0.025893  0.006390  0.070840   \n",
       "atraso_15       0.083994  0.070851    NaN -0.035866 -0.002933  0.085200   \n",
       "periodo_dia     0.001036 -0.036546    NaN  0.134093  0.114902  0.004577   \n",
       "\n",
       "                   Vlo-O  Ori-O     Des-O     Emp-O  ...       AÑO    DIANOM  \\\n",
       "Fecha-I         0.417382    NaN  0.056587  0.110799  ...  0.008531  0.016325   \n",
       "Vlo-I           0.894218    NaN  0.220198  0.539579  ...  0.017581  0.021059   \n",
       "Ori-I                NaN    NaN       NaN       NaN  ...       NaN       NaN   \n",
       "Des-I           0.218597    NaN  0.999357  0.500073  ...  0.001115 -0.007424   \n",
       "Emp-I           0.452361    NaN  0.515476  0.969091  ...  0.002128  0.003551   \n",
       "Fecha-O         0.419606    NaN  0.056370  0.115825  ...  0.009068  0.016777   \n",
       "Vlo-O           1.000000    NaN  0.218910  0.484619  ...  0.017435  0.021061   \n",
       "Ori-O                NaN    NaN       NaN       NaN  ...       NaN       NaN   \n",
       "Des-O           0.218910    NaN  1.000000  0.499199  ...  0.001128 -0.007497   \n",
       "Emp-O           0.484619    NaN  0.499199  1.000000  ...  0.001535  0.004187   \n",
       "DIA             0.007210    NaN  0.002718  0.005798  ... -0.009045 -0.018494   \n",
       "MES             0.365159    NaN  0.031752  0.059287  ... -0.008642  0.015646   \n",
       "AÑO             0.017435    NaN  0.001128  0.001535  ...  1.000000 -0.005339   \n",
       "DIANOM          0.021061    NaN -0.007497  0.004187  ... -0.005339  1.000000   \n",
       "TIPOVUELO      -0.000559    NaN  0.591040  0.402845  ... -0.005891 -0.010212   \n",
       "OPERA           0.367460    NaN  0.516821  0.939752  ...  0.001403  0.003400   \n",
       "SIGLAORI             NaN    NaN       NaN       NaN  ...       NaN       NaN   \n",
       "SIGLADES        0.218591    NaN  0.998059  0.501762  ...  0.001386 -0.007575   \n",
       "temporada_alta -0.052047    NaN  0.009580  0.004728  ... -0.007651 -0.010758   \n",
       "dif_min         0.064010    NaN -0.026040  0.022234  ...  0.005391  0.022761   \n",
       "atraso_15       0.073072    NaN -0.035812  0.011388  ...  0.004394  0.027024   \n",
       "periodo_dia    -0.025554    NaN  0.133257  0.104721  ... -0.007733  0.002772   \n",
       "\n",
       "                TIPOVUELO     OPERA  SIGLAORI  SIGLADES  temporada_alta  \\\n",
       "Fecha-I          0.020690  0.086301       NaN  0.055859        0.279768   \n",
       "Vlo-I           -0.048713  0.401084       NaN  0.219370       -0.015004   \n",
       "Ori-I                 NaN       NaN       NaN       NaN             NaN   \n",
       "Des-I            0.593030  0.517540       NaN  0.997427        0.009422   \n",
       "Emp-I            0.415020  0.971096       NaN  0.518949       -0.000578   \n",
       "Fecha-O          0.016872  0.089009       NaN  0.055518        0.287149   \n",
       "Vlo-O           -0.000559  0.367460       NaN  0.218591       -0.052047   \n",
       "Ori-O                 NaN       NaN       NaN       NaN             NaN   \n",
       "Des-O            0.591040  0.516821       NaN  0.998059        0.009580   \n",
       "Emp-O            0.402845  0.939752       NaN  0.501762        0.004728   \n",
       "DIA              0.004884  0.005144       NaN  0.002898       -0.150848   \n",
       "MES              0.011564  0.045215       NaN  0.030910        0.294126   \n",
       "AÑO             -0.005891  0.001403       NaN  0.001386       -0.007651   \n",
       "DIANOM          -0.010212  0.003400       NaN -0.007575       -0.010758   \n",
       "TIPOVUELO        1.000000  0.413138       NaN  0.592497       -0.001033   \n",
       "OPERA            0.413138  1.000000       NaN  0.521139       -0.002924   \n",
       "SIGLAORI              NaN       NaN       NaN       NaN             NaN   \n",
       "SIGLADES         0.592497  0.521139       NaN  1.000000        0.008542   \n",
       "temporada_alta  -0.001033 -0.002924       NaN  0.008542        1.000000   \n",
       "dif_min         -0.077640  0.007973       NaN -0.027549       -0.014049   \n",
       "atraso_15       -0.096295  0.001977       NaN -0.037855       -0.020854   \n",
       "periodo_dia      0.159418  0.129739       NaN  0.123769        0.020191   \n",
       "\n",
       "                 dif_min  atraso_15  periodo_dia  \n",
       "Fecha-I         0.069257   0.083994     0.001036  \n",
       "Vlo-I           0.062766   0.070851    -0.036546  \n",
       "Ori-I                NaN        NaN          NaN  \n",
       "Des-I          -0.025893  -0.035866     0.134093  \n",
       "Emp-I           0.006390  -0.002933     0.114902  \n",
       "Fecha-O         0.070840   0.085200     0.004577  \n",
       "Vlo-O           0.064010   0.073072    -0.025554  \n",
       "Ori-O                NaN        NaN          NaN  \n",
       "Des-O          -0.026040  -0.035812     0.133257  \n",
       "Emp-O           0.022234   0.011388     0.104721  \n",
       "DIA             0.001642   0.009209     0.000975  \n",
       "MES             0.068570   0.083416     0.007104  \n",
       "AÑO             0.005391   0.004394    -0.007733  \n",
       "DIANOM          0.022761   0.027024     0.002772  \n",
       "TIPOVUELO      -0.077640  -0.096295     0.159418  \n",
       "OPERA           0.007973   0.001977     0.129739  \n",
       "SIGLAORI             NaN        NaN          NaN  \n",
       "SIGLADES       -0.027549  -0.037855     0.123769  \n",
       "temporada_alta -0.014049  -0.020854     0.020191  \n",
       "dif_min         1.000000   0.621691    -0.032812  \n",
       "atraso_15       0.621691   1.000000    -0.043061  \n",
       "periodo_dia    -0.032812  -0.043061     1.000000  \n",
       "\n",
       "[22 rows x 22 columns]"
      ]
     },
     "execution_count": 43,
     "metadata": {},
     "output_type": "execute_result"
    }
   ],
   "source": [
    "data.apply(lambda x: x.factorize()[0]).corr()"
   ]
  },
  {
   "cell_type": "code",
   "execution_count": 141,
   "id": "0cabc71b",
   "metadata": {},
   "outputs": [
    {
     "data": {
      "text/plain": [
       "array([<AxesSubplot:title={'center':'0'}>,\n",
       "       <AxesSubplot:title={'center':'1'}>], dtype=object)"
      ]
     },
     "execution_count": 141,
     "metadata": {},
     "output_type": "execute_result"
    },
    {
     "data": {
      "image/png": "[encoded data removed]",
      "text/plain": [
       "<Figure size 432x288 with 2 Axes>"
      ]
     },
     "metadata": {
      "needs_background": "light"
     },
     "output_type": "display_data"
    }
   ],
   "source": [
    "data.hist(column='DIANOM', by='atraso_15', bins = 7, histtype='bar', ec='black')"
   ]
  },
  {
   "cell_type": "code",
   "execution_count": 142,
   "id": "c14dfa9e",
   "metadata": {},
   "outputs": [
    {
     "data": {
      "text/plain": [
       "array([<AxesSubplot:title={'center':'0'}>,\n",
       "       <AxesSubplot:title={'center':'1'}>], dtype=object)"
      ]
     },
     "execution_count": 142,
     "metadata": {},
     "output_type": "execute_result"
    },
    {
     "data": {
      "image/png": "[encoded data removed]",
      "text/plain": [
       "<Figure size 432x288 with 2 Axes>"
      ]
     },
     "metadata": {
      "needs_background": "light"
     },
     "output_type": "display_data"
    }
   ],
   "source": [
    "data.hist(column='MES', by='atraso_15', histtype='bar', ec='black')"
   ]
  },
  {
   "cell_type": "code",
   "execution_count": 143,
   "id": "ef2c7775",
   "metadata": {},
   "outputs": [
    {
     "data": {
      "text/plain": [
       "array([<AxesSubplot:title={'center':'0'}>,\n",
       "       <AxesSubplot:title={'center':'1'}>], dtype=object)"
      ]
     },
     "execution_count": 143,
     "metadata": {},
     "output_type": "execute_result"
    },
    {
     "data": {
      "image/png": "[encoded data removed]",
      "text/plain": [
       "<Figure size 432x288 with 2 Axes>"
      ]
     },
     "metadata": {
      "needs_background": "light"
     },
     "output_type": "display_data"
    }
   ],
   "source": [
    "data.hist(column='MES', by='atraso_15', bins = 12, histtype='bar', ec='black')"
   ]
  },
  {
   "cell_type": "code",
   "execution_count": 144,
   "id": "d0b3e8a6",
   "metadata": {},
   "outputs": [
    {
     "data": {
      "text/plain": [
       "array([<AxesSubplot:title={'center':'0'}>,\n",
       "       <AxesSubplot:title={'center':'1'}>], dtype=object)"
      ]
     },
     "execution_count": 144,
     "metadata": {},
     "output_type": "execute_result"
    },
    {
     "data": {
      "image/png": "[encoded data removed]",
      "text/plain": [
       "<Figure size 432x288 with 2 Axes>"
      ]
     },
     "metadata": {
      "needs_background": "light"
     },
     "output_type": "display_data"
    }
   ],
   "source": [
    "data.hist(column='temporada_alta', by='atraso_15', bins = 2, histtype='bar', ec='black')"
   ]
  },
  {
   "cell_type": "code",
   "execution_count": 145,
   "id": "016b8812",
   "metadata": {},
   "outputs": [
    {
     "data": {
      "text/plain": [
       "array([<AxesSubplot:title={'center':'0'}>,\n",
       "       <AxesSubplot:title={'center':'1'}>], dtype=object)"
      ]
     },
     "execution_count": 145,
     "metadata": {},
     "output_type": "execute_result"
    },
    {
     "data": {
      "image/png": "[encoded data removed]",
      "text/plain": [
       "<Figure size 432x288 with 2 Axes>"
      ]
     },
     "metadata": {
      "needs_background": "light"
     },
     "output_type": "display_data"
    }
   ],
   "source": [
    "data.hist(column='TIPOVUELO', by='atraso_15', bins = 2, histtype='bar', ec='black')"
   ]
  },
  {
   "cell_type": "code",
   "execution_count": 146,
   "id": "87b091a6",
   "metadata": {},
   "outputs": [
    {
     "data": {
      "text/plain": [
       "array([<AxesSubplot:title={'center':'0'}>,\n",
       "       <AxesSubplot:title={'center':'1'}>], dtype=object)"
      ]
     },
     "execution_count": 146,
     "metadata": {},
     "output_type": "execute_result"
    },
    {
     "data": {
      "image/png": "[encoded data removed]",
      "text/plain": [
       "<Figure size 432x288 with 2 Axes>"
      ]
     },
     "metadata": {
      "needs_background": "light"
     },
     "output_type": "display_data"
    }
   ],
   "source": [
    "data.hist(column='periodo_dia', by='atraso_15', bins = 3, histtype='bar', ec='black')"
   ]
  },
  {
   "cell_type": "markdown",
   "id": "0c8f0ddb",
   "metadata": {},
   "source": [
    "# 4- Entrenamiento de modelos"
   ]
  },
  {
   "cell_type": "markdown",
   "id": "08e46ed8",
   "metadata": {},
   "source": [
    "### Cargaremos nuevas librerías para la etapa de modelamiento"
   ]
  },
  {
   "cell_type": "code",
   "execution_count": 133,
   "id": "4417a8ac",
   "metadata": {},
   "outputs": [],
   "source": [
    "from sklearn.metrics import accuracy_score, precision_score, recall_score, f1_score, roc_curve\n",
    "from sklearn.model_selection import train_test_split\n",
    "from sklearn.tree import DecisionTreeClassifier\n",
    "from sklearn.ensemble import RandomForestClassifier\n",
    "from sklearn import preprocessing\n",
    "from imblearn.over_sampling import RandomOverSampler\n",
    "from imblearn.under_sampling import RandomUnderSampler"
   ]
  },
  {
   "cell_type": "markdown",
   "id": "d00b5ae1",
   "metadata": {},
   "source": [
    "## 4.1- Procesamiento de datos"
   ]
  },
  {
   "cell_type": "markdown",
   "id": "99b18b11",
   "metadata": {},
   "source": [
    "### Hay columnas del tipo tiempo y categóricas, para lograr un mejor entrenamiento en los modelo aplicaremos transformaciones y obtener y valor númerico. Las columnas de tiempo aplico funciones trigonométrica seno y coseno, para aprovechar la perioricidad y las columnas categóricas funciones estadisticas para obtener el ratio de cada categoría según la columna atraso_15."
   ]
  },
  {
   "cell_type": "code",
   "execution_count": 51,
   "id": "cad9d834",
   "metadata": {},
   "outputs": [],
   "source": [
    "# copio dataframe en uno nuevo que será manipulado\n",
    "clean_data = data.copy()"
   ]
  },
  {
   "cell_type": "code",
   "execution_count": 52,
   "id": "6fcb213a",
   "metadata": {},
   "outputs": [
    {
     "data": {
      "text/html": [
       "<div>\n",
       "<style scoped>\n",
       "    .dataframe tbody tr th:only-of-type {\n",
       "        vertical-align: middle;\n",
       "    }\n",
       "\n",
       "    .dataframe tbody tr th {\n",
       "        vertical-align: top;\n",
       "    }\n",
       "\n",
       "    .dataframe thead th {\n",
       "        text-align: right;\n",
       "    }\n",
       "</style>\n",
       "<table border=\"1\" class=\"dataframe\">\n",
       "  <thead>\n",
       "    <tr style=\"text-align: right;\">\n",
       "      <th></th>\n",
       "      <th>Fecha-I</th>\n",
       "      <th>Vlo-I</th>\n",
       "      <th>Ori-I</th>\n",
       "      <th>Des-I</th>\n",
       "      <th>Emp-I</th>\n",
       "      <th>Fecha-O</th>\n",
       "      <th>Vlo-O</th>\n",
       "      <th>Ori-O</th>\n",
       "      <th>Des-O</th>\n",
       "      <th>Emp-O</th>\n",
       "      <th>...</th>\n",
       "      <th>AÑO</th>\n",
       "      <th>DIANOM</th>\n",
       "      <th>TIPOVUELO</th>\n",
       "      <th>OPERA</th>\n",
       "      <th>SIGLAORI</th>\n",
       "      <th>SIGLADES</th>\n",
       "      <th>temporada_alta</th>\n",
       "      <th>dif_min</th>\n",
       "      <th>atraso_15</th>\n",
       "      <th>periodo_dia</th>\n",
       "    </tr>\n",
       "  </thead>\n",
       "  <tbody>\n",
       "    <tr>\n",
       "      <th>0</th>\n",
       "      <td>2017-01-01 23:30:00</td>\n",
       "      <td>226</td>\n",
       "      <td>SCEL</td>\n",
       "      <td>KMIA</td>\n",
       "      <td>AAL</td>\n",
       "      <td>2017-01-01 23:33:00</td>\n",
       "      <td>226</td>\n",
       "      <td>SCEL</td>\n",
       "      <td>KMIA</td>\n",
       "      <td>AAL</td>\n",
       "      <td>...</td>\n",
       "      <td>2017</td>\n",
       "      <td>Domingo</td>\n",
       "      <td>I</td>\n",
       "      <td>American Airlines</td>\n",
       "      <td>Santiago</td>\n",
       "      <td>Miami</td>\n",
       "      <td>1</td>\n",
       "      <td>3.0</td>\n",
       "      <td>0</td>\n",
       "      <td>noche</td>\n",
       "    </tr>\n",
       "    <tr>\n",
       "      <th>1</th>\n",
       "      <td>2017-01-02 23:30:00</td>\n",
       "      <td>226</td>\n",
       "      <td>SCEL</td>\n",
       "      <td>KMIA</td>\n",
       "      <td>AAL</td>\n",
       "      <td>2017-01-02 23:39:00</td>\n",
       "      <td>226</td>\n",
       "      <td>SCEL</td>\n",
       "      <td>KMIA</td>\n",
       "      <td>AAL</td>\n",
       "      <td>...</td>\n",
       "      <td>2017</td>\n",
       "      <td>Lunes</td>\n",
       "      <td>I</td>\n",
       "      <td>American Airlines</td>\n",
       "      <td>Santiago</td>\n",
       "      <td>Miami</td>\n",
       "      <td>1</td>\n",
       "      <td>9.0</td>\n",
       "      <td>0</td>\n",
       "      <td>noche</td>\n",
       "    </tr>\n",
       "    <tr>\n",
       "      <th>2</th>\n",
       "      <td>2017-01-03 23:30:00</td>\n",
       "      <td>226</td>\n",
       "      <td>SCEL</td>\n",
       "      <td>KMIA</td>\n",
       "      <td>AAL</td>\n",
       "      <td>2017-01-03 23:39:00</td>\n",
       "      <td>226</td>\n",
       "      <td>SCEL</td>\n",
       "      <td>KMIA</td>\n",
       "      <td>AAL</td>\n",
       "      <td>...</td>\n",
       "      <td>2017</td>\n",
       "      <td>Martes</td>\n",
       "      <td>I</td>\n",
       "      <td>American Airlines</td>\n",
       "      <td>Santiago</td>\n",
       "      <td>Miami</td>\n",
       "      <td>1</td>\n",
       "      <td>9.0</td>\n",
       "      <td>0</td>\n",
       "      <td>noche</td>\n",
       "    </tr>\n",
       "    <tr>\n",
       "      <th>3</th>\n",
       "      <td>2017-01-04 23:30:00</td>\n",
       "      <td>226</td>\n",
       "      <td>SCEL</td>\n",
       "      <td>KMIA</td>\n",
       "      <td>AAL</td>\n",
       "      <td>2017-01-04 23:33:00</td>\n",
       "      <td>226</td>\n",
       "      <td>SCEL</td>\n",
       "      <td>KMIA</td>\n",
       "      <td>AAL</td>\n",
       "      <td>...</td>\n",
       "      <td>2017</td>\n",
       "      <td>Miercoles</td>\n",
       "      <td>I</td>\n",
       "      <td>American Airlines</td>\n",
       "      <td>Santiago</td>\n",
       "      <td>Miami</td>\n",
       "      <td>1</td>\n",
       "      <td>3.0</td>\n",
       "      <td>0</td>\n",
       "      <td>noche</td>\n",
       "    </tr>\n",
       "    <tr>\n",
       "      <th>4</th>\n",
       "      <td>2017-01-05 23:30:00</td>\n",
       "      <td>226</td>\n",
       "      <td>SCEL</td>\n",
       "      <td>KMIA</td>\n",
       "      <td>AAL</td>\n",
       "      <td>2017-01-05 23:28:00</td>\n",
       "      <td>226</td>\n",
       "      <td>SCEL</td>\n",
       "      <td>KMIA</td>\n",
       "      <td>AAL</td>\n",
       "      <td>...</td>\n",
       "      <td>2017</td>\n",
       "      <td>Jueves</td>\n",
       "      <td>I</td>\n",
       "      <td>American Airlines</td>\n",
       "      <td>Santiago</td>\n",
       "      <td>Miami</td>\n",
       "      <td>1</td>\n",
       "      <td>-2.0</td>\n",
       "      <td>0</td>\n",
       "      <td>noche</td>\n",
       "    </tr>\n",
       "  </tbody>\n",
       "</table>\n",
       "<p>5 rows × 22 columns</p>\n",
       "</div>"
      ],
      "text/plain": [
       "              Fecha-I Vlo-I Ori-I Des-I Emp-I             Fecha-O Vlo-O Ori-O  \\\n",
       "0 2017-01-01 23:30:00   226  SCEL  KMIA   AAL 2017-01-01 23:33:00   226  SCEL   \n",
       "1 2017-01-02 23:30:00   226  SCEL  KMIA   AAL 2017-01-02 23:39:00   226  SCEL   \n",
       "2 2017-01-03 23:30:00   226  SCEL  KMIA   AAL 2017-01-03 23:39:00   226  SCEL   \n",
       "3 2017-01-04 23:30:00   226  SCEL  KMIA   AAL 2017-01-04 23:33:00   226  SCEL   \n",
       "4 2017-01-05 23:30:00   226  SCEL  KMIA   AAL 2017-01-05 23:28:00   226  SCEL   \n",
       "\n",
       "  Des-O Emp-O  ...   AÑO     DIANOM  TIPOVUELO              OPERA  SIGLAORI  \\\n",
       "0  KMIA   AAL  ...  2017    Domingo          I  American Airlines  Santiago   \n",
       "1  KMIA   AAL  ...  2017      Lunes          I  American Airlines  Santiago   \n",
       "2  KMIA   AAL  ...  2017     Martes          I  American Airlines  Santiago   \n",
       "3  KMIA   AAL  ...  2017  Miercoles          I  American Airlines  Santiago   \n",
       "4  KMIA   AAL  ...  2017     Jueves          I  American Airlines  Santiago   \n",
       "\n",
       "  SIGLADES temporada_alta dif_min  atraso_15  periodo_dia  \n",
       "0    Miami              1     3.0          0        noche  \n",
       "1    Miami              1     9.0          0        noche  \n",
       "2    Miami              1     9.0          0        noche  \n",
       "3    Miami              1     3.0          0        noche  \n",
       "4    Miami              1    -2.0          0        noche  \n",
       "\n",
       "[5 rows x 22 columns]"
      ]
     },
     "execution_count": 52,
     "metadata": {},
     "output_type": "execute_result"
    }
   ],
   "source": [
    "clean_data.head()"
   ]
  },
  {
   "cell_type": "markdown",
   "id": "f88c0b43",
   "metadata": {},
   "source": [
    "### Variables con funcion trigonometrica"
   ]
  },
  {
   "cell_type": "code",
   "execution_count": 53,
   "id": "79e027b0",
   "metadata": {},
   "outputs": [],
   "source": [
    "# generar para la columna MES, nuevos valores con las funciones trigonometricas coseno y seno\n",
    "clean_data['MES_sin_feature'] = np.sin((2 * np.pi * clean_data['MES'])/ 12) \n",
    "clean_data['MES_cos_feature'] = np.cos((2 * np.pi * clean_data['MES'])/ 12) "
   ]
  },
  {
   "cell_type": "code",
   "execution_count": 54,
   "id": "48b1b316",
   "metadata": {},
   "outputs": [],
   "source": [
    "# generar la columna DIA_DEL_AÑO que tiene rango entre 0 a 364.\n",
    "tmp1 = pd.DataFrame({'year': pd.DatetimeIndex(clean_data['Fecha-I']).year})\n",
    "tmp2 = pd.DataFrame({'valor' : ['01-01-']*clean_data['Fecha-I'].size})\n",
    "clean_data['DIA_DEL_AÑO'] = (pd.DatetimeIndex(clean_data['Fecha-I']) - pd.DatetimeIndex(tmp2['valor'] + tmp1['year'].astype(str))).days"
   ]
  },
  {
   "cell_type": "code",
   "execution_count": 55,
   "id": "b24bf290",
   "metadata": {},
   "outputs": [],
   "source": [
    "# generar para la columna DIA_DEL_AÑO, nuevos valores con las funciones trigonometricas coseno y seno\n",
    "clean_data['DIA_DEL_AÑO_cos'] = np.cos((2 * np.pi * clean_data['DIA_DEL_AÑO'])/ 365) \n",
    "clean_data['DIA_DEL_AÑO_sin'] = np.sin((2 * np.pi * clean_data['DIA_DEL_AÑO'])/ 365) "
   ]
  },
  {
   "cell_type": "markdown",
   "id": "dffd473f",
   "metadata": {},
   "source": [
    "### Variables con funcion estadistica"
   ]
  },
  {
   "cell_type": "code",
   "execution_count": 57,
   "id": "4467945a",
   "metadata": {},
   "outputs": [],
   "source": [
    "clean_data['TIPOVUELO_total'] = clean_data.groupby(['TIPOVUELO']).DIANOM.transform('count')\n",
    "\n",
    "tmp = clean_data[clean_data['atraso_15'] == 1].groupby(['TIPOVUELO']).size().reset_index(name='TIPOVUELO_count')\n",
    "clean_data = clean_data.set_index('TIPOVUELO').join(tmp.set_index('TIPOVUELO')).reset_index()\n",
    "\n",
    "clean_data['TIPOVUELO_ratio'] = clean_data['TIPOVUELO_count'] / clean_data['TIPOVUELO_total']\n",
    "\n",
    "del clean_data['TIPOVUELO_total']\n",
    "del clean_data['TIPOVUELO_count']"
   ]
  },
  {
   "cell_type": "code",
   "execution_count": 58,
   "id": "b9822b43",
   "metadata": {},
   "outputs": [],
   "source": [
    "clean_data['DIANOM_total'] = clean_data.groupby(['DIANOM']).DIANOM.transform('count')\n",
    "\n",
    "tmp = clean_data[clean_data['atraso_15'] == 1].groupby(['DIANOM']).size().reset_index(name='DIANOM_count')\n",
    "clean_data = clean_data.set_index('DIANOM').join(tmp.set_index('DIANOM')).reset_index()\n",
    "\n",
    "clean_data['DIANOM_ratio'] = clean_data['DIANOM_count'] / clean_data['DIANOM_total']\n",
    "\n",
    "del clean_data['DIANOM_total']\n",
    "del clean_data['DIANOM_count']"
   ]
  },
  {
   "cell_type": "code",
   "execution_count": 59,
   "id": "c01dfc21",
   "metadata": {},
   "outputs": [],
   "source": [
    "clean_data['Des-I_total'] = clean_data.groupby(['Des-I']).DIANOM.transform('count')\n",
    "\n",
    "tmp = clean_data[clean_data['atraso_15'] == 1].groupby(['Des-I']).size().reset_index(name='Des-I_count')\n",
    "clean_data = clean_data.set_index('Des-I').join(tmp.set_index('Des-I')).reset_index()\n",
    "clean_data['Des-I_count'] = clean_data['Des-I_count'].fillna(0)\n",
    "\n",
    "clean_data['Des-I_ratio'] = clean_data['Des-I_count'] / clean_data['Des-I_total']\n",
    "\n",
    "del clean_data['Des-I_total']\n",
    "del clean_data['Des-I_count']"
   ]
  },
  {
   "cell_type": "code",
   "execution_count": 60,
   "id": "547d297b",
   "metadata": {},
   "outputs": [],
   "source": [
    "clean_data['Emp-I_total'] = clean_data.groupby(['Emp-I']).DIANOM.transform('count')\n",
    "\n",
    "tmp = clean_data[clean_data['atraso_15'] == 1].groupby(['Emp-I']).size().reset_index(name='Emp-I_count')\n",
    "clean_data = clean_data.set_index('Emp-I').join(tmp.set_index('Emp-I')).reset_index()\n",
    "clean_data['Emp-I_count'] = clean_data['Emp-I_count'].fillna(0)\n",
    "\n",
    "clean_data['Emp-I_ratio'] = clean_data['Emp-I_count'] / clean_data['Emp-I_total']\n",
    "\n",
    "del clean_data['Emp-I_total']\n",
    "del clean_data['Emp-I_count']"
   ]
  },
  {
   "cell_type": "code",
   "execution_count": 61,
   "id": "d53e9648",
   "metadata": {},
   "outputs": [],
   "source": [
    "clean_data['OPERA_total'] = clean_data.groupby(['OPERA']).DIANOM.transform('count')\n",
    "\n",
    "tmp = clean_data[clean_data['atraso_15'] == 1].groupby(['OPERA']).size().reset_index(name='OPERA_count')\n",
    "clean_data = clean_data.set_index('OPERA').join(tmp.set_index('OPERA')).reset_index()\n",
    "clean_data['OPERA_count'] = clean_data['OPERA_count'].fillna(0)\n",
    "\n",
    "clean_data['OPERA_ratio'] = clean_data['OPERA_count'] / clean_data['OPERA_total']\n",
    "\n",
    "del clean_data['OPERA_total']\n",
    "del clean_data['OPERA_count']"
   ]
  },
  {
   "cell_type": "code",
   "execution_count": 63,
   "id": "ef175711",
   "metadata": {},
   "outputs": [],
   "source": [
    "clean_data['Vlo-I_total'] = clean_data.groupby(['Vlo-I']).DIANOM.transform('count')\n",
    "\n",
    "tmp = clean_data[clean_data['atraso_15'] == 1].groupby(['Vlo-I']).size().reset_index(name='Vlo-I_count')\n",
    "clean_data = clean_data.set_index('Vlo-I').join(tmp.set_index('Vlo-I')).reset_index()\n",
    "clean_data['Vlo-I_count'] = clean_data['Vlo-I_count'].fillna(0)\n",
    "\n",
    "clean_data['Vlo-I_ratio'] = clean_data['Vlo-I_count'] / clean_data['Vlo-I_total']\n",
    "\n",
    "del clean_data['Vlo-I_total']\n",
    "del clean_data['Vlo-I_count']"
   ]
  },
  {
   "cell_type": "markdown",
   "id": "7a593405",
   "metadata": {},
   "source": [
    "## 4.2 Elección de variables"
   ]
  },
  {
   "cell_type": "markdown",
   "id": "3f2b8989",
   "metadata": {},
   "source": [
    "### Buscamos predecir si el vuelo se atrasará, por lo que nuestro target es la variable 'atraso_15'."
   ]
  },
  {
   "cell_type": "code",
   "execution_count": 67,
   "id": "e1bb4db7",
   "metadata": {},
   "outputs": [],
   "source": [
    "y = clean_data[['atraso_15']].copy()"
   ]
  },
  {
   "cell_type": "markdown",
   "id": "d4738bd0",
   "metadata": {},
   "source": [
    "### Hemos descargado las columnas relacionadas con la operación, al no ser información previa al atraso (Fecha-O, Vlo-O, Ori-O, Des-O y Emp-O). Además descartamos Ori-I y SIGLAORI, al no aportar mayor información, al ser siempre solo un valor. SIGLADES es una informaicón redundante con Des-I."
   ]
  },
  {
   "cell_type": "code",
   "execution_count": 68,
   "id": "fe307667",
   "metadata": {},
   "outputs": [],
   "source": [
    "features = ['DIA_DEL_AÑO_cos', 'DIA_DEL_AÑO_cos', 'MES_sin_feature', 'MES_cos_feature', \n",
    "            'DIA', 'MES', 'DIANOM_ratio', 'TIPOVUELO_ratio',\n",
    "            'OPERA_ratio', 'Emp-I_ratio', 'Des-I_ratio', 'Vlo-I_ratio']"
   ]
  },
  {
   "cell_type": "code",
   "execution_count": 69,
   "id": "2c319dd7",
   "metadata": {},
   "outputs": [],
   "source": [
    "X = clean_data[features].copy()"
   ]
  },
  {
   "cell_type": "markdown",
   "id": "e120a8fd",
   "metadata": {},
   "source": [
    "### Considerando que hay un desbalance entre las dos etiquetas del target, aplicaré el método overSampling para solucionar el problema mencionado."
   ]
  },
  {
   "cell_type": "code",
   "execution_count": 70,
   "id": "4b40ecb8",
   "metadata": {},
   "outputs": [
    {
     "data": {
      "text/plain": [
       "atraso_15\n",
       "0            55592\n",
       "1            12614\n",
       "dtype: int64"
      ]
     },
     "execution_count": 70,
     "metadata": {},
     "output_type": "execute_result"
    }
   ],
   "source": [
    "# Existe una relación cerca del 5:1 entre vuelos no atrasado y vuelos atrasados\n",
    "y.value_counts()"
   ]
  },
  {
   "cell_type": "code",
   "execution_count": 71,
   "id": "51ce3f8d",
   "metadata": {},
   "outputs": [],
   "source": [
    "# Aplicaremos RandomOverSampler, para mitigar este problema, que podría disminuir el rendimiento de nuestros modelos\n",
    "ros = RandomOverSampler(random_state=0)\n",
    "X_resampled, y_resampled = ros.fit_resample(X, y)"
   ]
  },
  {
   "cell_type": "code",
   "execution_count": 72,
   "id": "0d82948a",
   "metadata": {},
   "outputs": [
    {
     "data": {
      "text/plain": [
       "atraso_15\n",
       "0            55592\n",
       "1            55592\n",
       "dtype: int64"
      ]
     },
     "execution_count": 72,
     "metadata": {},
     "output_type": "execute_result"
    }
   ],
   "source": [
    "# Observamos el nuevo datasets balanceado\n",
    "y_resampled.value_counts()"
   ]
  },
  {
   "cell_type": "markdown",
   "id": "8ba31db1",
   "metadata": {},
   "source": [
    "## 4.3- Conjunto de entrenamiento y pruebas"
   ]
  },
  {
   "cell_type": "markdown",
   "id": "2ad1f8e1",
   "metadata": {},
   "source": [
    "### Separaremos los datos entre conjunto de entrenamiento y conjunto de pruebas con el objetivo de evitar overfitting"
   ]
  },
  {
   "cell_type": "code",
   "execution_count": 122,
   "id": "a2a28895",
   "metadata": {},
   "outputs": [],
   "source": [
    "X_train, X_test, y_train, y_test = train_test_split(X_resampled, y_resampled, test_size=.33, random_state=324)"
   ]
  },
  {
   "cell_type": "markdown",
   "id": "c4d6e765",
   "metadata": {},
   "source": [
    "## 4.4a- DecisionTree"
   ]
  },
  {
   "cell_type": "code",
   "execution_count": 123,
   "id": "68afbfac",
   "metadata": {},
   "outputs": [
    {
     "data": {
      "text/html": [
       "<style>#sk-container-id-9 {color: black;background-color: white;}#sk-container-id-9 pre{padding: 0;}#sk-container-id-9 div.sk-toggleable {background-color: white;}#sk-container-id-9 label.sk-toggleable__label {cursor: pointer;display: block;width: 100%;margin-bottom: 0;padding: 0.3em;box-sizing: border-box;text-align: center;}#sk-container-id-9 label.sk-toggleable__label-arrow:before {content: \"▸\";float: left;margin-right: 0.25em;color: #696969;}#sk-container-id-9 label.sk-toggleable__label-arrow:hover:before {color: black;}#sk-container-id-9 div.sk-estimator:hover label.sk-toggleable__label-arrow:before {color: black;}#sk-container-id-9 div.sk-toggleable__content {max-height: 0;max-width: 0;overflow: hidden;text-align: left;background-color: #f0f8ff;}#sk-container-id-9 div.sk-toggleable__content pre {margin: 0.2em;color: black;border-radius: 0.25em;background-color: #f0f8ff;}#sk-container-id-9 input.sk-toggleable__control:checked~div.sk-toggleable__content {max-height: 200px;max-width: 100%;overflow: auto;}#sk-container-id-9 input.sk-toggleable__control:checked~label.sk-toggleable__label-arrow:before {content: \"▾\";}#sk-container-id-9 div.sk-estimator input.sk-toggleable__control:checked~label.sk-toggleable__label {background-color: #d4ebff;}#sk-container-id-9 div.sk-label input.sk-toggleable__control:checked~label.sk-toggleable__label {background-color: #d4ebff;}#sk-container-id-9 input.sk-hidden--visually {border: 0;clip: rect(1px 1px 1px 1px);clip: rect(1px, 1px, 1px, 1px);height: 1px;margin: -1px;overflow: hidden;padding: 0;position: absolute;width: 1px;}#sk-container-id-9 div.sk-estimator {font-family: monospace;background-color: #f0f8ff;border: 1px dotted black;border-radius: 0.25em;box-sizing: border-box;margin-bottom: 0.5em;}#sk-container-id-9 div.sk-estimator:hover {background-color: #d4ebff;}#sk-container-id-9 div.sk-parallel-item::after {content: \"\";width: 100%;border-bottom: 1px solid gray;flex-grow: 1;}#sk-container-id-9 div.sk-label:hover label.sk-toggleable__label {background-color: #d4ebff;}#sk-container-id-9 div.sk-serial::before {content: \"\";position: absolute;border-left: 1px solid gray;box-sizing: border-box;top: 0;bottom: 0;left: 50%;z-index: 0;}#sk-container-id-9 div.sk-serial {display: flex;flex-direction: column;align-items: center;background-color: white;padding-right: 0.2em;padding-left: 0.2em;position: relative;}#sk-container-id-9 div.sk-item {position: relative;z-index: 1;}#sk-container-id-9 div.sk-parallel {display: flex;align-items: stretch;justify-content: center;background-color: white;position: relative;}#sk-container-id-9 div.sk-item::before, #sk-container-id-9 div.sk-parallel-item::before {content: \"\";position: absolute;border-left: 1px solid gray;box-sizing: border-box;top: 0;bottom: 0;left: 50%;z-index: -1;}#sk-container-id-9 div.sk-parallel-item {display: flex;flex-direction: column;z-index: 1;position: relative;background-color: white;}#sk-container-id-9 div.sk-parallel-item:first-child::after {align-self: flex-end;width: 50%;}#sk-container-id-9 div.sk-parallel-item:last-child::after {align-self: flex-start;width: 50%;}#sk-container-id-9 div.sk-parallel-item:only-child::after {width: 0;}#sk-container-id-9 div.sk-dashed-wrapped {border: 1px dashed gray;margin: 0 0.4em 0.5em 0.4em;box-sizing: border-box;padding-bottom: 0.4em;background-color: white;}#sk-container-id-9 div.sk-label label {font-family: monospace;font-weight: bold;display: inline-block;line-height: 1.2em;}#sk-container-id-9 div.sk-label-container {text-align: center;}#sk-container-id-9 div.sk-container {/* jupyter's `normalize.less` sets `[hidden] { display: none; }` but bootstrap.min.css set `[hidden] { display: none !important; }` so we also need the `!important` here to be able to override the default hidden behavior on the sphinx rendered scikit-learn.org. See: https://github.com/scikit-learn/scikit-learn/issues/21755 */display: inline-block !important;position: relative;}#sk-container-id-9 div.sk-text-repr-fallback {display: none;}</style><div id=\"sk-container-id-9\" class=\"sk-top-container\"><div class=\"sk-text-repr-fallback\"><pre>DecisionTreeClassifier(class_weight=&#x27;balanced&#x27;, max_leaf_nodes=10,\n",
       "                       random_state=0)</pre><b>In a Jupyter environment, please rerun this cell to show the HTML representation or trust the notebook. <br />On GitHub, the HTML representation is unable to render, please try loading this page with nbviewer.org.</b></div><div class=\"sk-container\" hidden><div class=\"sk-item\"><div class=\"sk-estimator sk-toggleable\"><input class=\"sk-toggleable__control sk-hidden--visually\" id=\"sk-estimator-id-9\" type=\"checkbox\" checked><label for=\"sk-estimator-id-9\" class=\"sk-toggleable__label sk-toggleable__label-arrow\">DecisionTreeClassifier</label><div class=\"sk-toggleable__content\"><pre>DecisionTreeClassifier(class_weight=&#x27;balanced&#x27;, max_leaf_nodes=10,\n",
       "                       random_state=0)</pre></div></div></div></div></div>"
      ],
      "text/plain": [
       "DecisionTreeClassifier(class_weight='balanced', max_leaf_nodes=10,\n",
       "                       random_state=0)"
      ]
     },
     "execution_count": 123,
     "metadata": {},
     "output_type": "execute_result"
    }
   ],
   "source": [
    "classifier_1 = DecisionTreeClassifier(max_leaf_nodes=10, random_state=0, class_weight = 'balanced')\n",
    "# paso los valores a entrenar\n",
    "classifier_1.fit(X_train, y_train)"
   ]
  },
  {
   "cell_type": "code",
   "execution_count": 124,
   "id": "63c3ab3b",
   "metadata": {},
   "outputs": [],
   "source": [
    "predictions_1 = classifier_1.predict(X_test)\n",
    "predictions_proba_1 = classifier_1.predict_proba(X_test)"
   ]
  },
  {
   "cell_type": "markdown",
   "id": "07642477",
   "metadata": {},
   "source": [
    "## 4.4b- RandomForest"
   ]
  },
  {
   "cell_type": "code",
   "execution_count": 125,
   "id": "8c6039a9",
   "metadata": {},
   "outputs": [
    {
     "name": "stderr",
     "output_type": "stream",
     "text": [
      "<ipython-input-125-37a079f85f6d>:2: DataConversionWarning: A column-vector y was passed when a 1d array was expected. Please change the shape of y to (n_samples,), for example using ravel().\n",
      "  clf_rf.fit(X_train, y_train)\n"
     ]
    },
    {
     "data": {
      "text/html": [
       "<style>#sk-container-id-10 {color: black;background-color: white;}#sk-container-id-10 pre{padding: 0;}#sk-container-id-10 div.sk-toggleable {background-color: white;}#sk-container-id-10 label.sk-toggleable__label {cursor: pointer;display: block;width: 100%;margin-bottom: 0;padding: 0.3em;box-sizing: border-box;text-align: center;}#sk-container-id-10 label.sk-toggleable__label-arrow:before {content: \"▸\";float: left;margin-right: 0.25em;color: #696969;}#sk-container-id-10 label.sk-toggleable__label-arrow:hover:before {color: black;}#sk-container-id-10 div.sk-estimator:hover label.sk-toggleable__label-arrow:before {color: black;}#sk-container-id-10 div.sk-toggleable__content {max-height: 0;max-width: 0;overflow: hidden;text-align: left;background-color: #f0f8ff;}#sk-container-id-10 div.sk-toggleable__content pre {margin: 0.2em;color: black;border-radius: 0.25em;background-color: #f0f8ff;}#sk-container-id-10 input.sk-toggleable__control:checked~div.sk-toggleable__content {max-height: 200px;max-width: 100%;overflow: auto;}#sk-container-id-10 input.sk-toggleable__control:checked~label.sk-toggleable__label-arrow:before {content: \"▾\";}#sk-container-id-10 div.sk-estimator input.sk-toggleable__control:checked~label.sk-toggleable__label {background-color: #d4ebff;}#sk-container-id-10 div.sk-label input.sk-toggleable__control:checked~label.sk-toggleable__label {background-color: #d4ebff;}#sk-container-id-10 input.sk-hidden--visually {border: 0;clip: rect(1px 1px 1px 1px);clip: rect(1px, 1px, 1px, 1px);height: 1px;margin: -1px;overflow: hidden;padding: 0;position: absolute;width: 1px;}#sk-container-id-10 div.sk-estimator {font-family: monospace;background-color: #f0f8ff;border: 1px dotted black;border-radius: 0.25em;box-sizing: border-box;margin-bottom: 0.5em;}#sk-container-id-10 div.sk-estimator:hover {background-color: #d4ebff;}#sk-container-id-10 div.sk-parallel-item::after {content: \"\";width: 100%;border-bottom: 1px solid gray;flex-grow: 1;}#sk-container-id-10 div.sk-label:hover label.sk-toggleable__label {background-color: #d4ebff;}#sk-container-id-10 div.sk-serial::before {content: \"\";position: absolute;border-left: 1px solid gray;box-sizing: border-box;top: 0;bottom: 0;left: 50%;z-index: 0;}#sk-container-id-10 div.sk-serial {display: flex;flex-direction: column;align-items: center;background-color: white;padding-right: 0.2em;padding-left: 0.2em;position: relative;}#sk-container-id-10 div.sk-item {position: relative;z-index: 1;}#sk-container-id-10 div.sk-parallel {display: flex;align-items: stretch;justify-content: center;background-color: white;position: relative;}#sk-container-id-10 div.sk-item::before, #sk-container-id-10 div.sk-parallel-item::before {content: \"\";position: absolute;border-left: 1px solid gray;box-sizing: border-box;top: 0;bottom: 0;left: 50%;z-index: -1;}#sk-container-id-10 div.sk-parallel-item {display: flex;flex-direction: column;z-index: 1;position: relative;background-color: white;}#sk-container-id-10 div.sk-parallel-item:first-child::after {align-self: flex-end;width: 50%;}#sk-container-id-10 div.sk-parallel-item:last-child::after {align-self: flex-start;width: 50%;}#sk-container-id-10 div.sk-parallel-item:only-child::after {width: 0;}#sk-container-id-10 div.sk-dashed-wrapped {border: 1px dashed gray;margin: 0 0.4em 0.5em 0.4em;box-sizing: border-box;padding-bottom: 0.4em;background-color: white;}#sk-container-id-10 div.sk-label label {font-family: monospace;font-weight: bold;display: inline-block;line-height: 1.2em;}#sk-container-id-10 div.sk-label-container {text-align: center;}#sk-container-id-10 div.sk-container {/* jupyter's `normalize.less` sets `[hidden] { display: none; }` but bootstrap.min.css set `[hidden] { display: none !important; }` so we also need the `!important` here to be able to override the default hidden behavior on the sphinx rendered scikit-learn.org. See: https://github.com/scikit-learn/scikit-learn/issues/21755 */display: inline-block !important;position: relative;}#sk-container-id-10 div.sk-text-repr-fallback {display: none;}</style><div id=\"sk-container-id-10\" class=\"sk-top-container\"><div class=\"sk-text-repr-fallback\"><pre>RandomForestClassifier(class_weight=&#x27;balanced&#x27;, n_estimators=200)</pre><b>In a Jupyter environment, please rerun this cell to show the HTML representation or trust the notebook. <br />On GitHub, the HTML representation is unable to render, please try loading this page with nbviewer.org.</b></div><div class=\"sk-container\" hidden><div class=\"sk-item\"><div class=\"sk-estimator sk-toggleable\"><input class=\"sk-toggleable__control sk-hidden--visually\" id=\"sk-estimator-id-10\" type=\"checkbox\" checked><label for=\"sk-estimator-id-10\" class=\"sk-toggleable__label sk-toggleable__label-arrow\">RandomForestClassifier</label><div class=\"sk-toggleable__content\"><pre>RandomForestClassifier(class_weight=&#x27;balanced&#x27;, n_estimators=200)</pre></div></div></div></div></div>"
      ],
      "text/plain": [
       "RandomForestClassifier(class_weight='balanced', n_estimators=200)"
      ]
     },
     "execution_count": 125,
     "metadata": {},
     "output_type": "execute_result"
    }
   ],
   "source": [
    "clf_rf = RandomForestClassifier(n_estimators=200, class_weight = 'balanced')\n",
    "clf_rf.fit(X_train, y_train)"
   ]
  },
  {
   "cell_type": "code",
   "execution_count": 126,
   "id": "7f70907b",
   "metadata": {},
   "outputs": [],
   "source": [
    "predictions_2 = clf_rf.predict(X_test)\n",
    "predictions_proba_2 = clf_rf.predict_proba(X_test)"
   ]
  },
  {
   "cell_type": "markdown",
   "id": "ebc58516",
   "metadata": {},
   "source": [
    "# 5- Evaluación de modelos "
   ]
  },
  {
   "cell_type": "markdown",
   "id": "a1e8b2e2",
   "metadata": {},
   "source": [
    "### Utilizaré matriz de confusión, accuracy, precision, recall,  f1 score y curva roc. La primera métrica servirá para visualizar el rendimiento de mis modelos con el conjunto de prueba. Accuracy me ayudará a medir el porcentaje de acierto de mis modelos. La métricas precisión y recall nos permitirá analizar la calidad y capacidad de predicción, respectivamente. F1 nos permite analizar el rendimiento de nuestro modelo con la combinación de las métricas precision y recall. Por último, la curva ROC, me permitirá representar la sensibilidad frente a la especificidad. "
   ]
  },
  {
   "cell_type": "markdown",
   "id": "b25b0378",
   "metadata": {},
   "source": [
    "## 5.1- DecisionTree"
   ]
  },
  {
   "cell_type": "markdown",
   "id": "9c52c2e9",
   "metadata": {},
   "source": [
    "### Es un algoritmo sencillo, recomendable a utilizar en primeros modelos como una aproximación a la respuesta del problema. Fácil interpretación, al permitir visualizar el arbol de decisión generado."
   ]
  },
  {
   "cell_type": "code",
   "execution_count": 127,
   "id": "235efa94",
   "metadata": {},
   "outputs": [
    {
     "name": "stdout",
     "output_type": "stream",
     "text": [
      "Predicted      0      1\n",
      "Actual                 \n",
      "0          10755   7547\n",
      "1           5619  12770\n"
     ]
    }
   ],
   "source": [
    "data2 = {'y_Actual':    y_test['atraso_15'].to_numpy(),\n",
    "        'y_Predicted': predictions_1\n",
    "        }\n",
    "\n",
    "df2 = pd.DataFrame(data2, columns=['y_Actual','y_Predicted'])\n",
    "\n",
    "confusion_matrix = pd.crosstab(df2['y_Actual'], df2['y_Predicted'], rownames=['Actual'], colnames=['Predicted'])\n",
    "print (confusion_matrix)"
   ]
  },
  {
   "cell_type": "code",
   "execution_count": 138,
   "id": "df8d9f47",
   "metadata": {},
   "outputs": [
    {
     "name": "stdout",
     "output_type": "stream",
     "text": [
      "accuracy:  0.64 precision:  0.63 recall:  0.69 f1_score:  0.66\n"
     ]
    }
   ],
   "source": [
    "print('accuracy: ', round(accuracy_score(y_test, predictions_1), 2), \n",
    "      'precision: ', round(precision_score(y_test, predictions_1),2),\n",
    "     'recall: ', round(recall_score(y_test, predictions_1),2),\n",
    "     'f1_score: ', round(f1_score(y_test, predictions_1),2))\n"
   ]
  },
  {
   "cell_type": "code",
   "execution_count": 129,
   "id": "a7ca4bf7",
   "metadata": {},
   "outputs": [
    {
     "data": {
      "image/png": "[encoded data removed]",
      "text/plain": [
       "<Figure size 432x288 with 1 Axes>"
      ]
     },
     "metadata": {
      "needs_background": "light"
     },
     "output_type": "display_data"
    }
   ],
   "source": [
    "#Calcular metricas\n",
    "fpr, tpr, _ = roc_curve(y_test['atraso_15'].to_numpy(),  predictions_proba_1[:,1])\n",
    "\n",
    "#Crear ROC curve\n",
    "plt.plot(fpr,tpr)\n",
    "plt.ylabel('True Positive Rate')\n",
    "plt.xlabel('False Positive Rate')\n",
    "plt.show()"
   ]
  },
  {
   "cell_type": "markdown",
   "id": "619495b1",
   "metadata": {},
   "source": [
    "### DecisionTree logró un accuracy del 64%, lo que significa que el modelo acierta un 64% de la veces. Este  resultado es esperable para un modelo simple como el DecisionTree, pero útil como primer experimento."
   ]
  },
  {
   "cell_type": "markdown",
   "id": "9638bc90",
   "metadata": {},
   "source": [
    "## 5.1- RandomForest"
   ]
  },
  {
   "cell_type": "markdown",
   "id": "e171ff5c",
   "metadata": {},
   "source": [
    "### Este algoritmo presenta buenos resultados para la clasificaciónes binarias, y según la literatura, ha sido utilizado en la predicción de atrasos de vuelos. Como en el siguiente literatura https://www.mdpi.com/2226-4310/8/6/152"
   ]
  },
  {
   "cell_type": "code",
   "execution_count": 140,
   "id": "a07c29a1",
   "metadata": {},
   "outputs": [
    {
     "name": "stdout",
     "output_type": "stream",
     "text": [
      "Predicted      0      1\n",
      "Actual                 \n",
      "0          15382   2920\n",
      "1            546  17843\n"
     ]
    }
   ],
   "source": [
    "data2 = {'y_Actual':    y_test['atraso_15'].to_numpy(),\n",
    "        'y_Predicted': predictions_2\n",
    "        }\n",
    "\n",
    "df2 = pd.DataFrame(data2, columns=['y_Actual','y_Predicted'])\n",
    "\n",
    "confusion_matrix = pd.crosstab(df2['y_Actual'], df2['y_Predicted'], rownames=['Actual'], colnames=['Predicted'])\n",
    "print (confusion_matrix)"
   ]
  },
  {
   "cell_type": "code",
   "execution_count": 139,
   "id": "48f59937",
   "metadata": {},
   "outputs": [
    {
     "name": "stdout",
     "output_type": "stream",
     "text": [
      "accuracy:  0.91 precision:  0.86 recall:  0.97 f1_score:  0.91\n"
     ]
    }
   ],
   "source": [
    "print('accuracy: ', round(accuracy_score(y_test, predictions_2), 2), \n",
    "      'precision: ', round(precision_score(y_test, predictions_2),2),\n",
    "     'recall: ', round(recall_score(y_test, predictions_2),2),\n",
    "     'f1_score: ', round(f1_score(y_test, predictions_2),2))"
   ]
  },
  {
   "cell_type": "code",
   "execution_count": 132,
   "id": "7fd5193e",
   "metadata": {},
   "outputs": [
    {
     "data": {
      "image/png": "[encoded data removed]",
      "text/plain": [
       "<Figure size 432x288 with 1 Axes>"
      ]
     },
     "metadata": {
      "needs_background": "light"
     },
     "output_type": "display_data"
    }
   ],
   "source": [
    "#Calcular metricas\n",
    "fpr, tpr, _ = roc_curve(y_test['atraso_15'].to_numpy(),  predictions_proba_2[:,1])\n",
    "\n",
    "#Crear ROC curve\n",
    "plt.plot(fpr,tpr)\n",
    "plt.ylabel('True Positive Rate')\n",
    "plt.xlabel('False Positive Rate')\n",
    "plt.show()"
   ]
  },
  {
   "cell_type": "markdown",
   "id": "7cdd3e85",
   "metadata": {},
   "source": [
    "### El segundo modelo basado en Random Forest, presente una considerable mejora sobre el primer modelo, al lograr un accuracy del 91% y F1 91%. Además observamos la curva ROC muy cercana al 1, lo que nos indica un buen modelo predictor."
   ]
  },
  {
   "cell_type": "markdown",
   "id": "089a825f",
   "metadata": {},
   "source": [
    "# Conclusión\n",
    "### Luego de la evaluación de los modelos, se observa un mejor resultado utilizando Random Forest llegando al 90% de acierto. Importante evaluar posibilidad de Overfitting, que puede ser ocasionado al balancear el dataset.\n",
    "\n",
    "### Pensando en mejoras futuras, se podría incorporar nuevas variables que nutran a los modelos como:\n",
    "### 1- Información climática del día de aterrizaje o despegue. \n",
    "### 2- Distancia entre la ciudad de origen y destino\n",
    "### Además sería conveniente probar con otros algoritmos, como Mixture Density Networks que es una combinación de neural network y mixture density model, que también ha presentado buenos resultados en la literatura."
   ]
  }
 ],
 "metadata": {
  "kernelspec": {
   "display_name": "Python 3",
   "language": "python",
   "name": "python3"
  },
  "language_info": {
   "codemirror_mode": {
    "name": "ipython",
    "version": 3
   },
   "file_extension": ".py",
   "mimetype": "text/x-python",
   "name": "python",
   "nbconvert_exporter": "python",
   "pygments_lexer": "ipython3",
   "version": "3.8.8"
  }
 },
 "nbformat": 4,
 "nbformat_minor": 5
}
