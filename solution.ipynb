{
 "cells": [
  {
   "cell_type": "markdown",
   "id": "d8e691a1",
   "metadata": {},
   "source": [
    "## Importar Libreria"
   ]
  },
  {
   "cell_type": "code",
   "execution_count": 1,
   "id": "719d4022",
   "metadata": {},
   "outputs": [],
   "source": [
    "import pandas as pd\n",
    "import numpy as np\n",
    "import matplotlib.pyplot as plt"
   ]
  },
  {
   "cell_type": "markdown",
   "id": "67728fc7",
   "metadata": {},
   "source": [
    "## Cargar Datos"
   ]
  },
  {
   "cell_type": "code",
   "execution_count": 2,
   "id": "ba4f4686",
   "metadata": {},
   "outputs": [
    {
     "name": "stderr",
     "output_type": "stream",
     "text": [
      "/Users/naxovalde/opt/anaconda3/lib/python3.8/site-packages/IPython/core/interactiveshell.py:3165: DtypeWarning: Columns (1,6) have mixed types.Specify dtype option on import or set low_memory=False.\n",
      "  has_raised = await self.run_ast_nodes(code_ast.body, cell_name,\n"
     ]
    }
   ],
   "source": [
    "data = pd.read_csv('dataset_SCL.csv')"
   ]
  },
  {
   "cell_type": "markdown",
   "id": "278da71e",
   "metadata": {},
   "source": [
    "## Analizar Datos"
   ]
  },
  {
   "cell_type": "markdown",
   "id": "226fb625",
   "metadata": {},
   "source": [
    "\n",
    "### Esta sección tiene como objetivo entender mejor el dataset. Cantidad de datos, columnas, como describe cada columna"
   ]
  },
  {
   "cell_type": "code",
   "execution_count": 3,
   "id": "c5fc6197",
   "metadata": {},
   "outputs": [
    {
     "name": "stdout",
     "output_type": "stream",
     "text": [
      "<class 'pandas.core.frame.DataFrame'>\n",
      "RangeIndex: 68206 entries, 0 to 68205\n",
      "Data columns (total 18 columns):\n",
      " #   Column     Non-Null Count  Dtype \n",
      "---  ------     --------------  ----- \n",
      " 0   Fecha-I    68206 non-null  object\n",
      " 1   Vlo-I      68206 non-null  object\n",
      " 2   Ori-I      68206 non-null  object\n",
      " 3   Des-I      68206 non-null  object\n",
      " 4   Emp-I      68206 non-null  object\n",
      " 5   Fecha-O    68206 non-null  object\n",
      " 6   Vlo-O      68205 non-null  object\n",
      " 7   Ori-O      68206 non-null  object\n",
      " 8   Des-O      68206 non-null  object\n",
      " 9   Emp-O      68206 non-null  object\n",
      " 10  DIA        68206 non-null  int64 \n",
      " 11  MES        68206 non-null  int64 \n",
      " 12  AÑO        68206 non-null  int64 \n",
      " 13  DIANOM     68206 non-null  object\n",
      " 14  TIPOVUELO  68206 non-null  object\n",
      " 15  OPERA      68206 non-null  object\n",
      " 16  SIGLAORI   68206 non-null  object\n",
      " 17  SIGLADES   68206 non-null  object\n",
      "dtypes: int64(3), object(15)\n",
      "memory usage: 9.4+ MB\n"
     ]
    }
   ],
   "source": [
    "# Información de cantidad de datos y columnas\n",
    "# Conocer los nombres y tipos de cada columna\n",
    "data.info()"
   ]
  },
  {
   "cell_type": "code",
   "execution_count": 4,
   "id": "9009cc66",
   "metadata": {},
   "outputs": [
    {
     "data": {
      "text/html": [
       "<div>\n",
       "<style scoped>\n",
       "    .dataframe tbody tr th:only-of-type {\n",
       "        vertical-align: middle;\n",
       "    }\n",
       "\n",
       "    .dataframe tbody tr th {\n",
       "        vertical-align: top;\n",
       "    }\n",
       "\n",
       "    .dataframe thead th {\n",
       "        text-align: right;\n",
       "    }\n",
       "</style>\n",
       "<table border=\"1\" class=\"dataframe\">\n",
       "  <thead>\n",
       "    <tr style=\"text-align: right;\">\n",
       "      <th></th>\n",
       "      <th>Fecha-I</th>\n",
       "      <th>Vlo-I</th>\n",
       "      <th>Ori-I</th>\n",
       "      <th>Des-I</th>\n",
       "      <th>Emp-I</th>\n",
       "      <th>Fecha-O</th>\n",
       "      <th>Vlo-O</th>\n",
       "      <th>Ori-O</th>\n",
       "      <th>Des-O</th>\n",
       "      <th>Emp-O</th>\n",
       "      <th>DIA</th>\n",
       "      <th>MES</th>\n",
       "      <th>AÑO</th>\n",
       "      <th>DIANOM</th>\n",
       "      <th>TIPOVUELO</th>\n",
       "      <th>OPERA</th>\n",
       "      <th>SIGLAORI</th>\n",
       "      <th>SIGLADES</th>\n",
       "    </tr>\n",
       "  </thead>\n",
       "  <tbody>\n",
       "    <tr>\n",
       "      <th>0</th>\n",
       "      <td>2017-01-01 23:30:00</td>\n",
       "      <td>226</td>\n",
       "      <td>SCEL</td>\n",
       "      <td>KMIA</td>\n",
       "      <td>AAL</td>\n",
       "      <td>2017-01-01 23:33:00</td>\n",
       "      <td>226</td>\n",
       "      <td>SCEL</td>\n",
       "      <td>KMIA</td>\n",
       "      <td>AAL</td>\n",
       "      <td>1</td>\n",
       "      <td>1</td>\n",
       "      <td>2017</td>\n",
       "      <td>Domingo</td>\n",
       "      <td>I</td>\n",
       "      <td>American Airlines</td>\n",
       "      <td>Santiago</td>\n",
       "      <td>Miami</td>\n",
       "    </tr>\n",
       "    <tr>\n",
       "      <th>1</th>\n",
       "      <td>2017-01-02 23:30:00</td>\n",
       "      <td>226</td>\n",
       "      <td>SCEL</td>\n",
       "      <td>KMIA</td>\n",
       "      <td>AAL</td>\n",
       "      <td>2017-01-02 23:39:00</td>\n",
       "      <td>226</td>\n",
       "      <td>SCEL</td>\n",
       "      <td>KMIA</td>\n",
       "      <td>AAL</td>\n",
       "      <td>2</td>\n",
       "      <td>1</td>\n",
       "      <td>2017</td>\n",
       "      <td>Lunes</td>\n",
       "      <td>I</td>\n",
       "      <td>American Airlines</td>\n",
       "      <td>Santiago</td>\n",
       "      <td>Miami</td>\n",
       "    </tr>\n",
       "    <tr>\n",
       "      <th>2</th>\n",
       "      <td>2017-01-03 23:30:00</td>\n",
       "      <td>226</td>\n",
       "      <td>SCEL</td>\n",
       "      <td>KMIA</td>\n",
       "      <td>AAL</td>\n",
       "      <td>2017-01-03 23:39:00</td>\n",
       "      <td>226</td>\n",
       "      <td>SCEL</td>\n",
       "      <td>KMIA</td>\n",
       "      <td>AAL</td>\n",
       "      <td>3</td>\n",
       "      <td>1</td>\n",
       "      <td>2017</td>\n",
       "      <td>Martes</td>\n",
       "      <td>I</td>\n",
       "      <td>American Airlines</td>\n",
       "      <td>Santiago</td>\n",
       "      <td>Miami</td>\n",
       "    </tr>\n",
       "    <tr>\n",
       "      <th>3</th>\n",
       "      <td>2017-01-04 23:30:00</td>\n",
       "      <td>226</td>\n",
       "      <td>SCEL</td>\n",
       "      <td>KMIA</td>\n",
       "      <td>AAL</td>\n",
       "      <td>2017-01-04 23:33:00</td>\n",
       "      <td>226</td>\n",
       "      <td>SCEL</td>\n",
       "      <td>KMIA</td>\n",
       "      <td>AAL</td>\n",
       "      <td>4</td>\n",
       "      <td>1</td>\n",
       "      <td>2017</td>\n",
       "      <td>Miercoles</td>\n",
       "      <td>I</td>\n",
       "      <td>American Airlines</td>\n",
       "      <td>Santiago</td>\n",
       "      <td>Miami</td>\n",
       "    </tr>\n",
       "    <tr>\n",
       "      <th>4</th>\n",
       "      <td>2017-01-05 23:30:00</td>\n",
       "      <td>226</td>\n",
       "      <td>SCEL</td>\n",
       "      <td>KMIA</td>\n",
       "      <td>AAL</td>\n",
       "      <td>2017-01-05 23:28:00</td>\n",
       "      <td>226</td>\n",
       "      <td>SCEL</td>\n",
       "      <td>KMIA</td>\n",
       "      <td>AAL</td>\n",
       "      <td>5</td>\n",
       "      <td>1</td>\n",
       "      <td>2017</td>\n",
       "      <td>Jueves</td>\n",
       "      <td>I</td>\n",
       "      <td>American Airlines</td>\n",
       "      <td>Santiago</td>\n",
       "      <td>Miami</td>\n",
       "    </tr>\n",
       "  </tbody>\n",
       "</table>\n",
       "</div>"
      ],
      "text/plain": [
       "               Fecha-I Vlo-I Ori-I Des-I Emp-I              Fecha-O Vlo-O  \\\n",
       "0  2017-01-01 23:30:00   226  SCEL  KMIA   AAL  2017-01-01 23:33:00   226   \n",
       "1  2017-01-02 23:30:00   226  SCEL  KMIA   AAL  2017-01-02 23:39:00   226   \n",
       "2  2017-01-03 23:30:00   226  SCEL  KMIA   AAL  2017-01-03 23:39:00   226   \n",
       "3  2017-01-04 23:30:00   226  SCEL  KMIA   AAL  2017-01-04 23:33:00   226   \n",
       "4  2017-01-05 23:30:00   226  SCEL  KMIA   AAL  2017-01-05 23:28:00   226   \n",
       "\n",
       "  Ori-O Des-O Emp-O  DIA  MES   AÑO     DIANOM TIPOVUELO              OPERA  \\\n",
       "0  SCEL  KMIA   AAL    1    1  2017    Domingo         I  American Airlines   \n",
       "1  SCEL  KMIA   AAL    2    1  2017      Lunes         I  American Airlines   \n",
       "2  SCEL  KMIA   AAL    3    1  2017     Martes         I  American Airlines   \n",
       "3  SCEL  KMIA   AAL    4    1  2017  Miercoles         I  American Airlines   \n",
       "4  SCEL  KMIA   AAL    5    1  2017     Jueves         I  American Airlines   \n",
       "\n",
       "   SIGLAORI SIGLADES  \n",
       "0  Santiago    Miami  \n",
       "1  Santiago    Miami  \n",
       "2  Santiago    Miami  \n",
       "3  Santiago    Miami  \n",
       "4  Santiago    Miami  "
      ]
     },
     "execution_count": 4,
     "metadata": {},
     "output_type": "execute_result"
    }
   ],
   "source": [
    "data.head() # Ejemplo de los datos"
   ]
  },
  {
   "cell_type": "markdown",
   "id": "d6738b81",
   "metadata": {},
   "source": [
    "### Conocer los rangos de los datos"
   ]
  },
  {
   "cell_type": "code",
   "execution_count": 5,
   "id": "90ba41ff",
   "metadata": {},
   "outputs": [
    {
     "name": "stdout",
     "output_type": "stream",
     "text": [
      "Rango de Fecha programadas del vuelo\n",
      "2017-01-01 00:15:00  y  2017-12-31 23:55:00\n",
      "\n",
      "Rango de Fecha operación del vuelo\n",
      "2017-01-01 00:04:00  y  2018-01-01 00:12:00\n"
     ]
    }
   ],
   "source": [
    "print(\"Rango de Fecha programadas del vuelo\")\n",
    "print(min(data['Fecha-I']), \" y \", max(data['Fecha-I']))\n",
    "print()\n",
    "print(\"Rango de Fecha operación del vuelo\")\n",
    "print(min(data['Fecha-O']), \" y \", max(data['Fecha-O']))"
   ]
  },
  {
   "cell_type": "code",
   "execution_count": 6,
   "id": "8a5215dd",
   "metadata": {},
   "outputs": [
    {
     "name": "stdout",
     "output_type": "stream",
     "text": [
      "Valores distintos de número de vuelo programado: 750\n"
     ]
    }
   ],
   "source": [
    "print(\"Valores distintos de número de vuelo programado: \" + str(data['Vlo-I'].nunique()))\n",
    "#print(data['Vlo-I'].unique())"
   ]
  },
  {
   "cell_type": "code",
   "execution_count": 7,
   "id": "8977f4c4",
   "metadata": {},
   "outputs": [
    {
     "name": "stdout",
     "output_type": "stream",
     "text": [
      "Valores distintos de número de vuelo de operación:  866\n"
     ]
    }
   ],
   "source": [
    "print(\"Valores distintos de número de vuelo de operación: \", str(data['Vlo-O'].nunique()))\n",
    "#print(data['Vlo-O'].unique())"
   ]
  },
  {
   "cell_type": "code",
   "execution_count": 8,
   "id": "71a0dbbf",
   "metadata": {},
   "outputs": [
    {
     "name": "stdout",
     "output_type": "stream",
     "text": [
      "Valores distintos de códigos de ciudad de origen programado:  1\n",
      "['SCEL']\n",
      "\n",
      "Valores distintos de códigos de ciudad de origen de operación:  1\n",
      "['SCEL']\n"
     ]
    }
   ],
   "source": [
    "print(\"Valores distintos de códigos de ciudad de origen programado: \", str(data['Ori-I'].nunique()))\n",
    "print(data['Ori-I'].unique())\n",
    "print()\n",
    "print(\"Valores distintos de códigos de ciudad de origen de operación: \", str(data['Ori-O'].nunique()))\n",
    "print(data['Ori-O'].unique())"
   ]
  },
  {
   "cell_type": "code",
   "execution_count": 9,
   "id": "8ecf9b8a",
   "metadata": {},
   "outputs": [
    {
     "name": "stdout",
     "output_type": "stream",
     "text": [
      "Valores distintos de códigos de ciudad de destino programado:  64\n",
      "['KMIA' 'KDFW' 'SAEZ' 'CYYZ' 'LFPG' 'MMMX' 'SABE' 'SKBO' 'LIRF' 'EGLL'\n",
      " 'MPTO' 'KATL' 'SBGR' 'SBGL' 'SBFL' 'LEMD' 'SPJC' 'YSSY' 'KIAH' 'SGAS'\n",
      " 'SBFI' 'SCTE' 'SCCI' 'SCNT' 'SCBA' 'SCVD' 'SCQP' 'SCIE' 'SCSE' 'SCAT'\n",
      " 'SCCF' 'SCFA' 'SCDA' 'SCAR' 'SAME' 'SACO' 'SUMU' 'SCPQ' 'SCJO' 'KMCO'\n",
      " 'KJFK' 'SEGU' 'MMUN' 'MDPC' 'KLAX' 'NZAA' 'SCIP' 'SLLP' 'SLVR' 'SBCT'\n",
      " 'SEQM' 'SAZS' 'SAAR' 'SANT' 'YMML' 'SEQU' 'SANU' 'SAZN' 'SPSO' 'SAWH'\n",
      " 'EGYP' 'SULS' 'SLCB' 'SARI']\n",
      "\n",
      "Valores distintos de códigos de ciudad de destino de operación:  63\n",
      "['KMIA' 'KDFW' 'SAEZ' 'CYYZ' 'LFPG' 'MMMX' 'SABE' 'SKBO' 'LIRF' 'EGLL'\n",
      " 'MPTO' 'KATL' 'SBGR' 'SBGL' 'SBFL' 'LEMD' 'SPJC' 'YSSY' 'KIAH' 'SGAS'\n",
      " 'SBFI' 'SCTE' 'SCCI' 'SCNT' 'SCBA' 'SCQP' 'SCVD' 'SCIE' 'SCSE' 'SCAT'\n",
      " 'SCCF' 'SCFA' 'SCDA' 'SCAR' 'SAME' 'SACO' 'SUMU' 'SCPQ' 'SCJO' 'KMCO'\n",
      " 'KJFK' 'SEGU' 'MMUN' 'MDPC' 'KLAX' 'NZAA' 'SCIP' 'SLLP' 'SLVR' 'SBCT'\n",
      " 'SEQM' 'SAZS' 'SAAR' 'KIAD' 'SANT' 'YMML' 'SANU' 'SAZN' 'SPSO' 'SAWH'\n",
      " 'EGYP' 'SULS' 'SLCB']\n"
     ]
    }
   ],
   "source": [
    "print(\"Valores distintos de códigos de ciudad de destino programado: \", str(data['Des-I'].nunique()))\n",
    "print(data['Des-I'].unique())\n",
    "print()\n",
    "print(\"Valores distintos de códigos de ciudad de destino de operación: \", str(data['Des-O'].nunique()))\n",
    "print(data['Des-O'].unique())"
   ]
  },
  {
   "cell_type": "code",
   "execution_count": 10,
   "id": "36cdcc5c",
   "metadata": {},
   "outputs": [
    {
     "name": "stdout",
     "output_type": "stream",
     "text": [
      "Valores distintos de código aerolínea de vuelo programado:  30\n",
      "['AAL' 'ACA' 'AFR' 'AMX' 'ARG' 'AUT' 'AVA' 'AZA' 'BAW' 'CMP' 'DAL' 'GLO'\n",
      " 'IBE' 'KLM' 'QFU' 'UAL' 'LAP' 'TAM' 'SKU' 'LAN' 'LAW' 'JMR' 'LXP' 'LNE'\n",
      " 'LPE' 'DSM' 'PUE' 'JAT' 'ONE' 'LRC']\n",
      "\n",
      "Valores distintos de código aerolínea de vuelo de operación:  32\n",
      "['AAL' 'ACA' 'AFR' 'AMX' 'ARG' 'AUT' 'AVA' 'AZA' 'BAW' 'CMP' 'DAL' 'GLO'\n",
      " 'IBE' 'KLM' 'LRC' 'QFA' 'UAL' 'LAP' 'TAM' 'SKU' 'LAN' 'LXP' 'LNE' 'LPE'\n",
      " 'DSM' '48O' '56R' 'JMR' 'PUE' 'JAT' 'TPU' 'ONE']\n"
     ]
    }
   ],
   "source": [
    "print(\"Valores distintos de código aerolínea de vuelo programado: \", str(data['Emp-I'].nunique()))\n",
    "print(data['Emp-I'].unique())\n",
    "print()\n",
    "print(\"Valores distintos de código aerolínea de vuelo de operación: \", str(data['Emp-O'].nunique()))\n",
    "print(data['Emp-O'].unique())"
   ]
  },
  {
   "cell_type": "code",
   "execution_count": 11,
   "id": "9a4f4651",
   "metadata": {},
   "outputs": [
    {
     "name": "stdout",
     "output_type": "stream",
     "text": [
      "Rango de Dias:  1  y  31\n",
      "Rango de Meses:  1  y  12\n",
      "Rango de Año:  2017  y  2018\n"
     ]
    }
   ],
   "source": [
    "print(\"Rango de Dias: \", min(data['DIA']), \" y \", max(data['DIA']))\n",
    "print(\"Rango de Meses: \", min(data['MES']), \" y \", max(data['MES']))\n",
    "print(\"Rango de Año: \", min(data['AÑO']), \" y \", max(data['AÑO']))"
   ]
  },
  {
   "cell_type": "code",
   "execution_count": 12,
   "id": "3d8a2172",
   "metadata": {},
   "outputs": [
    {
     "name": "stdout",
     "output_type": "stream",
     "text": [
      "Valores distintos de día de la semana:  7\n",
      "['Domingo' 'Lunes' 'Martes' 'Miercoles' 'Jueves' 'Sabado' 'Viernes']\n"
     ]
    }
   ],
   "source": [
    "print(\"Valores distintos de día de la semana: \", str(data['DIANOM'].nunique()))\n",
    "print(data['DIANOM'].unique())"
   ]
  },
  {
   "cell_type": "code",
   "execution_count": 13,
   "id": "57c235e0",
   "metadata": {},
   "outputs": [
    {
     "name": "stdout",
     "output_type": "stream",
     "text": [
      "Valores distintos tipo de vuelo:  2\n",
      "['I' 'N']\n"
     ]
    }
   ],
   "source": [
    "print(\"Valores distintos tipo de vuelo: \", str(data['TIPOVUELO'].nunique()))\n",
    "print(data['TIPOVUELO'].unique())"
   ]
  },
  {
   "cell_type": "code",
   "execution_count": 14,
   "id": "2213566c",
   "metadata": {},
   "outputs": [
    {
     "name": "stdout",
     "output_type": "stream",
     "text": [
      "Valores distintos nombre aerolíneas:  23\n",
      "['American Airlines' 'Air Canada' 'Air France' 'Aeromexico'\n",
      " 'Aerolineas Argentinas' 'Austral' 'Avianca' 'Alitalia' 'British Airways'\n",
      " 'Copa Air' 'Delta Air' 'Gol Trans' 'Iberia' 'K.L.M.' 'Qantas Airways'\n",
      " 'United Airlines' 'Grupo LATAM' 'Sky Airline' 'Latin American Wings'\n",
      " 'Plus Ultra Lineas Aereas' 'JetSmart SPA' 'Oceanair Linhas Aereas'\n",
      " 'Lacsa']\n"
     ]
    }
   ],
   "source": [
    "print(\"Valores distintos nombre aerolíneas: \", str(data['OPERA'].nunique()))\n",
    "print(data['OPERA'].unique())"
   ]
  },
  {
   "cell_type": "code",
   "execution_count": 15,
   "id": "9afb8aa7",
   "metadata": {},
   "outputs": [
    {
     "name": "stdout",
     "output_type": "stream",
     "text": [
      "Valores distintos nombre ciudad origen:  1\n",
      "['Santiago']\n",
      "\n",
      "Valores distintos nombre ciudad destino:  62\n",
      "['Miami' 'Dallas' 'Buenos Aires' 'Toronto' 'Paris' 'Ciudad de Mexico'\n",
      " 'Bogota' 'Roma' 'Londres' 'Ciudad de Panama' 'Atlanta' 'Sao Paulo'\n",
      " 'Rio de Janeiro' 'Florianapolis' 'Madrid' 'Lima' 'Sydney' 'Houston'\n",
      " 'Asuncion' 'Cataratas Iguacu' 'Puerto Montt' 'Punta Arenas'\n",
      " 'Puerto Natales' 'Balmaceda' 'Temuco' 'Valdivia' 'Concepcion' 'La Serena'\n",
      " 'Copiapo' 'Calama' 'Antofagasta' 'Iquique' 'Arica' 'Mendoza' 'Cordoba'\n",
      " 'Montevideo' 'Castro (Chiloe)' 'Osorno' 'Orlando' 'Nueva York'\n",
      " 'Guayaquil' 'Cancun' 'Punta Cana' 'Los Angeles' 'Auckland N.Z.'\n",
      " 'Isla de Pascua' 'La Paz' 'Santa Cruz' 'Curitiba, Bra.' 'Quito'\n",
      " 'Bariloche' 'Rosario' 'Washington' 'Tucuman' 'Melbourne' 'San Juan, Arg.'\n",
      " 'Neuquen' 'Pisco, Peru' 'Ushuia' 'Puerto Stanley' 'Punta del Este'\n",
      " 'Cochabamba']\n"
     ]
    }
   ],
   "source": [
    "print(\"Valores distintos nombre ciudad origen: \", str(data['SIGLAORI'].nunique()))\n",
    "print(data['SIGLAORI'].unique())\n",
    "print()\n",
    "print(\"Valores distintos nombre ciudad destino: \", str(data['SIGLADES'].nunique()))\n",
    "print(data['SIGLADES'].unique())"
   ]
  },
  {
   "cell_type": "markdown",
   "id": "4591c927",
   "metadata": {},
   "source": [
    "### Distribución de las variables"
   ]
  },
  {
   "cell_type": "code",
   "execution_count": 35,
   "id": "2db517b8",
   "metadata": {},
   "outputs": [
    {
     "data": {
      "image/png": "[encoded data removed]",
      "text/plain": [
       "<Figure size 432x288 with 1 Axes>"
      ]
     },
     "metadata": {
      "needs_background": "light"
     },
     "output_type": "display_data"
    },
    {
     "data": {
      "text/plain": [
       "Viernes      10292\n",
       "Jueves       10251\n",
       "Lunes        10131\n",
       "Domingo       9796\n",
       "Miercoles     9722\n",
       "Martes        9662\n",
       "Sabado        8352\n",
       "Name: DIANOM, dtype: int64"
      ]
     },
     "execution_count": 35,
     "metadata": {},
     "output_type": "execute_result"
    }
   ],
   "source": [
    "# Solo aplicaremos mes y dia nominal. Anio no tiene sentido si el datase set comprende el anio 2017\n",
    "plt.hist(data['DIANOM'], data['DIANOM'].nunique())\n",
    "plt.show()\n",
    "data['DIANOM'].value_counts()\n",
    "#data['DIANOM'].value_counts(normalize = True)"
   ]
  },
  {
   "cell_type": "code",
   "execution_count": 42,
   "id": "a3582278",
   "metadata": {},
   "outputs": [
    {
     "data": {
      "image/png": "[encoded data removed]",
      "text/plain": [
       "<Figure size 432x288 with 1 Axes>"
      ]
     },
     "metadata": {
      "needs_background": "light"
     },
     "output_type": "display_data"
    },
    {
     "data": {
      "text/plain": [
       "12    6356\n",
       "1     6108\n",
       "11    6080\n",
       "10    6032\n",
       "7     5992\n",
       "8     5744\n",
       "9     5610\n",
       "2     5561\n",
       "3     5482\n",
       "5     5240\n",
       "4     5020\n",
       "6     4981\n",
       "Name: MES, dtype: int64"
      ]
     },
     "execution_count": 42,
     "metadata": {},
     "output_type": "execute_result"
    }
   ],
   "source": [
    "plt.hist(data['MES'], data['MES'].nunique())\n",
    "plt.show()\n",
    "data['MES'].value_counts()\n",
    "#data['MES'].value_counts(normalize = True)"
   ]
  },
  {
   "cell_type": "code",
   "execution_count": 46,
   "id": "4f31f8eb",
   "metadata": {},
   "outputs": [
    {
     "data": {
      "image/png": "[encoded data removed]",
      "text/plain": [
       "<Figure size 432x288 with 1 Axes>"
      ]
     },
     "metadata": {
      "needs_background": "light"
     },
     "output_type": "display_data"
    }
   ],
   "source": [
    "plt.hist(data['DIA'], data['DIA'].nunique())\n",
    "plt.show()\n",
    "# Es de esperarse la baja porque no todos los meses tiene 31 o el caso de febrero que no tiene 29 y 30"
   ]
  },
  {
   "cell_type": "code",
   "execution_count": 48,
   "id": "ac824e32",
   "metadata": {},
   "outputs": [
    {
     "data": {
      "image/png": "[encoded data removed]",
      "text/plain": [
       "<Figure size 432x288 with 1 Axes>"
      ]
     },
     "metadata": {
      "needs_background": "light"
     },
     "output_type": "display_data"
    },
    {
     "data": {
      "text/plain": [
       "N    0.541976\n",
       "I    0.458024\n",
       "Name: TIPOVUELO, dtype: float64"
      ]
     },
     "execution_count": 48,
     "metadata": {},
     "output_type": "execute_result"
    }
   ],
   "source": [
    "plt.hist(data['TIPOVUELO'], data['TIPOVUELO'].nunique())\n",
    "plt.show()\n",
    "data['TIPOVUELO'].value_counts(normalize = True)"
   ]
  },
  {
   "cell_type": "code",
   "execution_count": 50,
   "id": "2f79c9a9",
   "metadata": {},
   "outputs": [
    {
     "data": {
      "image/png": "[encoded data removed]",
      "text/plain": [
       "<Figure size 432x288 with 1 Axes>"
      ]
     },
     "metadata": {
      "needs_background": "light"
     },
     "output_type": "display_data"
    },
    {
     "data": {
      "text/plain": [
       "LAN    37611\n",
       "SKU    14298\n",
       "TAM     3049\n",
       "ARG     1949\n",
       "CMP     1850\n",
       "LAW     1574\n",
       "AVA     1152\n",
       "JAT     1095\n",
       "GLO      806\n",
       "AAL      757\n",
       "ACA      565\n",
       "IBE      362\n",
       "AFR      358\n",
       "DAL      358\n",
       "AMX      351\n",
       "UAL      335\n",
       "ONE      279\n",
       "AZA      259\n",
       "KLM      251\n",
       "LAP      216\n",
       "BAW      205\n",
       "QFU      195\n",
       "JMR      100\n",
       "LRC       92\n",
       "AUT       74\n",
       "PUE       49\n",
       "LXP        9\n",
       "LPE        4\n",
       "DSM        2\n",
       "LNE        1\n",
       "Name: Emp-I, dtype: int64"
      ]
     },
     "execution_count": 50,
     "metadata": {},
     "output_type": "execute_result"
    }
   ],
   "source": [
    "plt.hist(data['Emp-I'], data['Emp-I'].nunique())\n",
    "plt.show()\n",
    "data['Emp-I'].value_counts()"
   ]
  },
  {
   "cell_type": "code",
   "execution_count": 51,
   "id": "d25cc6b8",
   "metadata": {},
   "outputs": [
    {
     "data": {
      "image/png": "[encoded data removed]",
      "text/plain": [
       "<Figure size 432x288 with 1 Axes>"
      ]
     },
     "metadata": {
      "needs_background": "light"
     },
     "output_type": "display_data"
    },
    {
     "data": {
      "text/plain": [
       "LAN    20988\n",
       "LXP    14558\n",
       "SKU    14298\n",
       "TAM     3046\n",
       "ARG     1946\n",
       "CMP     1850\n",
       "JMR     1647\n",
       "LPE     1214\n",
       "JAT     1095\n",
       "AVA      885\n",
       "GLO      806\n",
       "AAL      757\n",
       "ACA      565\n",
       "DSM      493\n",
       "LNE      374\n",
       "IBE      362\n",
       "DAL      358\n",
       "AFR      358\n",
       "LRC      357\n",
       "AMX      351\n",
       "UAL      335\n",
       "ONE      279\n",
       "AZA      259\n",
       "KLM      251\n",
       "LAP      219\n",
       "BAW      205\n",
       "QFA      195\n",
       "AUT       77\n",
       "PUE       49\n",
       "56R       17\n",
       "48O       10\n",
       "TPU        2\n",
       "Name: Emp-O, dtype: int64"
      ]
     },
     "execution_count": 51,
     "metadata": {},
     "output_type": "execute_result"
    }
   ],
   "source": [
    "plt.hist(data['Emp-O'], data['Emp-O'].nunique())\n",
    "plt.show()\n",
    "data['Emp-O'].value_counts()"
   ]
  },
  {
   "cell_type": "code",
   "execution_count": 53,
   "id": "daaa54fc",
   "metadata": {},
   "outputs": [
    {
     "data": {
      "image/png": "[encoded data removed]",
      "text/plain": [
       "<Figure size 432x288 with 1 Axes>"
      ]
     },
     "metadata": {
      "needs_background": "light"
     },
     "output_type": "display_data"
    },
    {
     "data": {
      "text/plain": [
       "SCFA    5787\n",
       "SPJC    5270\n",
       "SCCF    5145\n",
       "SCTE    4357\n",
       "SCIE    3995\n",
       "        ... \n",
       "SEQM       1\n",
       "SBFI       1\n",
       "SARI       1\n",
       "SPSO       1\n",
       "SLCB       1\n",
       "Name: Des-I, Length: 64, dtype: int64"
      ]
     },
     "execution_count": 53,
     "metadata": {},
     "output_type": "execute_result"
    }
   ],
   "source": [
    "plt.hist(data['Des-I'], data['Des-I'].nunique())\n",
    "plt.show()\n",
    "data['Des-I'].value_counts()"
   ]
  },
  {
   "cell_type": "code",
   "execution_count": 54,
   "id": "d3fc2dc3",
   "metadata": {},
   "outputs": [
    {
     "data": {
      "image/png": "[encoded data removed]",
      "text/plain": [
       "<Figure size 432x288 with 1 Axes>"
      ]
     },
     "metadata": {
      "needs_background": "light"
     },
     "output_type": "display_data"
    },
    {
     "data": {
      "text/plain": [
       "Grupo LATAM                 40892\n",
       "Sky Airline                 14298\n",
       "Aerolineas Argentinas        1949\n",
       "Copa Air                     1850\n",
       "Latin American Wings         1674\n",
       "Avianca                      1152\n",
       "JetSmart SPA                 1095\n",
       "Gol Trans                     806\n",
       "American Airlines             757\n",
       "Air Canada                    565\n",
       "Iberia                        362\n",
       "Delta Air                     358\n",
       "Air France                    358\n",
       "Aeromexico                    351\n",
       "United Airlines               335\n",
       "Oceanair Linhas Aereas        279\n",
       "Alitalia                      259\n",
       "K.L.M.                        251\n",
       "British Airways               205\n",
       "Qantas Airways                195\n",
       "Lacsa                          92\n",
       "Austral                        74\n",
       "Plus Ultra Lineas Aereas       49\n",
       "Name: OPERA, dtype: int64"
      ]
     },
     "execution_count": 54,
     "metadata": {},
     "output_type": "execute_result"
    }
   ],
   "source": [
    "plt.hist(data['OPERA'], data['OPERA'].nunique())\n",
    "plt.show()\n",
    "data['OPERA'].value_counts()"
   ]
  },
  {
   "cell_type": "markdown",
   "id": "a7aa8fb9",
   "metadata": {},
   "source": [
    "### Conclusión\n",
    "#### Importante destacar que solo existe una ciudad de origen del vuelo, que corresponde a Santiago, y considerando que no existe destino Santiago. Podemos concluir que el datasets solo incluye vuelos que despegan desde Santiago. El campo Ori-I y Ori-O podremo ignorarlos ya que no entregan directamente información para entrenar un modelo.\n",
    "#### Considerar que el dataset se basa en un anio de vuelos, 2017\n",
    "#### Notar que en Vlo-I y Vlo-O no mezcla entre string, int y decimal. Importante esta consideración para el procesamiento de datos, en caso de utilizarlos como atributos relevantes en el modelo. "
   ]
  }
 ],
 "metadata": {
  "kernelspec": {
   "display_name": "Python 3",
   "language": "python",
   "name": "python3"
  },
  "language_info": {
   "codemirror_mode": {
    "name": "ipython",
    "version": 3
   },
   "file_extension": ".py",
   "mimetype": "text/x-python",
   "name": "python",
   "nbconvert_exporter": "python",
   "pygments_lexer": "ipython3",
   "version": "3.8.8"
  }
 },
 "nbformat": 4,
 "nbformat_minor": 5
}
